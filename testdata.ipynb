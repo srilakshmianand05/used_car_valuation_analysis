{
 "cells": [
  {
   "cell_type": "code",
   "execution_count": 2,
   "id": "8ea9e231",
   "metadata": {},
   "outputs": [],
   "source": [
    "import pandas as pd\n",
    "import numpy as np\n",
    "from sklearn.preprocessing import LabelEncoder\n",
    "from sklearn.preprocessing import OneHotEncoder\n",
    "import warnings\n",
    "warnings.filterwarnings(\"ignore\")\n",
    "import matplotlib.pyplot as plt\n"
   ]
  },
  {
   "cell_type": "code",
   "execution_count": 3,
   "id": "e24df718",
   "metadata": {},
   "outputs": [],
   "source": [
    "df= pd.read_csv(r'C:\\Users\\Suresh\\OneDrive\\Desktop\\PY BASIC2\\testdataset.csv')"
   ]
  },
  {
   "cell_type": "code",
   "execution_count": 4,
   "id": "6c1cc8f2",
   "metadata": {},
   "outputs": [
    {
     "data": {
      "application/vnd.microsoft.datawrangler.viewer.v0+json": {
       "columns": [
        {
         "name": "index",
         "rawType": "int64",
         "type": "integer"
        },
        {
         "name": "Id",
         "rawType": "int64",
         "type": "integer"
        },
        {
         "name": "Maker",
         "rawType": "object",
         "type": "string"
        },
        {
         "name": "model",
         "rawType": "object",
         "type": "string"
        },
        {
         "name": "Location",
         "rawType": "object",
         "type": "string"
        },
        {
         "name": "Distance ",
         "rawType": "float64",
         "type": "float"
        },
        {
         "name": "Owner Type",
         "rawType": "object",
         "type": "string"
        },
        {
         "name": "manufacture_year",
         "rawType": "int64",
         "type": "integer"
        },
        {
         "name": "Age of car",
         "rawType": "int64",
         "type": "integer"
        },
        {
         "name": "engine_displacement",
         "rawType": "int64",
         "type": "integer"
        },
        {
         "name": "engine_power",
         "rawType": "float64",
         "type": "float"
        },
        {
         "name": "body_type",
         "rawType": "object",
         "type": "unknown"
        },
        {
         "name": "Vroom Audit Rating",
         "rawType": "int64",
         "type": "integer"
        },
        {
         "name": "transmission",
         "rawType": "object",
         "type": "string"
        },
        {
         "name": "door_count",
         "rawType": "float64",
         "type": "float"
        },
        {
         "name": "seat_count",
         "rawType": "float64",
         "type": "float"
        },
        {
         "name": "fuel_type",
         "rawType": "object",
         "type": "string"
        }
       ],
       "conversionMethod": "pd.DataFrame",
       "ref": "bedd5091-cdcf-4ce1-b9b0-8112fd013462",
       "rows": [
        [
         "0",
         "11001",
         "skoda",
         "octavia",
         "Mumbai",
         "150000.0",
         "First",
         "2007",
         "12",
         "1595",
         "75.0",
         null,
         "5",
         "man",
         "4.0",
         "5.0",
         "petrol"
        ],
        [
         "1",
         "11002",
         "skoda",
         "rapid",
         "Coimbatore",
         "29376.0",
         "Third",
         "2014",
         "5",
         "1598",
         "77.0",
         null,
         "4",
         "man",
         "4.0",
         "5.0",
         "diesel"
        ],
        [
         "2",
         "11003",
         "skoda",
         "octavia",
         "Coimbatore",
         "30563.0",
         "Second",
         "2014",
         "5",
         "1968",
         "110.0",
         null,
         "5",
         "man",
         "5.0",
         "5.0",
         "diesel"
        ],
        [
         "3",
         "11004",
         "audi",
         "q3",
         "Delhi",
         "8650.0",
         "Fourth & Above",
         "2015",
         "4",
         "1968",
         "110.0",
         null,
         "8",
         "auto",
         "4.0",
         "5.0",
         "diesel"
        ],
        [
         "4",
         "11005",
         "audi",
         "tt",
         "Chennai",
         "6400.0",
         "Third",
         "2015",
         "4",
         "1984",
         "169.0",
         null,
         "4",
         "auto",
         "2.0",
         null,
         "petrol"
        ],
        [
         "5",
         "11006",
         "audi",
         "tt",
         "Delhi",
         "3000.0",
         "Third",
         "2015",
         "4",
         "1968",
         "135.0",
         null,
         "8",
         "man",
         "2.0",
         "2.0",
         "diesel"
        ],
        [
         "6",
         "11007",
         "bmw",
         "x3",
         "Chennai",
         "10.0",
         "Fourth & Above",
         "2015",
         "4",
         "2979",
         "20.0",
         null,
         "5",
         "auto",
         null,
         "5.0",
         "petrol"
        ],
        [
         "7",
         "11008",
         "audi",
         "q3",
         "Bangalore",
         "18000.0",
         "Third",
         "2014",
         "5",
         "1968",
         "130.0",
         null,
         "6",
         "auto",
         "4.0",
         "5.0",
         "diesel"
        ],
        [
         "8",
         "11009",
         "skoda",
         "octavia",
         "Bangalore",
         "270.0",
         "Fourth & Above",
         "2006",
         "13",
         "2000",
         "103.0",
         "compact",
         "5",
         "man",
         null,
         null,
         "petrol"
        ],
        [
         "9",
         "11010",
         "toyota",
         "auris",
         "Delhi",
         "3000.0",
         "Third",
         "2015",
         "4",
         "1197",
         "85.0",
         null,
         "5",
         "man",
         "4.0",
         "5.0",
         "petrol"
        ]
       ],
       "shape": {
        "columns": 16,
        "rows": 10
       }
      },
      "text/html": [
       "<div>\n",
       "<style scoped>\n",
       "    .dataframe tbody tr th:only-of-type {\n",
       "        vertical-align: middle;\n",
       "    }\n",
       "\n",
       "    .dataframe tbody tr th {\n",
       "        vertical-align: top;\n",
       "    }\n",
       "\n",
       "    .dataframe thead th {\n",
       "        text-align: right;\n",
       "    }\n",
       "</style>\n",
       "<table border=\"1\" class=\"dataframe\">\n",
       "  <thead>\n",
       "    <tr style=\"text-align: right;\">\n",
       "      <th></th>\n",
       "      <th>Id</th>\n",
       "      <th>Maker</th>\n",
       "      <th>model</th>\n",
       "      <th>Location</th>\n",
       "      <th>Distance</th>\n",
       "      <th>Owner Type</th>\n",
       "      <th>manufacture_year</th>\n",
       "      <th>Age of car</th>\n",
       "      <th>engine_displacement</th>\n",
       "      <th>engine_power</th>\n",
       "      <th>body_type</th>\n",
       "      <th>Vroom Audit Rating</th>\n",
       "      <th>transmission</th>\n",
       "      <th>door_count</th>\n",
       "      <th>seat_count</th>\n",
       "      <th>fuel_type</th>\n",
       "    </tr>\n",
       "  </thead>\n",
       "  <tbody>\n",
       "    <tr>\n",
       "      <th>0</th>\n",
       "      <td>11001</td>\n",
       "      <td>skoda</td>\n",
       "      <td>octavia</td>\n",
       "      <td>Mumbai</td>\n",
       "      <td>150000.0</td>\n",
       "      <td>First</td>\n",
       "      <td>2007</td>\n",
       "      <td>12</td>\n",
       "      <td>1595</td>\n",
       "      <td>75.0</td>\n",
       "      <td>NaN</td>\n",
       "      <td>5</td>\n",
       "      <td>man</td>\n",
       "      <td>4.0</td>\n",
       "      <td>5.0</td>\n",
       "      <td>petrol</td>\n",
       "    </tr>\n",
       "    <tr>\n",
       "      <th>1</th>\n",
       "      <td>11002</td>\n",
       "      <td>skoda</td>\n",
       "      <td>rapid</td>\n",
       "      <td>Coimbatore</td>\n",
       "      <td>29376.0</td>\n",
       "      <td>Third</td>\n",
       "      <td>2014</td>\n",
       "      <td>5</td>\n",
       "      <td>1598</td>\n",
       "      <td>77.0</td>\n",
       "      <td>NaN</td>\n",
       "      <td>4</td>\n",
       "      <td>man</td>\n",
       "      <td>4.0</td>\n",
       "      <td>5.0</td>\n",
       "      <td>diesel</td>\n",
       "    </tr>\n",
       "    <tr>\n",
       "      <th>2</th>\n",
       "      <td>11003</td>\n",
       "      <td>skoda</td>\n",
       "      <td>octavia</td>\n",
       "      <td>Coimbatore</td>\n",
       "      <td>30563.0</td>\n",
       "      <td>Second</td>\n",
       "      <td>2014</td>\n",
       "      <td>5</td>\n",
       "      <td>1968</td>\n",
       "      <td>110.0</td>\n",
       "      <td>NaN</td>\n",
       "      <td>5</td>\n",
       "      <td>man</td>\n",
       "      <td>5.0</td>\n",
       "      <td>5.0</td>\n",
       "      <td>diesel</td>\n",
       "    </tr>\n",
       "    <tr>\n",
       "      <th>3</th>\n",
       "      <td>11004</td>\n",
       "      <td>audi</td>\n",
       "      <td>q3</td>\n",
       "      <td>Delhi</td>\n",
       "      <td>8650.0</td>\n",
       "      <td>Fourth &amp; Above</td>\n",
       "      <td>2015</td>\n",
       "      <td>4</td>\n",
       "      <td>1968</td>\n",
       "      <td>110.0</td>\n",
       "      <td>NaN</td>\n",
       "      <td>8</td>\n",
       "      <td>auto</td>\n",
       "      <td>4.0</td>\n",
       "      <td>5.0</td>\n",
       "      <td>diesel</td>\n",
       "    </tr>\n",
       "    <tr>\n",
       "      <th>4</th>\n",
       "      <td>11005</td>\n",
       "      <td>audi</td>\n",
       "      <td>tt</td>\n",
       "      <td>Chennai</td>\n",
       "      <td>6400.0</td>\n",
       "      <td>Third</td>\n",
       "      <td>2015</td>\n",
       "      <td>4</td>\n",
       "      <td>1984</td>\n",
       "      <td>169.0</td>\n",
       "      <td>NaN</td>\n",
       "      <td>4</td>\n",
       "      <td>auto</td>\n",
       "      <td>2.0</td>\n",
       "      <td>NaN</td>\n",
       "      <td>petrol</td>\n",
       "    </tr>\n",
       "    <tr>\n",
       "      <th>5</th>\n",
       "      <td>11006</td>\n",
       "      <td>audi</td>\n",
       "      <td>tt</td>\n",
       "      <td>Delhi</td>\n",
       "      <td>3000.0</td>\n",
       "      <td>Third</td>\n",
       "      <td>2015</td>\n",
       "      <td>4</td>\n",
       "      <td>1968</td>\n",
       "      <td>135.0</td>\n",
       "      <td>NaN</td>\n",
       "      <td>8</td>\n",
       "      <td>man</td>\n",
       "      <td>2.0</td>\n",
       "      <td>2.0</td>\n",
       "      <td>diesel</td>\n",
       "    </tr>\n",
       "    <tr>\n",
       "      <th>6</th>\n",
       "      <td>11007</td>\n",
       "      <td>bmw</td>\n",
       "      <td>x3</td>\n",
       "      <td>Chennai</td>\n",
       "      <td>10.0</td>\n",
       "      <td>Fourth &amp; Above</td>\n",
       "      <td>2015</td>\n",
       "      <td>4</td>\n",
       "      <td>2979</td>\n",
       "      <td>20.0</td>\n",
       "      <td>NaN</td>\n",
       "      <td>5</td>\n",
       "      <td>auto</td>\n",
       "      <td>NaN</td>\n",
       "      <td>5.0</td>\n",
       "      <td>petrol</td>\n",
       "    </tr>\n",
       "    <tr>\n",
       "      <th>7</th>\n",
       "      <td>11008</td>\n",
       "      <td>audi</td>\n",
       "      <td>q3</td>\n",
       "      <td>Bangalore</td>\n",
       "      <td>18000.0</td>\n",
       "      <td>Third</td>\n",
       "      <td>2014</td>\n",
       "      <td>5</td>\n",
       "      <td>1968</td>\n",
       "      <td>130.0</td>\n",
       "      <td>NaN</td>\n",
       "      <td>6</td>\n",
       "      <td>auto</td>\n",
       "      <td>4.0</td>\n",
       "      <td>5.0</td>\n",
       "      <td>diesel</td>\n",
       "    </tr>\n",
       "    <tr>\n",
       "      <th>8</th>\n",
       "      <td>11009</td>\n",
       "      <td>skoda</td>\n",
       "      <td>octavia</td>\n",
       "      <td>Bangalore</td>\n",
       "      <td>270.0</td>\n",
       "      <td>Fourth &amp; Above</td>\n",
       "      <td>2006</td>\n",
       "      <td>13</td>\n",
       "      <td>2000</td>\n",
       "      <td>103.0</td>\n",
       "      <td>compact</td>\n",
       "      <td>5</td>\n",
       "      <td>man</td>\n",
       "      <td>NaN</td>\n",
       "      <td>NaN</td>\n",
       "      <td>petrol</td>\n",
       "    </tr>\n",
       "    <tr>\n",
       "      <th>9</th>\n",
       "      <td>11010</td>\n",
       "      <td>toyota</td>\n",
       "      <td>auris</td>\n",
       "      <td>Delhi</td>\n",
       "      <td>3000.0</td>\n",
       "      <td>Third</td>\n",
       "      <td>2015</td>\n",
       "      <td>4</td>\n",
       "      <td>1197</td>\n",
       "      <td>85.0</td>\n",
       "      <td>NaN</td>\n",
       "      <td>5</td>\n",
       "      <td>man</td>\n",
       "      <td>4.0</td>\n",
       "      <td>5.0</td>\n",
       "      <td>petrol</td>\n",
       "    </tr>\n",
       "  </tbody>\n",
       "</table>\n",
       "</div>"
      ],
      "text/plain": [
       "      Id   Maker    model    Location  Distance       Owner Type  \\\n",
       "0  11001   skoda  octavia      Mumbai   150000.0           First   \n",
       "1  11002   skoda    rapid  Coimbatore    29376.0           Third   \n",
       "2  11003   skoda  octavia  Coimbatore    30563.0          Second   \n",
       "3  11004    audi       q3       Delhi     8650.0  Fourth & Above   \n",
       "4  11005    audi       tt     Chennai     6400.0           Third   \n",
       "5  11006    audi       tt       Delhi     3000.0           Third   \n",
       "6  11007     bmw       x3     Chennai       10.0  Fourth & Above   \n",
       "7  11008    audi       q3   Bangalore    18000.0           Third   \n",
       "8  11009   skoda  octavia   Bangalore      270.0  Fourth & Above   \n",
       "9  11010  toyota    auris       Delhi     3000.0           Third   \n",
       "\n",
       "   manufacture_year  Age of car  engine_displacement  engine_power body_type  \\\n",
       "0              2007          12                 1595          75.0       NaN   \n",
       "1              2014           5                 1598          77.0       NaN   \n",
       "2              2014           5                 1968         110.0       NaN   \n",
       "3              2015           4                 1968         110.0       NaN   \n",
       "4              2015           4                 1984         169.0       NaN   \n",
       "5              2015           4                 1968         135.0       NaN   \n",
       "6              2015           4                 2979          20.0       NaN   \n",
       "7              2014           5                 1968         130.0       NaN   \n",
       "8              2006          13                 2000         103.0   compact   \n",
       "9              2015           4                 1197          85.0       NaN   \n",
       "\n",
       "   Vroom Audit Rating transmission  door_count  seat_count fuel_type  \n",
       "0                   5          man         4.0         5.0    petrol  \n",
       "1                   4          man         4.0         5.0    diesel  \n",
       "2                   5          man         5.0         5.0    diesel  \n",
       "3                   8         auto         4.0         5.0    diesel  \n",
       "4                   4         auto         2.0         NaN    petrol  \n",
       "5                   8          man         2.0         2.0    diesel  \n",
       "6                   5         auto         NaN         5.0    petrol  \n",
       "7                   6         auto         4.0         5.0    diesel  \n",
       "8                   5          man         NaN         NaN    petrol  \n",
       "9                   5          man         4.0         5.0    petrol  "
      ]
     },
     "execution_count": 4,
     "metadata": {},
     "output_type": "execute_result"
    }
   ],
   "source": [
    "df.head(10)"
   ]
  },
  {
   "cell_type": "code",
   "execution_count": 5,
   "id": "ca6e9d9f",
   "metadata": {},
   "outputs": [
    {
     "data": {
      "text/plain": [
       "(5615, 16)"
      ]
     },
     "execution_count": 5,
     "metadata": {},
     "output_type": "execute_result"
    }
   ],
   "source": [
    "df.shape"
   ]
  },
  {
   "cell_type": "code",
   "execution_count": 6,
   "id": "b745f602",
   "metadata": {},
   "outputs": [
    {
     "data": {
      "text/plain": [
       "Id                       int64\n",
       "Maker                   object\n",
       "model                   object\n",
       "Location                object\n",
       "Distance               float64\n",
       "Owner Type              object\n",
       "manufacture_year         int64\n",
       "Age of car               int64\n",
       "engine_displacement      int64\n",
       "engine_power           float64\n",
       "body_type               object\n",
       "Vroom Audit Rating       int64\n",
       "transmission            object\n",
       "door_count             float64\n",
       "seat_count             float64\n",
       "fuel_type               object\n",
       "dtype: object"
      ]
     },
     "execution_count": 6,
     "metadata": {},
     "output_type": "execute_result"
    }
   ],
   "source": [
    "df.dtypes"
   ]
  },
  {
   "cell_type": "code",
   "execution_count": 7,
   "id": "0e672bcd",
   "metadata": {},
   "outputs": [
    {
     "data": {
      "text/plain": [
       "Id                        0\n",
       "Maker                     0\n",
       "model                     0\n",
       "Location                  0\n",
       "Distance                128\n",
       "Owner Type                0\n",
       "manufacture_year          0\n",
       "Age of car                0\n",
       "engine_displacement       0\n",
       "engine_power            168\n",
       "body_type              5193\n",
       "Vroom Audit Rating        0\n",
       "transmission              0\n",
       "door_count              806\n",
       "seat_count              891\n",
       "fuel_type                 0\n",
       "dtype: int64"
      ]
     },
     "execution_count": 7,
     "metadata": {},
     "output_type": "execute_result"
    }
   ],
   "source": [
    "df.isnull().sum()"
   ]
  },
  {
   "cell_type": "code",
   "execution_count": 8,
   "id": "eaf45102",
   "metadata": {},
   "outputs": [],
   "source": [
    "df.drop(columns=['body_type'],inplace=True)"
   ]
  },
  {
   "cell_type": "code",
   "execution_count": 9,
   "id": "52a858fc",
   "metadata": {},
   "outputs": [
    {
     "data": {
      "text/plain": [
       "Id                       0\n",
       "Maker                    0\n",
       "model                    0\n",
       "Location                 0\n",
       "Distance               128\n",
       "Owner Type               0\n",
       "manufacture_year         0\n",
       "Age of car               0\n",
       "engine_displacement      0\n",
       "engine_power           168\n",
       "Vroom Audit Rating       0\n",
       "transmission             0\n",
       "door_count             806\n",
       "seat_count             891\n",
       "fuel_type                0\n",
       "dtype: int64"
      ]
     },
     "execution_count": 9,
     "metadata": {},
     "output_type": "execute_result"
    }
   ],
   "source": [
    "df.isnull().sum()"
   ]
  },
  {
   "cell_type": "code",
   "execution_count": 10,
   "id": "370b1844",
   "metadata": {},
   "outputs": [],
   "source": [
    "df.dropna(subset=['Distance '],inplace=True)"
   ]
  },
  {
   "cell_type": "code",
   "execution_count": 11,
   "id": "edf142e2",
   "metadata": {},
   "outputs": [
    {
     "data": {
      "text/plain": [
       "(5487, 15)"
      ]
     },
     "execution_count": 11,
     "metadata": {},
     "output_type": "execute_result"
    }
   ],
   "source": [
    "df.shape"
   ]
  },
  {
   "cell_type": "code",
   "execution_count": 12,
   "id": "f8e2b4d4",
   "metadata": {},
   "outputs": [
    {
     "data": {
      "text/plain": [
       "Id                       0\n",
       "Maker                    0\n",
       "model                    0\n",
       "Location                 0\n",
       "Distance                 0\n",
       "Owner Type               0\n",
       "manufacture_year         0\n",
       "Age of car               0\n",
       "engine_displacement      0\n",
       "engine_power           139\n",
       "Vroom Audit Rating       0\n",
       "transmission             0\n",
       "door_count             680\n",
       "seat_count             765\n",
       "fuel_type                0\n",
       "dtype: int64"
      ]
     },
     "execution_count": 12,
     "metadata": {},
     "output_type": "execute_result"
    }
   ],
   "source": [
    "df.isnull().sum()"
   ]
  },
  {
   "cell_type": "code",
   "execution_count": 13,
   "id": "252e821f",
   "metadata": {},
   "outputs": [
    {
     "data": {
      "text/plain": [
       "np.float64(90.0)"
      ]
     },
     "execution_count": 13,
     "metadata": {},
     "output_type": "execute_result"
    }
   ],
   "source": [
    "df['engine_power'].median()"
   ]
  },
  {
   "cell_type": "code",
   "execution_count": 14,
   "id": "e9ff2585",
   "metadata": {},
   "outputs": [
    {
     "data": {
      "text/plain": [
       "np.float64(99.61667913238594)"
      ]
     },
     "execution_count": 14,
     "metadata": {},
     "output_type": "execute_result"
    }
   ],
   "source": [
    "df['engine_power'].mean()"
   ]
  },
  {
   "cell_type": "code",
   "execution_count": 15,
   "id": "8db53dd9",
   "metadata": {},
   "outputs": [],
   "source": [
    "df['engine_power'].fillna(df['engine_power'].median(),inplace=True)"
   ]
  },
  {
   "cell_type": "code",
   "execution_count": 16,
   "id": "63be12b3",
   "metadata": {},
   "outputs": [
    {
     "data": {
      "text/plain": [
       "array([ 4.,  5.,  2., nan,  3.,  6.])"
      ]
     },
     "execution_count": 16,
     "metadata": {},
     "output_type": "execute_result"
    }
   ],
   "source": [
    "df['door_count'].unique()"
   ]
  },
  {
   "cell_type": "code",
   "execution_count": 17,
   "id": "3d4206b4",
   "metadata": {},
   "outputs": [
    {
     "data": {
      "text/plain": [
       "door_count\n",
       "4.0    3581\n",
       "5.0     775\n",
       "2.0     431\n",
       "3.0      19\n",
       "6.0       1\n",
       "Name: count, dtype: int64"
      ]
     },
     "execution_count": 17,
     "metadata": {},
     "output_type": "execute_result"
    }
   ],
   "source": [
    "df['door_count'].value_counts()"
   ]
  },
  {
   "cell_type": "code",
   "execution_count": 18,
   "id": "35eba6b1",
   "metadata": {},
   "outputs": [
    {
     "data": {
      "text/plain": [
       "0    4.0\n",
       "Name: door_count, dtype: float64"
      ]
     },
     "execution_count": 18,
     "metadata": {},
     "output_type": "execute_result"
    }
   ],
   "source": [
    "df['door_count'].mode()"
   ]
  },
  {
   "cell_type": "code",
   "execution_count": 19,
   "id": "6aed5862",
   "metadata": {},
   "outputs": [],
   "source": [
    "df['door_count'].fillna(4.0,inplace=True)"
   ]
  },
  {
   "cell_type": "code",
   "execution_count": 20,
   "id": "93e23423",
   "metadata": {},
   "outputs": [
    {
     "data": {
      "text/plain": [
       "array([ 5., nan,  2.,  4.,  7.,  3.])"
      ]
     },
     "execution_count": 20,
     "metadata": {},
     "output_type": "execute_result"
    }
   ],
   "source": [
    "df['seat_count'].unique()"
   ]
  },
  {
   "cell_type": "code",
   "execution_count": 21,
   "id": "20ab0d0c",
   "metadata": {},
   "outputs": [
    {
     "data": {
      "text/plain": [
       "seat_count\n",
       "5.0    4098\n",
       "4.0     455\n",
       "7.0      82\n",
       "2.0      79\n",
       "3.0       8\n",
       "Name: count, dtype: int64"
      ]
     },
     "execution_count": 21,
     "metadata": {},
     "output_type": "execute_result"
    }
   ],
   "source": [
    "df['seat_count'].value_counts()"
   ]
  },
  {
   "cell_type": "code",
   "execution_count": 22,
   "id": "f8e78ade",
   "metadata": {},
   "outputs": [
    {
     "data": {
      "text/plain": [
       "0    5.0\n",
       "Name: seat_count, dtype: float64"
      ]
     },
     "execution_count": 22,
     "metadata": {},
     "output_type": "execute_result"
    }
   ],
   "source": [
    "df['seat_count'].mode()"
   ]
  },
  {
   "cell_type": "code",
   "execution_count": 23,
   "id": "43ae891e",
   "metadata": {},
   "outputs": [],
   "source": [
    "df['seat_count'].fillna(5.0,inplace=True)"
   ]
  },
  {
   "cell_type": "code",
   "execution_count": 24,
   "id": "c7507471",
   "metadata": {},
   "outputs": [
    {
     "data": {
      "text/plain": [
       "Id                     0\n",
       "Maker                  0\n",
       "model                  0\n",
       "Location               0\n",
       "Distance               0\n",
       "Owner Type             0\n",
       "manufacture_year       0\n",
       "Age of car             0\n",
       "engine_displacement    0\n",
       "engine_power           0\n",
       "Vroom Audit Rating     0\n",
       "transmission           0\n",
       "door_count             0\n",
       "seat_count             0\n",
       "fuel_type              0\n",
       "dtype: int64"
      ]
     },
     "execution_count": 24,
     "metadata": {},
     "output_type": "execute_result"
    }
   ],
   "source": [
    "df.isnull().sum()"
   ]
  },
  {
   "cell_type": "code",
   "execution_count": 25,
   "id": "bb6a71cd",
   "metadata": {},
   "outputs": [
    {
     "data": {
      "text/plain": [
       "array(['petrol', 'diesel'], dtype=object)"
      ]
     },
     "execution_count": 25,
     "metadata": {},
     "output_type": "execute_result"
    }
   ],
   "source": [
    "df['fuel_type'].unique()"
   ]
  },
  {
   "cell_type": "code",
   "execution_count": 26,
   "id": "ab0f7cd9",
   "metadata": {},
   "outputs": [
    {
     "data": {
      "text/plain": [
       "array(['man', 'auto'], dtype=object)"
      ]
     },
     "execution_count": 26,
     "metadata": {},
     "output_type": "execute_result"
    }
   ],
   "source": [
    "df['transmission'].unique()"
   ]
  },
  {
   "cell_type": "code",
   "execution_count": 27,
   "id": "f83b58d9",
   "metadata": {},
   "outputs": [],
   "source": [
    "df['fuel_type'].replace({'petrol':1,'diesel':0},inplace=True)"
   ]
  },
  {
   "cell_type": "code",
   "execution_count": 28,
   "id": "24aa655c",
   "metadata": {},
   "outputs": [
    {
     "data": {
      "text/plain": [
       "array([1, 0])"
      ]
     },
     "execution_count": 28,
     "metadata": {},
     "output_type": "execute_result"
    }
   ],
   "source": [
    "df['fuel_type'].unique()"
   ]
  },
  {
   "cell_type": "code",
   "execution_count": 29,
   "id": "87186506",
   "metadata": {},
   "outputs": [],
   "source": [
    "df['transmission'].replace({'man':1,'auto':0},inplace=True)"
   ]
  },
  {
   "cell_type": "code",
   "execution_count": 30,
   "id": "1c54ee9a",
   "metadata": {},
   "outputs": [
    {
     "data": {
      "text/plain": [
       "array([1, 0])"
      ]
     },
     "execution_count": 30,
     "metadata": {},
     "output_type": "execute_result"
    }
   ],
   "source": [
    "df['transmission'].unique()"
   ]
  },
  {
   "cell_type": "code",
   "execution_count": 31,
   "id": "b18db362",
   "metadata": {},
   "outputs": [
    {
     "data": {
      "text/plain": [
       "Id                       int64\n",
       "Maker                   object\n",
       "model                   object\n",
       "Location                object\n",
       "Distance               float64\n",
       "Owner Type              object\n",
       "manufacture_year         int64\n",
       "Age of car               int64\n",
       "engine_displacement      int64\n",
       "engine_power           float64\n",
       "Vroom Audit Rating       int64\n",
       "transmission             int64\n",
       "door_count             float64\n",
       "seat_count             float64\n",
       "fuel_type                int64\n",
       "dtype: object"
      ]
     },
     "execution_count": 31,
     "metadata": {},
     "output_type": "execute_result"
    }
   ],
   "source": [
    "df.dtypes"
   ]
  },
  {
   "cell_type": "code",
   "execution_count": 32,
   "id": "8c466579",
   "metadata": {},
   "outputs": [],
   "source": [
    "le = LabelEncoder()\n",
    "ohe = OneHotEncoder()"
   ]
  },
  {
   "cell_type": "code",
   "execution_count": 33,
   "id": "2a9651bf",
   "metadata": {},
   "outputs": [],
   "source": [
    "df['Maker'] = le.fit_transform(df['Maker'])"
   ]
  },
  {
   "cell_type": "code",
   "execution_count": 34,
   "id": "e8ecf77e",
   "metadata": {},
   "outputs": [],
   "source": [
    "df['Distance '] =le.fit_transform(df['Distance '])"
   ]
  },
  {
   "cell_type": "code",
   "execution_count": 35,
   "id": "5ff75730",
   "metadata": {},
   "outputs": [],
   "source": [
    "df['Owner Type'] = le.fit_transform(df['Owner Type'])"
   ]
  },
  {
   "cell_type": "code",
   "execution_count": 36,
   "id": "d7a800ec",
   "metadata": {},
   "outputs": [],
   "source": [
    "df['model'] = le.fit_transform(df['model'])"
   ]
  },
  {
   "cell_type": "code",
   "execution_count": 37,
   "id": "ca7c9b3c",
   "metadata": {},
   "outputs": [],
   "source": [
    "df['Location'] = le.fit_transform(df['Location'])"
   ]
  },
  {
   "cell_type": "code",
   "execution_count": 38,
   "id": "b06601b6",
   "metadata": {},
   "outputs": [
    {
     "data": {
      "text/plain": [
       "Id                       int64\n",
       "Maker                    int64\n",
       "model                    int64\n",
       "Location                 int64\n",
       "Distance                 int64\n",
       "Owner Type               int64\n",
       "manufacture_year         int64\n",
       "Age of car               int64\n",
       "engine_displacement      int64\n",
       "engine_power           float64\n",
       "Vroom Audit Rating       int64\n",
       "transmission             int64\n",
       "door_count             float64\n",
       "seat_count             float64\n",
       "fuel_type                int64\n",
       "dtype: object"
      ]
     },
     "execution_count": 38,
     "metadata": {},
     "output_type": "execute_result"
    }
   ],
   "source": [
    "df.dtypes"
   ]
  },
  {
   "cell_type": "code",
   "execution_count": 39,
   "id": "9658512f",
   "metadata": {},
   "outputs": [
    {
     "data": {
      "text/plain": [
       "Id                     0\n",
       "Maker                  0\n",
       "model                  0\n",
       "Location               0\n",
       "Distance               0\n",
       "Owner Type             0\n",
       "manufacture_year       0\n",
       "Age of car             0\n",
       "engine_displacement    0\n",
       "engine_power           0\n",
       "Vroom Audit Rating     0\n",
       "transmission           0\n",
       "door_count             0\n",
       "seat_count             0\n",
       "fuel_type              0\n",
       "dtype: int64"
      ]
     },
     "execution_count": 39,
     "metadata": {},
     "output_type": "execute_result"
    }
   ],
   "source": [
    "df.isnull().sum()"
   ]
  },
  {
   "cell_type": "code",
   "execution_count": 40,
   "id": "db3241e0",
   "metadata": {},
   "outputs": [
    {
     "data": {
      "text/plain": [
       "<Axes: >"
      ]
     },
     "execution_count": 40,
     "metadata": {},
     "output_type": "execute_result"
    },
    {
     "data": {
      "image/png": "[encoded data removed]",
      "text/plain": [
       "<Figure size 1000x500 with 1 Axes>"
      ]
     },
     "metadata": {},
     "output_type": "display_data"
    }
   ],
   "source": [
    "df.boxplot(figsize=(10,5),fontsize=10)"
   ]
  },
  {
   "cell_type": "code",
   "execution_count": 41,
   "id": "2db9cc24",
   "metadata": {},
   "outputs": [],
   "source": [
    "q1=df.quantile(0.25)"
   ]
  },
  {
   "cell_type": "code",
   "execution_count": 42,
   "id": "9049540e",
   "metadata": {},
   "outputs": [],
   "source": [
    "q3=df.quantile(0.75)"
   ]
  },
  {
   "cell_type": "code",
   "execution_count": 43,
   "id": "d50ef7b0",
   "metadata": {},
   "outputs": [],
   "source": [
    "IQR=q3-q1"
   ]
  },
  {
   "cell_type": "code",
   "execution_count": 44,
   "id": "b1a4324d",
   "metadata": {},
   "outputs": [],
   "source": [
    "LL=q1-(1.5*IQR)"
   ]
  },
  {
   "cell_type": "code",
   "execution_count": 45,
   "id": "9a59b7c0",
   "metadata": {},
   "outputs": [],
   "source": [
    "UL=q3+(1.5*IQR)"
   ]
  },
  {
   "cell_type": "code",
   "execution_count": 46,
   "id": "c6fc1828",
   "metadata": {},
   "outputs": [
    {
     "data": {
      "image/png": "[encoded data removed]",
      "text/plain": [
       "<Figure size 1000x500 with 1 Axes>"
      ]
     },
     "metadata": {},
     "output_type": "display_data"
    }
   ],
   "source": [
    "df.boxplot(figsize=(10,5),fontsize=10)\n",
    "plt.show()"
   ]
  },
  {
   "cell_type": "code",
   "execution_count": 47,
   "id": "81a33d60",
   "metadata": {},
   "outputs": [],
   "source": [
    "df1=df[(df>=LL) & (df<=UL)]"
   ]
  },
  {
   "cell_type": "code",
   "execution_count": 48,
   "id": "559684dc",
   "metadata": {},
   "outputs": [
    {
     "data": {
      "image/png": "[encoded data removed]",
      "text/plain": [
       "<Figure size 1000x500 with 1 Axes>"
      ]
     },
     "metadata": {},
     "output_type": "display_data"
    }
   ],
   "source": [
    "df1.boxplot(figsize=(10,5),fontsize=10)\n",
    "plt.show()"
   ]
  },
  {
   "cell_type": "code",
   "execution_count": 49,
   "id": "f7a1aa44",
   "metadata": {},
   "outputs": [
    {
     "data": {
      "image/png": "[encoded data removed]",
      "text/plain": [
       "<Figure size 1000x500 with 1 Axes>"
      ]
     },
     "metadata": {},
     "output_type": "display_data"
    }
   ],
   "source": [
    "df[['engine_power']].boxplot(figsize=(10,5),fontsize=10)\n",
    "plt.show()"
   ]
  },
  {
   "cell_type": "code",
   "execution_count": 50,
   "id": "81f59c73",
   "metadata": {},
   "outputs": [
    {
     "data": {
      "text/plain": [
       "Id                     0\n",
       "Maker                  0\n",
       "model                  0\n",
       "Location               0\n",
       "Distance               0\n",
       "Owner Type             0\n",
       "manufacture_year       0\n",
       "Age of car             0\n",
       "engine_displacement    0\n",
       "engine_power           0\n",
       "Vroom Audit Rating     0\n",
       "transmission           0\n",
       "door_count             0\n",
       "seat_count             0\n",
       "fuel_type              0\n",
       "dtype: int64"
      ]
     },
     "execution_count": 50,
     "metadata": {},
     "output_type": "execute_result"
    }
   ],
   "source": [
    "df.isnull().sum()"
   ]
  },
  {
   "cell_type": "code",
   "execution_count": 51,
   "id": "9b53e2c2",
   "metadata": {},
   "outputs": [
    {
     "data": {
      "text/plain": [
       "Index(['Id', 'Maker', 'model', 'Location', 'Distance ', 'Owner Type',\n",
       "       'manufacture_year', 'Age of car', 'engine_displacement', 'engine_power',\n",
       "       'Vroom Audit Rating', 'transmission', 'door_count', 'seat_count',\n",
       "       'fuel_type'],\n",
       "      dtype='object')"
      ]
     },
     "execution_count": 51,
     "metadata": {},
     "output_type": "execute_result"
    }
   ],
   "source": [
    "df1.columns"
   ]
  },
  {
   "cell_type": "code",
   "execution_count": 52,
   "id": "1fabefb5",
   "metadata": {},
   "outputs": [
    {
     "data": {
      "image/png": "[encoded data removed]",
      "text/plain": [
       "<Figure size 1000x500 with 1 Axes>"
      ]
     },
     "metadata": {},
     "output_type": "display_data"
    }
   ],
   "source": [
    "df1[['Id', 'Maker', 'model', 'Location']].boxplot(figsize=(10,5),fontsize=10)\n",
    "plt.show()"
   ]
  },
  {
   "cell_type": "code",
   "execution_count": 53,
   "id": "dc3e3eb3",
   "metadata": {},
   "outputs": [
    {
     "data": {
      "image/png": "[encoded data removed]",
      "text/plain": [
       "<Figure size 1000x500 with 1 Axes>"
      ]
     },
     "metadata": {},
     "output_type": "display_data"
    }
   ],
   "source": [
    "df1[['Distance ', 'Owner Type',\n",
    "       'manufacture_year', 'Age of car']].boxplot(figsize=(10,5),fontsize=10)\n",
    "plt.show()"
   ]
  },
  {
   "cell_type": "code",
   "execution_count": 54,
   "id": "e807b4b0",
   "metadata": {},
   "outputs": [
    {
     "data": {
      "image/png": "[encoded data removed]",
      "text/plain": [
       "<Figure size 1000x500 with 1 Axes>"
      ]
     },
     "metadata": {},
     "output_type": "display_data"
    }
   ],
   "source": [
    "df1[['engine_displacement', 'engine_power',\n",
    "       'Vroom Audit Rating', 'transmission']].boxplot(figsize=(10,5),fontsize=10)\n",
    "plt.show()"
   ]
  },
  {
   "cell_type": "code",
   "execution_count": 55,
   "id": "f0b53a15",
   "metadata": {},
   "outputs": [
    {
     "data": {
      "image/png": "[encoded data removed]",
      "text/plain": [
       "<Figure size 1000x500 with 1 Axes>"
      ]
     },
     "metadata": {},
     "output_type": "display_data"
    }
   ],
   "source": [
    "df[[ 'door_count', 'seat_count',\n",
    "       'fuel_type']].boxplot(figsize=(10,5),fontsize=10)\n",
    "plt.show()"
   ]
  },
  {
   "cell_type": "code",
   "execution_count": 56,
   "id": "a87d1fd0",
   "metadata": {},
   "outputs": [],
   "source": [
    "q1=df1['engine_power'].quantile(0.25)"
   ]
  },
  {
   "cell_type": "code",
   "execution_count": 57,
   "id": "f9d61980",
   "metadata": {},
   "outputs": [],
   "source": [
    "q3=df1['engine_power'].quantile(0.75)"
   ]
  },
  {
   "cell_type": "code",
   "execution_count": 58,
   "id": "dfd06d2d",
   "metadata": {},
   "outputs": [],
   "source": [
    "IQR=q3-q1"
   ]
  },
  {
   "cell_type": "code",
   "execution_count": 59,
   "id": "63a35ab0",
   "metadata": {},
   "outputs": [],
   "source": [
    "LL=q1-(1.5*IQR)"
   ]
  },
  {
   "cell_type": "code",
   "execution_count": 60,
   "id": "293154a6",
   "metadata": {},
   "outputs": [],
   "source": [
    "UL=q3+(1.5*IQR)"
   ]
  },
  {
   "cell_type": "code",
   "execution_count": 61,
   "id": "cdcaeaed",
   "metadata": {},
   "outputs": [],
   "source": [
    "df2=df1[(df1['engine_power']>=LL) & (df1['engine_power']<=UL)]"
   ]
  },
  {
   "cell_type": "code",
   "execution_count": 62,
   "id": "15e5a6bf",
   "metadata": {},
   "outputs": [
    {
     "data": {
      "image/png": "[encoded data removed]",
      "text/plain": [
       "<Figure size 1000x500 with 1 Axes>"
      ]
     },
     "metadata": {},
     "output_type": "display_data"
    }
   ],
   "source": [
    "df2[['engine_power']].boxplot(figsize=(10,5),fontsize=10)\n",
    "plt.show()"
   ]
  },
  {
   "cell_type": "code",
   "execution_count": 63,
   "id": "f4d0b7f1",
   "metadata": {},
   "outputs": [],
   "source": [
    "q1=df2['engine_power'].quantile(0.25)"
   ]
  },
  {
   "cell_type": "code",
   "execution_count": 64,
   "id": "5e6845ba",
   "metadata": {},
   "outputs": [],
   "source": [
    "q3=df2['engine_power'].quantile(0.75)"
   ]
  },
  {
   "cell_type": "code",
   "execution_count": 65,
   "id": "aa8f0196",
   "metadata": {},
   "outputs": [],
   "source": [
    "IQR=q3-q1"
   ]
  },
  {
   "cell_type": "code",
   "execution_count": 66,
   "id": "7d111241",
   "metadata": {},
   "outputs": [],
   "source": [
    "LL=q1-(1.5*IQR)"
   ]
  },
  {
   "cell_type": "code",
   "execution_count": 67,
   "id": "1411f7a3",
   "metadata": {},
   "outputs": [],
   "source": [
    "UL=q3+(1.5*IQR)"
   ]
  },
  {
   "cell_type": "code",
   "execution_count": 68,
   "id": "bde93182",
   "metadata": {},
   "outputs": [],
   "source": [
    "df3=df2[(df2['engine_power']>=LL) & (df2['engine_power']<=UL)]"
   ]
  },
  {
   "cell_type": "code",
   "execution_count": 69,
   "id": "ddc2a3d6",
   "metadata": {},
   "outputs": [
    {
     "data": {
      "image/png": "[encoded data removed]",
      "text/plain": [
       "<Figure size 1000x500 with 1 Axes>"
      ]
     },
     "metadata": {},
     "output_type": "display_data"
    }
   ],
   "source": [
    "df3[['engine_power']].boxplot(figsize=(10,5),fontsize=10)\n",
    "plt.show()"
   ]
  },
  {
   "cell_type": "code",
   "execution_count": 70,
   "id": "67334022",
   "metadata": {},
   "outputs": [],
   "source": [
    "q1=df1['door_count'].quantile(0.25)\n"
   ]
  },
  {
   "cell_type": "code",
   "execution_count": 71,
   "id": "0adb44d0",
   "metadata": {},
   "outputs": [],
   "source": [
    "q3=df1['door_count'].quantile(0.75)"
   ]
  },
  {
   "cell_type": "code",
   "execution_count": 72,
   "id": "ce42fb03",
   "metadata": {},
   "outputs": [],
   "source": [
    "IQR=q3-q1"
   ]
  },
  {
   "cell_type": "code",
   "execution_count": 73,
   "id": "62c5bc61",
   "metadata": {},
   "outputs": [],
   "source": [
    "LL=q1-(1.5*IQR)"
   ]
  },
  {
   "cell_type": "code",
   "execution_count": 74,
   "id": "57bf8732",
   "metadata": {},
   "outputs": [],
   "source": [
    "UL=q3+(1.5*IQR)"
   ]
  },
  {
   "cell_type": "code",
   "execution_count": 75,
   "id": "df132c91",
   "metadata": {},
   "outputs": [],
   "source": [
    "df2=df1[(df1['door_count']>=LL) & (df1['door_count']<=UL)]"
   ]
  },
  {
   "cell_type": "code",
   "execution_count": 76,
   "id": "9f39aa88",
   "metadata": {},
   "outputs": [
    {
     "data": {
      "image/png": "[encoded data removed]",
      "text/plain": [
       "<Figure size 1000x500 with 1 Axes>"
      ]
     },
     "metadata": {},
     "output_type": "display_data"
    }
   ],
   "source": [
    "df2[['door_count']].boxplot(figsize=(10,5),fontsize=10)\n",
    "plt.show()"
   ]
  },
  {
   "cell_type": "code",
   "execution_count": 77,
   "id": "5f687a11",
   "metadata": {},
   "outputs": [],
   "source": [
    "q1=df1['seat_count'].quantile(0.25)"
   ]
  },
  {
   "cell_type": "code",
   "execution_count": 78,
   "id": "65999b5a",
   "metadata": {},
   "outputs": [],
   "source": [
    "q3=df1['seat_count'].quantile(0.75)"
   ]
  },
  {
   "cell_type": "code",
   "execution_count": 79,
   "id": "2e400775",
   "metadata": {},
   "outputs": [],
   "source": [
    "IQR=q3-q1"
   ]
  },
  {
   "cell_type": "code",
   "execution_count": 80,
   "id": "132ff8bc",
   "metadata": {},
   "outputs": [],
   "source": [
    "LL=q1-(1.5*IQR)"
   ]
  },
  {
   "cell_type": "code",
   "execution_count": 81,
   "id": "da0db8c9",
   "metadata": {},
   "outputs": [],
   "source": [
    "UL=q3+(1.5*IQR)"
   ]
  },
  {
   "cell_type": "code",
   "execution_count": 82,
   "id": "a20071f3",
   "metadata": {},
   "outputs": [],
   "source": [
    "df2=df1[(df1['seat_count']>=LL) & (df1['seat_count']<=UL)]"
   ]
  },
  {
   "cell_type": "code",
   "execution_count": 83,
   "id": "cc6f82c0",
   "metadata": {},
   "outputs": [
    {
     "data": {
      "image/png": "[encoded data removed]",
      "text/plain": [
       "<Figure size 1000x500 with 1 Axes>"
      ]
     },
     "metadata": {},
     "output_type": "display_data"
    }
   ],
   "source": [
    "df2[['seat_count']].boxplot(figsize=(10,5),fontsize=10)\n",
    "plt.show()"
   ]
  },
  {
   "cell_type": "code",
   "execution_count": 84,
   "id": "d66648d3",
   "metadata": {},
   "outputs": [
    {
     "data": {
      "image/png": "[encoded data removed]",
      "text/plain": [
       "<Figure size 1000x500 with 1 Axes>"
      ]
     },
     "metadata": {},
     "output_type": "display_data"
    }
   ],
   "source": [
    "df3[['engine_power','door_count','seat_count']].boxplot(figsize=(10,5),fontsize=10)\n",
    "plt.show()"
   ]
  },
  {
   "cell_type": "code",
   "execution_count": 85,
   "id": "9e6979d3",
   "metadata": {},
   "outputs": [
    {
     "data": {
      "text/plain": [
       "Id                        0\n",
       "Maker                     0\n",
       "model                     0\n",
       "Location                  0\n",
       "Distance                  0\n",
       "Owner Type                0\n",
       "manufacture_year         46\n",
       "Age of car               46\n",
       "engine_displacement     103\n",
       "engine_power              0\n",
       "Vroom Audit Rating        0\n",
       "transmission              0\n",
       "door_count             1126\n",
       "seat_count              502\n",
       "fuel_type                 0\n",
       "dtype: int64"
      ]
     },
     "execution_count": 85,
     "metadata": {},
     "output_type": "execute_result"
    }
   ],
   "source": [
    "df3.isnull().sum()"
   ]
  },
  {
   "cell_type": "code",
   "execution_count": 86,
   "id": "45b86aa4",
   "metadata": {},
   "outputs": [],
   "source": [
    "df3['manufacture_year'].value_counts()\n",
    "df1['manufacture_year'].fillna(2015.0,inplace=True)"
   ]
  },
  {
   "cell_type": "code",
   "execution_count": 87,
   "id": "ee71df22",
   "metadata": {},
   "outputs": [],
   "source": [
    "df3['Age of car'].value_counts()\n",
    "df3['Age of car'].fillna(4.0,inplace=True)\n"
   ]
  },
  {
   "cell_type": "code",
   "execution_count": 88,
   "id": "2072ae77",
   "metadata": {},
   "outputs": [],
   "source": [
    "df3['engine_displacement'].value_counts()\n",
    "df3['engine_displacement'].fillna(1968.0,inplace=True)"
   ]
  },
  {
   "cell_type": "code",
   "execution_count": 89,
   "id": "3c0a396b",
   "metadata": {},
   "outputs": [],
   "source": [
    "df3['door_count'].value_counts()\n",
    "df3['door_count'].fillna(4.0,inplace=True)"
   ]
  },
  {
   "cell_type": "code",
   "execution_count": 90,
   "id": "13a18160",
   "metadata": {},
   "outputs": [],
   "source": [
    "df3['seat_count'].value_counts()\n",
    "df3['seat_count'].fillna(5.0,inplace=True)"
   ]
  },
  {
   "cell_type": "code",
   "execution_count": 91,
   "id": "e4b473aa",
   "metadata": {},
   "outputs": [
    {
     "data": {
      "text/plain": [
       "Id                      0\n",
       "Maker                   0\n",
       "model                   0\n",
       "Location                0\n",
       "Distance                0\n",
       "Owner Type              0\n",
       "manufacture_year       46\n",
       "Age of car              0\n",
       "engine_displacement     0\n",
       "engine_power            0\n",
       "Vroom Audit Rating      0\n",
       "transmission            0\n",
       "door_count              0\n",
       "seat_count              0\n",
       "fuel_type               0\n",
       "dtype: int64"
      ]
     },
     "execution_count": 91,
     "metadata": {},
     "output_type": "execute_result"
    }
   ],
   "source": [
    "df3.isnull().sum()"
   ]
  },
  {
   "cell_type": "code",
   "execution_count": 92,
   "id": "1a37a710",
   "metadata": {},
   "outputs": [
    {
     "data": {
      "text/plain": [
       "Index(['Id', 'Maker', 'model', 'Location', 'Distance ', 'Owner Type',\n",
       "       'manufacture_year', 'Age of car', 'engine_displacement', 'engine_power',\n",
       "       'Vroom Audit Rating', 'transmission', 'door_count', 'seat_count',\n",
       "       'fuel_type'],\n",
       "      dtype='object')"
      ]
     },
     "execution_count": 92,
     "metadata": {},
     "output_type": "execute_result"
    }
   ],
   "source": [
    "df3.columns"
   ]
  },
  {
   "cell_type": "code",
   "execution_count": 93,
   "id": "08b9bb89",
   "metadata": {},
   "outputs": [
    {
     "data": {
      "image/png": "[encoded data removed]",
      "text/plain": [
       "<Figure size 1000x500 with 1 Axes>"
      ]
     },
     "metadata": {},
     "output_type": "display_data"
    }
   ],
   "source": [
    "df3.boxplot(figsize=(10,5),fontsize=10)\n",
    "plt.show()"
   ]
  },
  {
   "cell_type": "code",
   "execution_count": 94,
   "id": "1f5a54b1",
   "metadata": {},
   "outputs": [],
   "source": [
    "q1=df3['transmission'].quantile(0.25)\n"
   ]
  },
  {
   "cell_type": "code",
   "execution_count": 95,
   "id": "915bbf1c",
   "metadata": {},
   "outputs": [],
   "source": [
    "q3=df3['transmission'].quantile(0.75)"
   ]
  },
  {
   "cell_type": "code",
   "execution_count": 96,
   "id": "309ef141",
   "metadata": {},
   "outputs": [],
   "source": [
    "IQR=q3-q1"
   ]
  },
  {
   "cell_type": "code",
   "execution_count": 97,
   "id": "011bff39",
   "metadata": {},
   "outputs": [],
   "source": [
    "LL=q1-(1.5*IQR)"
   ]
  },
  {
   "cell_type": "code",
   "execution_count": 98,
   "id": "e361d8fb",
   "metadata": {},
   "outputs": [],
   "source": [
    "UL=q3+(1.5*IQR)"
   ]
  },
  {
   "cell_type": "code",
   "execution_count": 99,
   "id": "eefcb66b",
   "metadata": {},
   "outputs": [],
   "source": [
    "df4=df3[(df3['transmission']>=LL) & (df3['transmission']<=UL)]"
   ]
  },
  {
   "cell_type": "code",
   "execution_count": 100,
   "id": "728a7f8c",
   "metadata": {},
   "outputs": [
    {
     "data": {
      "image/png": "[encoded data removed]",
      "text/plain": [
       "<Figure size 1000x500 with 1 Axes>"
      ]
     },
     "metadata": {},
     "output_type": "display_data"
    }
   ],
   "source": [
    "df4[['transmission']].boxplot(figsize=(10,5),fontsize=10)\n",
    "plt.show()"
   ]
  },
  {
   "cell_type": "code",
   "execution_count": 101,
   "id": "a39bc7bc",
   "metadata": {},
   "outputs": [
    {
     "data": {
      "image/png": "[encoded data removed]",
      "text/plain": [
       "<Figure size 1000x500 with 1 Axes>"
      ]
     },
     "metadata": {},
     "output_type": "display_data"
    }
   ],
   "source": [
    "df4.boxplot(figsize=(10,5),fontsize=10)\n",
    "plt.show()"
   ]
  },
  {
   "cell_type": "code",
   "execution_count": 102,
   "id": "32346131",
   "metadata": {},
   "outputs": [
    {
     "data": {
      "text/plain": [
       "Index(['Id', 'Maker', 'model', 'Location', 'Distance ', 'Owner Type',\n",
       "       'manufacture_year', 'Age of car', 'engine_displacement', 'engine_power',\n",
       "       'Vroom Audit Rating', 'transmission', 'door_count', 'seat_count',\n",
       "       'fuel_type'],\n",
       "      dtype='object')"
      ]
     },
     "execution_count": 102,
     "metadata": {},
     "output_type": "execute_result"
    }
   ],
   "source": [
    "df4.columns"
   ]
  },
  {
   "cell_type": "code",
   "execution_count": 103,
   "id": "07140b4f",
   "metadata": {},
   "outputs": [],
   "source": [
    "q1=df4['Maker'].quantile(0.25)\n",
    "q3=df4['Maker'].quantile(0.75)\n",
    "IQR=q3-q1\n",
    "LL=q1-(1.5*IQR)\n",
    "UL=q3+(1.5*IQR)"
   ]
  },
  {
   "cell_type": "code",
   "execution_count": 104,
   "id": "cf5dfd14",
   "metadata": {},
   "outputs": [],
   "source": [
    "df5=df4[(df4['Maker']>=LL) & (df4['Maker']<=UL)]"
   ]
  },
  {
   "cell_type": "code",
   "execution_count": 105,
   "id": "2208ce02",
   "metadata": {},
   "outputs": [
    {
     "data": {
      "image/png": "[encoded data removed]",
      "text/plain": [
       "<Figure size 1000x500 with 1 Axes>"
      ]
     },
     "metadata": {},
     "output_type": "display_data"
    }
   ],
   "source": [
    "df5[['Maker']].boxplot(figsize=(10,5),fontsize=10)\n",
    "plt.show()"
   ]
  },
  {
   "cell_type": "code",
   "execution_count": 106,
   "id": "b54696e8",
   "metadata": {},
   "outputs": [],
   "source": [
    "q1=df5['Maker'].quantile(0.25)\n",
    "q3=df5['Maker'].quantile(0.75)\n",
    "IQR=q3-q1\n",
    "LL=q1-(1.5*IQR)\n",
    "UL=q3+(1.5*IQR)"
   ]
  },
  {
   "cell_type": "code",
   "execution_count": 107,
   "id": "3ebdf42d",
   "metadata": {},
   "outputs": [],
   "source": [
    "df6=df5[(df5['Maker']>=LL) & (df5['Maker']<=UL)]"
   ]
  },
  {
   "cell_type": "code",
   "execution_count": 108,
   "id": "48073a70",
   "metadata": {},
   "outputs": [
    {
     "data": {
      "image/png": "[encoded data removed]",
      "text/plain": [
       "<Figure size 1000x500 with 1 Axes>"
      ]
     },
     "metadata": {},
     "output_type": "display_data"
    }
   ],
   "source": [
    "df6[['Maker']].boxplot(figsize=(10,5),fontsize=10)\n",
    "plt.show()"
   ]
  },
  {
   "cell_type": "code",
   "execution_count": 109,
   "id": "5db061f0",
   "metadata": {},
   "outputs": [
    {
     "data": {
      "image/png": "[encoded data removed]",
      "text/plain": [
       "<Figure size 1000x500 with 1 Axes>"
      ]
     },
     "metadata": {},
     "output_type": "display_data"
    }
   ],
   "source": [
    "df6.boxplot(figsize=(10,5),fontsize=10)\n",
    "plt.show()"
   ]
  },
  {
   "cell_type": "code",
   "execution_count": 110,
   "id": "688628cd",
   "metadata": {},
   "outputs": [],
   "source": [
    "q1=df6['engine_power'].quantile(0.25)\n",
    "q3=df6['engine_power'].quantile(0.75)\n",
    "IQR=q3-q1\n",
    "LL=q1-(1.5*IQR)\n",
    "UL=q3+(1.5*IQR)"
   ]
  },
  {
   "cell_type": "code",
   "execution_count": 111,
   "id": "acf8793a",
   "metadata": {},
   "outputs": [],
   "source": [
    "df7=df6[(df6['engine_power']>=LL) & (df6['engine_power']<=UL)]"
   ]
  },
  {
   "cell_type": "code",
   "execution_count": 112,
   "id": "d8d49e8b",
   "metadata": {},
   "outputs": [
    {
     "data": {
      "image/png": "[encoded data removed]",
      "text/plain": [
       "<Figure size 1000x500 with 1 Axes>"
      ]
     },
     "metadata": {},
     "output_type": "display_data"
    }
   ],
   "source": [
    "df7[['engine_power']].boxplot(figsize=(10,5),fontsize=10)\n",
    "plt.show()"
   ]
  },
  {
   "cell_type": "code",
   "execution_count": 113,
   "id": "20d62861",
   "metadata": {},
   "outputs": [
    {
     "data": {
      "image/png": "[encoded data removed]",
      "text/plain": [
       "<Figure size 1000x500 with 1 Axes>"
      ]
     },
     "metadata": {},
     "output_type": "display_data"
    }
   ],
   "source": [
    "df7.boxplot(figsize=(10,5),fontsize=10)\n",
    "plt.show()"
   ]
  },
  {
   "cell_type": "code",
   "execution_count": 114,
   "id": "c8e37676",
   "metadata": {},
   "outputs": [
    {
     "data": {
      "text/plain": [
       "Id                      0\n",
       "Maker                   0\n",
       "model                   0\n",
       "Location                0\n",
       "Distance                0\n",
       "Owner Type              0\n",
       "manufacture_year       11\n",
       "Age of car              0\n",
       "engine_displacement     0\n",
       "engine_power            0\n",
       "Vroom Audit Rating      0\n",
       "transmission            0\n",
       "door_count              0\n",
       "seat_count              0\n",
       "fuel_type               0\n",
       "dtype: int64"
      ]
     },
     "execution_count": 114,
     "metadata": {},
     "output_type": "execute_result"
    }
   ],
   "source": [
    "df7.isnull().sum()"
   ]
  },
  {
   "cell_type": "code",
   "execution_count": 115,
   "id": "598612d6",
   "metadata": {},
   "outputs": [],
   "source": [
    "df7['manufacture_year'].value_counts()\n",
    "df7['manufacture_year'].fillna(2015.0,inplace=True)"
   ]
  },
  {
   "cell_type": "code",
   "execution_count": 116,
   "id": "b7fc9d9f",
   "metadata": {},
   "outputs": [
    {
     "data": {
      "text/plain": [
       "Id                     0\n",
       "Maker                  0\n",
       "model                  0\n",
       "Location               0\n",
       "Distance               0\n",
       "Owner Type             0\n",
       "manufacture_year       0\n",
       "Age of car             0\n",
       "engine_displacement    0\n",
       "engine_power           0\n",
       "Vroom Audit Rating     0\n",
       "transmission           0\n",
       "door_count             0\n",
       "seat_count             0\n",
       "fuel_type              0\n",
       "dtype: int64"
      ]
     },
     "execution_count": 116,
     "metadata": {},
     "output_type": "execute_result"
    }
   ],
   "source": [
    "df7.isnull().sum()"
   ]
  },
  {
   "cell_type": "code",
   "execution_count": 117,
   "id": "adb584e9",
   "metadata": {},
   "outputs": [
    {
     "data": {
      "image/png": "[encoded data removed]",
      "text/plain": [
       "<Figure size 1000x500 with 1 Axes>"
      ]
     },
     "metadata": {},
     "output_type": "display_data"
    }
   ],
   "source": [
    "df7.boxplot(figsize=(10,5),fontsize=10)\n",
    "plt.show()"
   ]
  },
  {
   "cell_type": "code",
   "execution_count": 118,
   "id": "e09eb6c8",
   "metadata": {},
   "outputs": [],
   "source": [
    "df8=df7.copy()"
   ]
  },
  {
   "cell_type": "code",
   "execution_count": 119,
   "id": "ca1d26ed",
   "metadata": {},
   "outputs": [
    {
     "data": {
      "application/vnd.microsoft.datawrangler.viewer.v0+json": {
       "columns": [
        {
         "name": "index",
         "rawType": "int64",
         "type": "integer"
        },
        {
         "name": "Id",
         "rawType": "int64",
         "type": "integer"
        },
        {
         "name": "Maker",
         "rawType": "int64",
         "type": "integer"
        },
        {
         "name": "model",
         "rawType": "int64",
         "type": "integer"
        },
        {
         "name": "Location",
         "rawType": "int64",
         "type": "integer"
        },
        {
         "name": "Distance ",
         "rawType": "int64",
         "type": "integer"
        },
        {
         "name": "Owner Type",
         "rawType": "int64",
         "type": "integer"
        },
        {
         "name": "manufacture_year",
         "rawType": "float64",
         "type": "float"
        },
        {
         "name": "Age of car",
         "rawType": "float64",
         "type": "float"
        },
        {
         "name": "engine_displacement",
         "rawType": "float64",
         "type": "float"
        },
        {
         "name": "engine_power",
         "rawType": "float64",
         "type": "float"
        },
        {
         "name": "Vroom Audit Rating",
         "rawType": "int64",
         "type": "integer"
        },
        {
         "name": "transmission",
         "rawType": "int64",
         "type": "integer"
        },
        {
         "name": "door_count",
         "rawType": "float64",
         "type": "float"
        },
        {
         "name": "seat_count",
         "rawType": "float64",
         "type": "float"
        },
        {
         "name": "fuel_type",
         "rawType": "int64",
         "type": "integer"
        }
       ],
       "conversionMethod": "pd.DataFrame",
       "ref": "e0e36468-5e22-4bd1-92cf-57cf08821a79",
       "rows": [
        [
         "0",
         "11001",
         "6",
         "8",
         "9",
         "2259",
         "0",
         "2007.0",
         "12.0",
         "1595.0",
         "75.0",
         "5",
         "1",
         "4.0",
         "5.0",
         "1"
        ],
        [
         "1",
         "11002",
         "6",
         "14",
         "3",
         "760",
         "3",
         "2014.0",
         "5.0",
         "1598.0",
         "77.0",
         "4",
         "1",
         "4.0",
         "5.0",
         "0"
        ],
        [
         "2",
         "11003",
         "6",
         "8",
         "3",
         "793",
         "2",
         "2014.0",
         "5.0",
         "1968.0",
         "110.0",
         "5",
         "1",
         "4.0",
         "5.0",
         "0"
        ],
        [
         "8",
         "11009",
         "6",
         "8",
         "1",
         "45",
         "1",
         "2006.0",
         "13.0",
         "2000.0",
         "103.0",
         "5",
         "1",
         "4.0",
         "5.0",
         "1"
        ],
        [
         "13",
         "11014",
         "6",
         "8",
         "5",
         "35",
         "2",
         "2015.0",
         "4.0",
         "1968.0",
         "135.0",
         "6",
         "1",
         "4.0",
         "5.0",
         "0"
        ]
       ],
       "shape": {
        "columns": 15,
        "rows": 5
       }
      },
      "text/html": [
       "<div>\n",
       "<style scoped>\n",
       "    .dataframe tbody tr th:only-of-type {\n",
       "        vertical-align: middle;\n",
       "    }\n",
       "\n",
       "    .dataframe tbody tr th {\n",
       "        vertical-align: top;\n",
       "    }\n",
       "\n",
       "    .dataframe thead th {\n",
       "        text-align: right;\n",
       "    }\n",
       "</style>\n",
       "<table border=\"1\" class=\"dataframe\">\n",
       "  <thead>\n",
       "    <tr style=\"text-align: right;\">\n",
       "      <th></th>\n",
       "      <th>Id</th>\n",
       "      <th>Maker</th>\n",
       "      <th>model</th>\n",
       "      <th>Location</th>\n",
       "      <th>Distance</th>\n",
       "      <th>Owner Type</th>\n",
       "      <th>manufacture_year</th>\n",
       "      <th>Age of car</th>\n",
       "      <th>engine_displacement</th>\n",
       "      <th>engine_power</th>\n",
       "      <th>Vroom Audit Rating</th>\n",
       "      <th>transmission</th>\n",
       "      <th>door_count</th>\n",
       "      <th>seat_count</th>\n",
       "      <th>fuel_type</th>\n",
       "    </tr>\n",
       "  </thead>\n",
       "  <tbody>\n",
       "    <tr>\n",
       "      <th>0</th>\n",
       "      <td>11001</td>\n",
       "      <td>6</td>\n",
       "      <td>8</td>\n",
       "      <td>9</td>\n",
       "      <td>2259</td>\n",
       "      <td>0</td>\n",
       "      <td>2007.0</td>\n",
       "      <td>12.0</td>\n",
       "      <td>1595.0</td>\n",
       "      <td>75.0</td>\n",
       "      <td>5</td>\n",
       "      <td>1</td>\n",
       "      <td>4.0</td>\n",
       "      <td>5.0</td>\n",
       "      <td>1</td>\n",
       "    </tr>\n",
       "    <tr>\n",
       "      <th>1</th>\n",
       "      <td>11002</td>\n",
       "      <td>6</td>\n",
       "      <td>14</td>\n",
       "      <td>3</td>\n",
       "      <td>760</td>\n",
       "      <td>3</td>\n",
       "      <td>2014.0</td>\n",
       "      <td>5.0</td>\n",
       "      <td>1598.0</td>\n",
       "      <td>77.0</td>\n",
       "      <td>4</td>\n",
       "      <td>1</td>\n",
       "      <td>4.0</td>\n",
       "      <td>5.0</td>\n",
       "      <td>0</td>\n",
       "    </tr>\n",
       "    <tr>\n",
       "      <th>2</th>\n",
       "      <td>11003</td>\n",
       "      <td>6</td>\n",
       "      <td>8</td>\n",
       "      <td>3</td>\n",
       "      <td>793</td>\n",
       "      <td>2</td>\n",
       "      <td>2014.0</td>\n",
       "      <td>5.0</td>\n",
       "      <td>1968.0</td>\n",
       "      <td>110.0</td>\n",
       "      <td>5</td>\n",
       "      <td>1</td>\n",
       "      <td>4.0</td>\n",
       "      <td>5.0</td>\n",
       "      <td>0</td>\n",
       "    </tr>\n",
       "    <tr>\n",
       "      <th>8</th>\n",
       "      <td>11009</td>\n",
       "      <td>6</td>\n",
       "      <td>8</td>\n",
       "      <td>1</td>\n",
       "      <td>45</td>\n",
       "      <td>1</td>\n",
       "      <td>2006.0</td>\n",
       "      <td>13.0</td>\n",
       "      <td>2000.0</td>\n",
       "      <td>103.0</td>\n",
       "      <td>5</td>\n",
       "      <td>1</td>\n",
       "      <td>4.0</td>\n",
       "      <td>5.0</td>\n",
       "      <td>1</td>\n",
       "    </tr>\n",
       "    <tr>\n",
       "      <th>13</th>\n",
       "      <td>11014</td>\n",
       "      <td>6</td>\n",
       "      <td>8</td>\n",
       "      <td>5</td>\n",
       "      <td>35</td>\n",
       "      <td>2</td>\n",
       "      <td>2015.0</td>\n",
       "      <td>4.0</td>\n",
       "      <td>1968.0</td>\n",
       "      <td>135.0</td>\n",
       "      <td>6</td>\n",
       "      <td>1</td>\n",
       "      <td>4.0</td>\n",
       "      <td>5.0</td>\n",
       "      <td>0</td>\n",
       "    </tr>\n",
       "  </tbody>\n",
       "</table>\n",
       "</div>"
      ],
      "text/plain": [
       "       Id  Maker  model  Location  Distance   Owner Type  manufacture_year  \\\n",
       "0   11001      6      8         9       2259           0            2007.0   \n",
       "1   11002      6     14         3        760           3            2014.0   \n",
       "2   11003      6      8         3        793           2            2014.0   \n",
       "8   11009      6      8         1         45           1            2006.0   \n",
       "13  11014      6      8         5         35           2            2015.0   \n",
       "\n",
       "    Age of car  engine_displacement  engine_power  Vroom Audit Rating  \\\n",
       "0         12.0               1595.0          75.0                   5   \n",
       "1          5.0               1598.0          77.0                   4   \n",
       "2          5.0               1968.0         110.0                   5   \n",
       "8         13.0               2000.0         103.0                   5   \n",
       "13         4.0               1968.0         135.0                   6   \n",
       "\n",
       "    transmission  door_count  seat_count  fuel_type  \n",
       "0              1         4.0         5.0          1  \n",
       "1              1         4.0         5.0          0  \n",
       "2              1         4.0         5.0          0  \n",
       "8              1         4.0         5.0          1  \n",
       "13             1         4.0         5.0          0  "
      ]
     },
     "execution_count": 119,
     "metadata": {},
     "output_type": "execute_result"
    }
   ],
   "source": [
    "df8.head(5)"
   ]
  },
  {
   "cell_type": "code",
   "execution_count": 120,
   "id": "43606a1a",
   "metadata": {},
   "outputs": [
    {
     "data": {
      "text/plain": [
       "Id                     0\n",
       "Maker                  0\n",
       "model                  0\n",
       "Location               0\n",
       "Distance               0\n",
       "Owner Type             0\n",
       "manufacture_year       0\n",
       "Age of car             0\n",
       "engine_displacement    0\n",
       "engine_power           0\n",
       "Vroom Audit Rating     0\n",
       "transmission           0\n",
       "door_count             0\n",
       "seat_count             0\n",
       "fuel_type              0\n",
       "dtype: int64"
      ]
     },
     "execution_count": 120,
     "metadata": {},
     "output_type": "execute_result"
    }
   ],
   "source": [
    "df8.isnull().sum()"
   ]
  },
  {
   "cell_type": "code",
   "execution_count": 121,
   "id": "c75a277c",
   "metadata": {},
   "outputs": [],
   "source": [
    "from sklearn.preprocessing import StandardScaler,MinMaxScaler"
   ]
  },
  {
   "cell_type": "code",
   "execution_count": 122,
   "id": "2ebe61bb",
   "metadata": {},
   "outputs": [],
   "source": [
    "ss=StandardScaler()"
   ]
  },
  {
   "cell_type": "code",
   "execution_count": 123,
   "id": "6d346d51",
   "metadata": {},
   "outputs": [],
   "source": [
    "mms=MinMaxScaler()"
   ]
  },
  {
   "cell_type": "code",
   "execution_count": 124,
   "id": "f319b947",
   "metadata": {},
   "outputs": [],
   "source": [
    "df8_mms=pd.DataFrame(mms.fit_transform(df8),columns=df8.columns)"
   ]
  },
  {
   "cell_type": "code",
   "execution_count": 125,
   "id": "1d417fba",
   "metadata": {},
   "outputs": [
    {
     "data": {
      "application/vnd.microsoft.datawrangler.viewer.v0+json": {
       "columns": [
        {
         "name": "index",
         "rawType": "int64",
         "type": "integer"
        },
        {
         "name": "Id",
         "rawType": "float64",
         "type": "float"
        },
        {
         "name": "Maker",
         "rawType": "float64",
         "type": "float"
        },
        {
         "name": "model",
         "rawType": "float64",
         "type": "float"
        },
        {
         "name": "Location",
         "rawType": "float64",
         "type": "float"
        },
        {
         "name": "Distance ",
         "rawType": "float64",
         "type": "float"
        },
        {
         "name": "Owner Type",
         "rawType": "float64",
         "type": "float"
        },
        {
         "name": "manufacture_year",
         "rawType": "float64",
         "type": "float"
        },
        {
         "name": "Age of car",
         "rawType": "float64",
         "type": "float"
        },
        {
         "name": "engine_displacement",
         "rawType": "float64",
         "type": "float"
        },
        {
         "name": "engine_power",
         "rawType": "float64",
         "type": "float"
        },
        {
         "name": "Vroom Audit Rating",
         "rawType": "float64",
         "type": "float"
        },
        {
         "name": "transmission",
         "rawType": "float64",
         "type": "float"
        },
        {
         "name": "door_count",
         "rawType": "float64",
         "type": "float"
        },
        {
         "name": "seat_count",
         "rawType": "float64",
         "type": "float"
        },
        {
         "name": "fuel_type",
         "rawType": "float64",
         "type": "float"
        }
       ],
       "conversionMethod": "pd.DataFrame",
       "ref": "27431ae6-7e19-491d-aa55-76c3ab83a4f0",
       "rows": [
        [
         "0",
         "0.0",
         "0.0",
         "0.2631578947368421",
         "0.9",
         "0.7760219855719684",
         "0.0",
         "0.5",
         "0.5",
         "0.3363431151241534",
         "0.3163265306122449",
         "0.25",
         "0.0",
         "0.0",
         "0.0",
         "1.0"
        ],
        [
         "1",
         "0.0001781895937276179",
         "0.0",
         "0.5789473684210527",
         "0.30000000000000004",
         "0.2610786671246994",
         "1.0",
         "0.8888888888888857",
         "0.11111111111111113",
         "0.33803611738148975",
         "0.33673469387755106",
         "0.0",
         "0.0",
         "0.0",
         "0.0",
         "0.0"
        ],
        [
         "2",
         "0.0003563791874554578",
         "0.0",
         "0.2631578947368421",
         "0.30000000000000004",
         "0.2724149776709035",
         "0.6666666666666666",
         "0.8888888888888857",
         "0.11111111111111113",
         "0.5468397291196387",
         "0.673469387755102",
         "0.25",
         "0.0",
         "0.0",
         "0.0",
         "0.0"
        ],
        [
         "3",
         "0.0014255167498216093",
         "0.0",
         "0.2631578947368421",
         "0.1",
         "0.015458605290278255",
         "0.3333333333333333",
         "0.44444444444444287",
         "0.5555555555555556",
         "0.5648984198645597",
         "0.6020408163265306",
         "0.25",
         "0.0",
         "0.0",
         "0.0",
         "1.0"
        ],
        [
         "4",
         "0.002316464718460365",
         "0.0",
         "0.2631578947368421",
         "0.5",
         "0.012023359670216421",
         "0.6666666666666666",
         "0.9444444444444429",
         "0.05555555555555555",
         "0.5468397291196387",
         "0.9285714285714285",
         "0.5",
         "0.0",
         "0.0",
         "0.0",
         "0.0"
        ],
        [
         "5",
         "0.0024946543121879827",
         "0.0",
         "0.2631578947368421",
         "0.30000000000000004",
         "0.0",
         "0.6666666666666666",
         "0.6666666666666572",
         "0.33333333333333337",
         "0.3391647855530473",
         "0.33673469387755106",
         "1.0",
         "0.0",
         "0.0",
         "0.0",
         "0.0"
        ],
        [
         "6",
         "0.0026728439059158227",
         "0.0",
         "0.2631578947368421",
         "0.4",
         "0.5489522500858811",
         "0.6666666666666666",
         "0.7777777777777715",
         "0.22222222222222218",
         "0.5468397291196387",
         "0.6020408163265306",
         "0.75",
         "0.0",
         "0.0",
         "0.0",
         "0.0"
        ],
        [
         "7",
         "0.003920171062009814",
         "0.0",
         "0.2631578947368421",
         "0.6000000000000001",
         "0.9096530401923738",
         "0.6666666666666666",
         "0.38888888888888573",
         "0.611111111111111",
         "0.5084650112866815",
         "0.33673469387755106",
         "0.25",
         "0.0",
         "0.0",
         "0.0",
         "0.0"
        ],
        [
         "8",
         "0.00481111903064857",
         "0.0",
         "0.2631578947368421",
         "0.0",
         "0.766059773273789",
         "1.0",
         "0.5",
         "0.5",
         "0.33803611738148975",
         "0.41836734693877553",
         "0.25",
         "0.0",
         "0.0",
         "0.0",
         "1.0"
        ],
        [
         "9",
         "0.005345687811831645",
         "0.0",
         "0.2631578947368421",
         "0.7000000000000001",
         "0.780831329440055",
         "0.3333333333333333",
         "0.7777777777777715",
         "0.22222222222222218",
         "0.3391647855530473",
         "0.33673469387755106",
         "1.0",
         "0.0",
         "0.0",
         "0.0",
         "0.0"
        ],
        [
         "10",
         "0.005702066999287103",
         "0.0",
         "0.6842105263157894",
         "0.2",
         "0.3668842322226039",
         "0.3333333333333333",
         "0.7222222222222143",
         "0.2777777777777778",
         "0.45090293453724595",
         "0.7551020408163266",
         "0.5",
         "0.0",
         "0.0",
         "0.0",
         "1.0"
        ],
        [
         "11",
         "0.005880256593014943",
         "0.0",
         "0.6842105263157894",
         "1.0",
         "0.37272414977670904",
         "0.6666666666666666",
         "0.7777777777777715",
         "0.22222222222222218",
         "0.5468397291196387",
         "0.6020408163265306",
         "0.25",
         "0.0",
         "0.0",
         "0.0",
         "0.0"
        ],
        [
         "12",
         "0.006236635780470401",
         "0.0",
         "0.631578947368421",
         "0.4",
         "0.9364479560288561",
         "0.6666666666666666",
         "0.5",
         "0.5",
         "0.5062076749435664",
         "0.33673469387755106",
         "0.0",
         "0.0",
         "0.0",
         "0.0",
         "0.0"
        ],
        [
         "13",
         "0.006593014967925859",
         "0.0",
         "0.6842105263157894",
         "0.9",
         "0.7725867399519066",
         "0.3333333333333333",
         "0.7222222222222143",
         "0.2777777777777778",
         "0.5468397291196387",
         "0.6020408163265306",
         "1.0",
         "0.0",
         "0.0",
         "0.0",
         "0.0"
        ],
        [
         "14",
         "0.006771204561653477",
         "0.0",
         "1.0",
         "0.4",
         "0.6623153555479216",
         "1.0",
         "0.8333333333333286",
         "0.16666666666666666",
         "0.5468397291196387",
         "0.37755102040816324",
         "0.25",
         "0.0",
         "0.0",
         "0.0",
         "0.0"
        ],
        [
         "15",
         "0.0069493941553813166",
         "0.0",
         "0.631578947368421",
         "0.4",
         "0.009618687736173137",
         "1.0",
         "0.9444444444444429",
         "0.05555555555555555",
         "0.11343115124153491",
         "0.0714285714285714",
         "0.75",
         "0.0",
         "0.0",
         "0.0",
         "1.0"
        ],
        [
         "16",
         "0.007483962936564392",
         "0.0",
         "0.2631578947368421",
         "0.2",
         "0.5705942974922708",
         "0.0",
         "0.8888888888888857",
         "0.11111111111111113",
         "0.33803611738148975",
         "0.33673469387755106",
         "0.5",
         "0.0",
         "0.0",
         "0.0",
         "0.0"
        ],
        [
         "17",
         "0.007662152530292232",
         "0.0",
         "0.2631578947368421",
         "0.5",
         "0.822054276880797",
         "0.0",
         "0.22222222222221433",
         "0.7777777777777778",
         "0.5084650112866815",
         "0.37755102040816324",
         "0.25",
         "0.0",
         "0.0",
         "0.0",
         "0.0"
        ],
        [
         "18",
         "0.008374910905203148",
         "0.0",
         "0.5789473684210527",
         "0.2",
         "0.38028169014084506",
         "0.0",
         "0.8333333333333286",
         "0.16666666666666666",
         "0.11343115124153491",
         "0.19387755102040816",
         "0.0",
         "0.0",
         "0.0",
         "0.0",
         "1.0"
        ],
        [
         "19",
         "0.008909479686386224",
         "0.0",
         "0.2631578947368421",
         "0.0",
         "0.9762968052215734",
         "0.0",
         "0.44444444444444287",
         "0.5555555555555556",
         "0.5468397291196387",
         "0.6020408163265306",
         "0.75",
         "0.0",
         "0.0",
         "0.0",
         "0.0"
        ],
        [
         "20",
         "0.00962223806129714",
         "0.0",
         "0.2631578947368421",
         "0.8",
         "0.6997595328065956",
         "0.0",
         "0.0",
         "0.9999999999999999",
         "0.33803611738148975",
         "0.11224489795918369",
         "0.75",
         "0.0",
         "0.0",
         "0.0",
         "1.0"
        ],
        [
         "21",
         "0.010334996436208055",
         "0.0",
         "0.2631578947368421",
         "0.0",
         "0.9350738577808314",
         "0.0",
         "0.44444444444444287",
         "0.5555555555555556",
         "0.5062076749435664",
         "0.33673469387755106",
         "0.5",
         "0.0",
         "0.0",
         "0.0",
         "0.0"
        ],
        [
         "22",
         "0.01086956521739113",
         "0.0",
         "0.2631578947368421",
         "0.8",
         "0.4960494675369289",
         "0.0",
         "0.7777777777777715",
         "0.22222222222222218",
         "0.33803611738148975",
         "0.33673469387755106",
         "0.5",
         "0.0",
         "0.0",
         "0.0",
         "0.0"
        ],
        [
         "23",
         "0.011225944404846588",
         "0.0",
         "0.0",
         "0.7000000000000001",
         "0.1387839230504981",
         "0.0",
         "0.9444444444444429",
         "0.05555555555555555",
         "0.0",
         "0.0",
         "0.75",
         "0.0",
         "0.0",
         "0.0",
         "1.0"
        ],
        [
         "24",
         "0.011404133998574428",
         "0.0",
         "0.2631578947368421",
         "0.2",
         "0.552387495705943",
         "1.0",
         "0.6666666666666572",
         "0.33333333333333337",
         "0.5468397291196387",
         "0.4693877551020408",
         "1.0",
         "0.0",
         "0.0",
         "0.0",
         "1.0"
        ],
        [
         "25",
         "0.011582323592302046",
         "0.0",
         "0.631578947368421",
         "0.2",
         "0.9945036070079011",
         "1.0",
         "0.5555555555555429",
         "0.4444444444444444",
         "0.11343115124153491",
         "0.0714285714285714",
         "0.5",
         "0.0",
         "0.0",
         "0.0",
         "1.0"
        ],
        [
         "26",
         "0.011938702779757504",
         "0.0",
         "0.2631578947368421",
         "0.8",
         "0.5839917554105118",
         "1.0",
         "0.7777777777777715",
         "0.22222222222222218",
         "0.5468397291196387",
         "0.6020408163265306",
         "0.0",
         "0.0",
         "0.0",
         "0.0",
         "0.0"
        ],
        [
         "27",
         "0.012116892373485344",
         "0.0",
         "0.631578947368421",
         "0.30000000000000004",
         "0.307110958433528",
         "0.6666666666666666",
         "0.9444444444444429",
         "0.05555555555555555",
         "0.11230248306997737",
         "0.0714285714285714",
         "0.5",
         "0.0",
         "0.0",
         "0.0",
         "1.0"
        ],
        [
         "28",
         "0.013542409123307175",
         "0.0",
         "0.2631578947368421",
         "0.5",
         "0.6365510133974579",
         "1.0",
         "0.3333333333333286",
         "0.6666666666666666",
         "0.3363431151241534",
         "0.3163265306122449",
         "0.5",
         "0.0",
         "0.0",
         "0.0",
         "1.0"
        ],
        [
         "29",
         "0.015146115466856624",
         "0.0",
         "0.2631578947368421",
         "0.8",
         "0.9896942631398146",
         "0.6666666666666666",
         "0.055555555555542924",
         "0.9444444444444445",
         "0.5084650112866815",
         "0.37755102040816324",
         "0.0",
         "0.0",
         "0.0",
         "0.0",
         "0.0"
        ],
        [
         "30",
         "0.015324305060584464",
         "0.0",
         "0.631578947368421",
         "0.8",
         "0.47475094469254553",
         "0.0",
         "0.7777777777777715",
         "0.22222222222222218",
         "0.1128668171557562",
         "0.11224489795918369",
         "0.25",
         "0.0",
         "0.0",
         "0.0",
         "0.0"
        ],
        [
         "31",
         "0.016928011404133914",
         "0.0",
         "0.2631578947368421",
         "0.5",
         "0.9659910683613878",
         "1.0",
         "0.6666666666666572",
         "0.33333333333333337",
         "0.33803611738148975",
         "0.33673469387755106",
         "0.75",
         "0.0",
         "0.0",
         "0.0",
         "0.0"
        ],
        [
         "32",
         "0.01710620099786153",
         "0.0",
         "0.0",
         "0.5",
         "0.0",
         "0.3333333333333333",
         "0.9444444444444429",
         "0.05555555555555555",
         "0.0",
         "0.11224489795918369",
         "1.0",
         "0.0",
         "0.0",
         "0.0",
         "1.0"
        ],
        [
         "33",
         "0.01906628652886666",
         "0.0",
         "0.2631578947368421",
         "0.8",
         "0.8000687049124012",
         "0.0",
         "0.44444444444444287",
         "0.5555555555555556",
         "0.5084650112866815",
         "0.33673469387755106",
         "0.5",
         "0.0",
         "0.0",
         "0.0",
         "0.0"
        ],
        [
         "34",
         "0.019600855310049736",
         "0.0",
         "0.631578947368421",
         "0.8",
         "0.5620061834421162",
         "0.3333333333333333",
         "0.6111111111111001",
         "0.38888888888888895",
         "0.11230248306997737",
         "0.0714285714285714",
         "0.75",
         "0.0",
         "0.0",
         "0.0",
         "1.0"
        ],
        [
         "35",
         "0.019957234497505194",
         "0.0",
         "0.2631578947368421",
         "0.5",
         "0.0034352456200618343",
         "0.3333333333333333",
         "0.9444444444444429",
         "0.05555555555555555",
         "0.5468397291196387",
         "0.673469387755102",
         "1.0",
         "0.0",
         "0.0",
         "0.0",
         "0.0"
        ],
        [
         "36",
         "0.020313613684960652",
         "0.0",
         "0.2631578947368421",
         "0.1",
         "0.971830985915493",
         "0.3333333333333333",
         "0.6666666666666572",
         "0.33333333333333337",
         "0.33803611738148975",
         "0.33673469387755106",
         "0.0",
         "0.0",
         "0.0",
         "0.0",
         "0.0"
        ],
        [
         "37",
         "0.021739130434782483",
         "0.0",
         "0.2631578947368421",
         "0.1",
         "0.8753005839917555",
         "1.0",
         "0.3333333333333286",
         "0.6666666666666666",
         "0.3363431151241534",
         "0.3163265306122449",
         "0.5",
         "0.0",
         "0.0",
         "0.0",
         "1.0"
        ],
        [
         "38",
         "0.02209550962223794",
         "0.0",
         "0.6842105263157894",
         "0.7000000000000001",
         "0.8316729646169702",
         "0.3333333333333333",
         "0.6666666666666572",
         "0.33333333333333337",
         "0.5468397291196387",
         "0.6020408163265306",
         "0.75",
         "0.0",
         "0.0",
         "0.0",
         "0.0"
        ],
        [
         "39",
         "0.02227369921596578",
         "0.0",
         "0.2631578947368421",
         "0.7000000000000001",
         "0.975609756097561",
         "0.6666666666666666",
         "0.5555555555555429",
         "0.4444444444444444",
         "0.5062076749435664",
         "0.30612244897959184",
         "0.75",
         "0.0",
         "0.0",
         "0.0",
         "0.0"
        ],
        [
         "40",
         "0.02263007840342124",
         "0.0",
         "0.631578947368421",
         "0.2",
         "0.46272758502232914",
         "0.6666666666666666",
         "0.8333333333333286",
         "0.16666666666666666",
         "0.11343115124153491",
         "0.11224489795918369",
         "0.75",
         "0.0",
         "0.0",
         "0.0",
         "0.0"
        ],
        [
         "41",
         "0.023521026372059772",
         "0.0",
         "0.2631578947368421",
         "0.2",
         "0.9574029543112332",
         "0.0",
         "0.38888888888888573",
         "0.611111111111111",
         "0.5084650112866815",
         "0.33673469387755106",
         "0.0",
         "0.0",
         "0.0",
         "0.0",
         "0.0"
        ],
        [
         "42",
         "0.024590163934426146",
         "0.0",
         "0.631578947368421",
         "1.0",
         "0.5283407763655101",
         "0.0",
         "0.5",
         "0.5",
         "0.33803611738148975",
         "0.33673469387755106",
         "0.75",
         "0.0",
         "0.0",
         "0.0",
         "1.0"
        ],
        [
         "43",
         "0.025837491090520137",
         "0.0",
         "1.0",
         "0.8",
         "0.17519752662315355",
         "1.0",
         "0.8888888888888857",
         "0.11111111111111113",
         "0.11173814898419865",
         "0.33673469387755106",
         "0.25",
         "0.0",
         "0.0",
         "0.0",
         "1.0"
        ],
        [
         "44",
         "0.026372059871703435",
         "0.0",
         "0.5789473684210527",
         "0.0",
         "0.07557540364136035",
         "0.6666666666666666",
         "0.8888888888888857",
         "0.11111111111111113",
         "0.33803611738148975",
         "0.33673469387755106",
         "0.25",
         "0.0",
         "0.0",
         "0.0",
         "0.0"
        ],
        [
         "45",
         "0.026728439059158893",
         "0.0",
         "0.631578947368421",
         "0.6000000000000001",
         "0.1844726897973205",
         "0.3333333333333333",
         "0.9444444444444429",
         "0.05555555555555555",
         "0.11173814898419865",
         "0.19387755102040816",
         "1.0",
         "0.0",
         "0.0",
         "0.0",
         "1.0"
        ],
        [
         "46",
         "0.02726300784034197",
         "0.0",
         "0.2631578947368421",
         "0.1",
         "0.0034352456200618343",
         "0.0",
         "0.9444444444444429",
         "0.05555555555555555",
         "0.5468397291196387",
         "0.673469387755102",
         "0.25",
         "0.0",
         "0.0",
         "0.0",
         "0.0"
        ],
        [
         "47",
         "0.027619387027797426",
         "0.0",
         "0.5789473684210527",
         "0.8",
         "0.0034352456200618343",
         "1.0",
         "0.9444444444444429",
         "0.05555555555555555",
         "0.11173814898419865",
         "0.22448979591836737",
         "0.75",
         "0.0",
         "0.0",
         "0.0",
         "1.0"
        ],
        [
         "48",
         "0.027975766215252884",
         "0.0",
         "0.2631578947368421",
         "1.0",
         "0.5558227413260048",
         "0.3333333333333333",
         "0.7777777777777715",
         "0.22222222222222218",
         "0.5468397291196387",
         "0.6020408163265306",
         "0.75",
         "0.0",
         "0.0",
         "0.0",
         "0.0"
        ],
        [
         "49",
         "0.028153955808980724",
         "0.0",
         "0.631578947368421",
         "0.7000000000000001",
         "0.009618687736173137",
         "0.3333333333333333",
         "0.8888888888888857",
         "0.11111111111111113",
         "0.11173814898419865",
         "0.19387755102040816",
         "1.0",
         "0.0",
         "0.0",
         "0.0",
         "1.0"
        ]
       ],
       "shape": {
        "columns": 15,
        "rows": 1675
       }
      },
      "text/html": [
       "<div>\n",
       "<style scoped>\n",
       "    .dataframe tbody tr th:only-of-type {\n",
       "        vertical-align: middle;\n",
       "    }\n",
       "\n",
       "    .dataframe tbody tr th {\n",
       "        vertical-align: top;\n",
       "    }\n",
       "\n",
       "    .dataframe thead th {\n",
       "        text-align: right;\n",
       "    }\n",
       "</style>\n",
       "<table border=\"1\" class=\"dataframe\">\n",
       "  <thead>\n",
       "    <tr style=\"text-align: right;\">\n",
       "      <th></th>\n",
       "      <th>Id</th>\n",
       "      <th>Maker</th>\n",
       "      <th>model</th>\n",
       "      <th>Location</th>\n",
       "      <th>Distance</th>\n",
       "      <th>Owner Type</th>\n",
       "      <th>manufacture_year</th>\n",
       "      <th>Age of car</th>\n",
       "      <th>engine_displacement</th>\n",
       "      <th>engine_power</th>\n",
       "      <th>Vroom Audit Rating</th>\n",
       "      <th>transmission</th>\n",
       "      <th>door_count</th>\n",
       "      <th>seat_count</th>\n",
       "      <th>fuel_type</th>\n",
       "    </tr>\n",
       "  </thead>\n",
       "  <tbody>\n",
       "    <tr>\n",
       "      <th>0</th>\n",
       "      <td>0.000000</td>\n",
       "      <td>0.0</td>\n",
       "      <td>0.263158</td>\n",
       "      <td>0.9</td>\n",
       "      <td>0.776022</td>\n",
       "      <td>0.000000</td>\n",
       "      <td>0.500000</td>\n",
       "      <td>0.500000</td>\n",
       "      <td>0.336343</td>\n",
       "      <td>0.316327</td>\n",
       "      <td>0.25</td>\n",
       "      <td>0.0</td>\n",
       "      <td>0.0</td>\n",
       "      <td>0.0</td>\n",
       "      <td>1.0</td>\n",
       "    </tr>\n",
       "    <tr>\n",
       "      <th>1</th>\n",
       "      <td>0.000178</td>\n",
       "      <td>0.0</td>\n",
       "      <td>0.578947</td>\n",
       "      <td>0.3</td>\n",
       "      <td>0.261079</td>\n",
       "      <td>1.000000</td>\n",
       "      <td>0.888889</td>\n",
       "      <td>0.111111</td>\n",
       "      <td>0.338036</td>\n",
       "      <td>0.336735</td>\n",
       "      <td>0.00</td>\n",
       "      <td>0.0</td>\n",
       "      <td>0.0</td>\n",
       "      <td>0.0</td>\n",
       "      <td>0.0</td>\n",
       "    </tr>\n",
       "    <tr>\n",
       "      <th>2</th>\n",
       "      <td>0.000356</td>\n",
       "      <td>0.0</td>\n",
       "      <td>0.263158</td>\n",
       "      <td>0.3</td>\n",
       "      <td>0.272415</td>\n",
       "      <td>0.666667</td>\n",
       "      <td>0.888889</td>\n",
       "      <td>0.111111</td>\n",
       "      <td>0.546840</td>\n",
       "      <td>0.673469</td>\n",
       "      <td>0.25</td>\n",
       "      <td>0.0</td>\n",
       "      <td>0.0</td>\n",
       "      <td>0.0</td>\n",
       "      <td>0.0</td>\n",
       "    </tr>\n",
       "    <tr>\n",
       "      <th>3</th>\n",
       "      <td>0.001426</td>\n",
       "      <td>0.0</td>\n",
       "      <td>0.263158</td>\n",
       "      <td>0.1</td>\n",
       "      <td>0.015459</td>\n",
       "      <td>0.333333</td>\n",
       "      <td>0.444444</td>\n",
       "      <td>0.555556</td>\n",
       "      <td>0.564898</td>\n",
       "      <td>0.602041</td>\n",
       "      <td>0.25</td>\n",
       "      <td>0.0</td>\n",
       "      <td>0.0</td>\n",
       "      <td>0.0</td>\n",
       "      <td>1.0</td>\n",
       "    </tr>\n",
       "    <tr>\n",
       "      <th>4</th>\n",
       "      <td>0.002316</td>\n",
       "      <td>0.0</td>\n",
       "      <td>0.263158</td>\n",
       "      <td>0.5</td>\n",
       "      <td>0.012023</td>\n",
       "      <td>0.666667</td>\n",
       "      <td>0.944444</td>\n",
       "      <td>0.055556</td>\n",
       "      <td>0.546840</td>\n",
       "      <td>0.928571</td>\n",
       "      <td>0.50</td>\n",
       "      <td>0.0</td>\n",
       "      <td>0.0</td>\n",
       "      <td>0.0</td>\n",
       "      <td>0.0</td>\n",
       "    </tr>\n",
       "    <tr>\n",
       "      <th>...</th>\n",
       "      <td>...</td>\n",
       "      <td>...</td>\n",
       "      <td>...</td>\n",
       "      <td>...</td>\n",
       "      <td>...</td>\n",
       "      <td>...</td>\n",
       "      <td>...</td>\n",
       "      <td>...</td>\n",
       "      <td>...</td>\n",
       "      <td>...</td>\n",
       "      <td>...</td>\n",
       "      <td>...</td>\n",
       "      <td>...</td>\n",
       "      <td>...</td>\n",
       "      <td>...</td>\n",
       "    </tr>\n",
       "    <tr>\n",
       "      <th>1670</th>\n",
       "      <td>0.996971</td>\n",
       "      <td>0.0</td>\n",
       "      <td>0.263158</td>\n",
       "      <td>0.9</td>\n",
       "      <td>0.798695</td>\n",
       "      <td>1.000000</td>\n",
       "      <td>0.444444</td>\n",
       "      <td>0.555556</td>\n",
       "      <td>0.546840</td>\n",
       "      <td>0.602041</td>\n",
       "      <td>0.75</td>\n",
       "      <td>0.0</td>\n",
       "      <td>0.0</td>\n",
       "      <td>0.0</td>\n",
       "      <td>0.0</td>\n",
       "    </tr>\n",
       "    <tr>\n",
       "      <th>1671</th>\n",
       "      <td>0.998574</td>\n",
       "      <td>0.0</td>\n",
       "      <td>0.000000</td>\n",
       "      <td>0.5</td>\n",
       "      <td>0.582618</td>\n",
       "      <td>1.000000</td>\n",
       "      <td>0.777778</td>\n",
       "      <td>0.222222</td>\n",
       "      <td>0.000000</td>\n",
       "      <td>0.112245</td>\n",
       "      <td>0.50</td>\n",
       "      <td>0.0</td>\n",
       "      <td>0.0</td>\n",
       "      <td>0.0</td>\n",
       "      <td>1.0</td>\n",
       "    </tr>\n",
       "    <tr>\n",
       "      <th>1672</th>\n",
       "      <td>0.999644</td>\n",
       "      <td>0.0</td>\n",
       "      <td>0.263158</td>\n",
       "      <td>0.9</td>\n",
       "      <td>0.775335</td>\n",
       "      <td>0.000000</td>\n",
       "      <td>0.722222</td>\n",
       "      <td>0.277778</td>\n",
       "      <td>0.546840</td>\n",
       "      <td>0.602041</td>\n",
       "      <td>1.00</td>\n",
       "      <td>0.0</td>\n",
       "      <td>0.0</td>\n",
       "      <td>0.0</td>\n",
       "      <td>0.0</td>\n",
       "    </tr>\n",
       "    <tr>\n",
       "      <th>1673</th>\n",
       "      <td>0.999822</td>\n",
       "      <td>0.0</td>\n",
       "      <td>0.684211</td>\n",
       "      <td>0.0</td>\n",
       "      <td>0.987633</td>\n",
       "      <td>0.000000</td>\n",
       "      <td>0.388889</td>\n",
       "      <td>0.611111</td>\n",
       "      <td>0.506208</td>\n",
       "      <td>0.530612</td>\n",
       "      <td>0.50</td>\n",
       "      <td>0.0</td>\n",
       "      <td>0.0</td>\n",
       "      <td>0.0</td>\n",
       "      <td>0.0</td>\n",
       "    </tr>\n",
       "    <tr>\n",
       "      <th>1674</th>\n",
       "      <td>1.000000</td>\n",
       "      <td>0.0</td>\n",
       "      <td>0.263158</td>\n",
       "      <td>0.1</td>\n",
       "      <td>0.937135</td>\n",
       "      <td>0.666667</td>\n",
       "      <td>0.388889</td>\n",
       "      <td>0.611111</td>\n",
       "      <td>0.506208</td>\n",
       "      <td>0.336735</td>\n",
       "      <td>0.75</td>\n",
       "      <td>0.0</td>\n",
       "      <td>0.0</td>\n",
       "      <td>0.0</td>\n",
       "      <td>0.0</td>\n",
       "    </tr>\n",
       "  </tbody>\n",
       "</table>\n",
       "<p>1675 rows × 15 columns</p>\n",
       "</div>"
      ],
      "text/plain": [
       "            Id  Maker     model  Location  Distance   Owner Type  \\\n",
       "0     0.000000    0.0  0.263158       0.9   0.776022    0.000000   \n",
       "1     0.000178    0.0  0.578947       0.3   0.261079    1.000000   \n",
       "2     0.000356    0.0  0.263158       0.3   0.272415    0.666667   \n",
       "3     0.001426    0.0  0.263158       0.1   0.015459    0.333333   \n",
       "4     0.002316    0.0  0.263158       0.5   0.012023    0.666667   \n",
       "...        ...    ...       ...       ...        ...         ...   \n",
       "1670  0.996971    0.0  0.263158       0.9   0.798695    1.000000   \n",
       "1671  0.998574    0.0  0.000000       0.5   0.582618    1.000000   \n",
       "1672  0.999644    0.0  0.263158       0.9   0.775335    0.000000   \n",
       "1673  0.999822    0.0  0.684211       0.0   0.987633    0.000000   \n",
       "1674  1.000000    0.0  0.263158       0.1   0.937135    0.666667   \n",
       "\n",
       "      manufacture_year  Age of car  engine_displacement  engine_power  \\\n",
       "0             0.500000    0.500000             0.336343      0.316327   \n",
       "1             0.888889    0.111111             0.338036      0.336735   \n",
       "2             0.888889    0.111111             0.546840      0.673469   \n",
       "3             0.444444    0.555556             0.564898      0.602041   \n",
       "4             0.944444    0.055556             0.546840      0.928571   \n",
       "...                ...         ...                  ...           ...   \n",
       "1670          0.444444    0.555556             0.546840      0.602041   \n",
       "1671          0.777778    0.222222             0.000000      0.112245   \n",
       "1672          0.722222    0.277778             0.546840      0.602041   \n",
       "1673          0.388889    0.611111             0.506208      0.530612   \n",
       "1674          0.388889    0.611111             0.506208      0.336735   \n",
       "\n",
       "      Vroom Audit Rating  transmission  door_count  seat_count  fuel_type  \n",
       "0                   0.25           0.0         0.0         0.0        1.0  \n",
       "1                   0.00           0.0         0.0         0.0        0.0  \n",
       "2                   0.25           0.0         0.0         0.0        0.0  \n",
       "3                   0.25           0.0         0.0         0.0        1.0  \n",
       "4                   0.50           0.0         0.0         0.0        0.0  \n",
       "...                  ...           ...         ...         ...        ...  \n",
       "1670                0.75           0.0         0.0         0.0        0.0  \n",
       "1671                0.50           0.0         0.0         0.0        1.0  \n",
       "1672                1.00           0.0         0.0         0.0        0.0  \n",
       "1673                0.50           0.0         0.0         0.0        0.0  \n",
       "1674                0.75           0.0         0.0         0.0        0.0  \n",
       "\n",
       "[1675 rows x 15 columns]"
      ]
     },
     "execution_count": 125,
     "metadata": {},
     "output_type": "execute_result"
    }
   ],
   "source": [
    "df8_mms"
   ]
  },
  {
   "cell_type": "code",
   "execution_count": 126,
   "id": "88dffcd7",
   "metadata": {},
   "outputs": [],
   "source": [
    "df8_ss=pd.DataFrame(ss.fit_transform(df8),columns=df8.columns)"
   ]
  },
  {
   "cell_type": "code",
   "execution_count": 127,
   "id": "7aed6ac6",
   "metadata": {},
   "outputs": [
    {
     "data": {
      "application/vnd.microsoft.datawrangler.viewer.v0+json": {
       "columns": [
        {
         "name": "index",
         "rawType": "int64",
         "type": "integer"
        },
        {
         "name": "Id",
         "rawType": "float64",
         "type": "float"
        },
        {
         "name": "Maker",
         "rawType": "float64",
         "type": "float"
        },
        {
         "name": "model",
         "rawType": "float64",
         "type": "float"
        },
        {
         "name": "Location",
         "rawType": "float64",
         "type": "float"
        },
        {
         "name": "Distance ",
         "rawType": "float64",
         "type": "float"
        },
        {
         "name": "Owner Type",
         "rawType": "float64",
         "type": "float"
        },
        {
         "name": "manufacture_year",
         "rawType": "float64",
         "type": "float"
        },
        {
         "name": "Age of car",
         "rawType": "float64",
         "type": "float"
        },
        {
         "name": "engine_displacement",
         "rawType": "float64",
         "type": "float"
        },
        {
         "name": "engine_power",
         "rawType": "float64",
         "type": "float"
        },
        {
         "name": "Vroom Audit Rating",
         "rawType": "float64",
         "type": "float"
        },
        {
         "name": "transmission",
         "rawType": "float64",
         "type": "float"
        },
        {
         "name": "door_count",
         "rawType": "float64",
         "type": "float"
        },
        {
         "name": "seat_count",
         "rawType": "float64",
         "type": "float"
        },
        {
         "name": "fuel_type",
         "rawType": "float64",
         "type": "float"
        }
       ],
       "conversionMethod": "pd.DataFrame",
       "ref": "63576203-cf3f-4583-9fe7-1b84f4e475c9",
       "rows": [
        [
         "0",
         "-1.7443865796211944",
         "0.0",
         "-0.5459567048646998",
         "1.270644143493438",
         "0.7204840653518629",
         "-1.3194010868509938",
         "-0.684556037071297",
         "0.6845560370713022",
         "-0.16186733560691116",
         "-0.39546800359216566",
         "-0.6975660209077607",
         "0.0",
         "0.0",
         "0.0",
         "1.093289432143998"
        ],
        [
         "1",
         "-1.7437701130449703",
         "0.0",
         "0.7058947402391635",
         "-0.6122773607986663",
         "-0.8080448649175768",
         "1.3368450916050334",
         "0.8973161613246468",
         "-0.8973161613246415",
         "-0.1525064811965543",
         "-0.2956700516498865",
         "-1.414389999447944",
         "0.0",
         "0.0",
         "0.0",
         "-0.9146708736029282"
        ],
        [
         "2",
         "-1.7431536464687463",
         "0.0",
         "-0.5459567048646998",
         "-0.6122773607986663",
         "-0.7743947950717519",
         "0.4514296987863577",
         "0.8973161613246468",
         "-0.8973161613246415",
         "1.0019988960807933",
         "1.3509961553977194",
         "-0.6975660209077607",
         "0.0",
         "0.0",
         "0.0",
         "-0.9146708736029282"
        ],
        [
         "3",
         "-1.7394548470114015",
         "0.0",
         "-0.5459567048646998",
         "-1.2399178622293678",
         "-1.537129711577116",
         "-0.433985694032318",
         "-0.910537779699289",
         "0.9105377796992942",
         "1.1018480097912666",
         "1.0017033235997426",
         "-0.6975660209077607",
         "0.0",
         "0.0",
         "0.0",
         "1.093289432143998"
        ],
        [
         "4",
         "-1.736372514130281",
         "0.0",
         "-0.5459567048646998",
         "0.015363140632035085",
         "-1.5473267024394872",
         "0.4514296987863577",
         "1.1232979039526387",
         "-1.1232979039526336",
         "1.0019988960807933",
         "2.598470554676209",
         "0.019257957632422797",
         "0.0",
         "0.0",
         "0.0",
         "-0.9146708736029282"
        ],
        [
         "5",
         "-1.735756047554057",
         "0.0",
         "-0.5459567048646998",
         "-0.6122773607986663",
         "-1.5830161704577863",
         "0.4514296987863577",
         "-0.006610809187321086",
         "0.006610809187326305",
         "-0.14626591158964972",
         "-0.2956700516498865",
         "1.4529059147127896",
         "0.0",
         "0.0",
         "0.0",
         "-0.9146708736029282"
        ],
        [
         "6",
         "-1.735139580977833",
         "0.0",
         "-0.5459567048646998",
         "-0.2984571100833156",
         "0.046462969349128",
         "0.4514296987863577",
         "0.44535267606866286",
         "-0.44535267606865764",
         "1.0019988960807933",
         "1.0017033235997426",
         "0.7360819361726062",
         "0.0",
         "0.0",
         "0.0",
         "-0.9146708736029282"
        ],
        [
         "7",
         "-1.7308243149442641",
         "0.0",
         "-0.5459567048646998",
         "0.3291833913473858",
         "1.1171470098981018",
         "0.4514296987863577",
         "-1.1365195223272808",
         "1.1365195223272861",
         "0.7898195294460376",
         "-0.2956700516498865",
         "-0.6975660209077607",
         "0.0",
         "0.0",
         "0.0",
         "-0.9146708736029282"
        ],
        [
         "8",
         "-1.7277419820631437",
         "0.0",
         "-0.5459567048646998",
         "-1.5537381129447185",
         "0.6909127918509865",
         "1.3368450916050334",
         "-0.684556037071297",
         "0.6845560370713022",
         "-0.1525064811965543",
         "0.10352175611923012",
         "-0.6975660209077607",
         "0.0",
         "0.0",
         "0.0",
         "1.093289432143998"
        ],
        [
         "9",
         "-1.7258925823344713",
         "0.0",
         "-0.5459567048646998",
         "0.6430036420627365",
         "0.7347598525591825",
         "-0.433985694032318",
         "0.44535267606866286",
         "-0.44535267606865764",
         "-0.14626591158964972",
         "-0.2956700516498865",
         "1.4529059147127896",
         "0.0",
         "0.0",
         "0.0",
         "-0.9146708736029282"
        ],
        [
         "10",
         "-1.7246596491820232",
         "0.0",
         "1.1231785552737845",
         "-0.926097611514017",
         "-0.49397754635654445",
         "-0.433985694032318",
         "0.21937093344067088",
         "-0.21937093344066566",
         "0.4715504794939039",
         "1.7501879631668362",
         "0.019257957632422797",
         "0.0",
         "0.0",
         "0.0",
         "1.093289432143998"
        ],
        [
         "11",
         "-1.7240431826057991",
         "0.0",
         "1.1231785552737845",
         "1.5844643942087886",
         "-0.47664266189051346",
         "0.4514296987863577",
         "0.44535267606866286",
         "-0.44535267606865764",
         "1.0019988960807933",
         "1.0017033235997426",
         "-0.6975660209077607",
         "0.0",
         "0.0",
         "0.0",
         "-0.9146708736029282"
        ],
        [
         "12",
         "-1.7228102494533508",
         "0.0",
         "0.914536647756474",
         "-0.2984571100833156",
         "1.1966835386245969",
         "0.4514296987863577",
         "-0.684556037071297",
         "0.6845560370713022",
         "0.7773383902322284",
         "-0.2956700516498865",
         "-1.414389999447944",
         "0.0",
         "0.0",
         "0.0",
         "-0.9146708736029282"
        ],
        [
         "13",
         "-1.7215773163009027",
         "0.0",
         "1.1231785552737845",
         "1.270644143493438",
         "0.7102870744894917",
         "-0.433985694032318",
         "0.21937093344067088",
         "-0.21937093344066566",
         "1.0019988960807933",
         "1.0017033235997426",
         "1.4529059147127896",
         "0.0",
         "0.0",
         "0.0",
         "-0.9146708736029282"
        ],
        [
         "14",
         "-1.7209608497246787",
         "0.0",
         "2.375030000377648",
         "-0.2984571100833156",
         "0.3829636678073769",
         "1.3368450916050334",
         "0.6713344186966548",
         "-0.6713344186966496",
         "1.0019988960807933",
         "-0.0960741477653282",
         "-0.6975660209077607",
         "0.0",
         "0.0",
         "0.0",
         "-0.9146708736029282"
        ],
        [
         "15",
         "-1.7203443831484544",
         "0.0",
         "0.914536647756474",
         "-0.2984571100833156",
         "-1.554464596043147",
         "1.3368450916050334",
         "1.1232979039526387",
         "-1.1232979039526336",
         "-1.3943798329705661",
         "-1.5930434268995155",
         "0.7360819361726062",
         "0.0",
         "0.0",
         "0.0",
         "1.093289432143998"
        ],
        [
         "16",
         "-1.7184949834197822",
         "0.0",
         "-0.5459567048646998",
         "-0.926097611514017",
         "0.11070401178206642",
         "-1.3194010868509938",
         "0.8973161613246468",
         "-0.8973161613246415",
         "-0.1525064811965543",
         "-0.2956700516498865",
         "0.019257957632422797",
         "0.0",
         "0.0",
         "0.0",
         "-0.9146708736029282"
        ],
        [
         "17",
         "-1.7178785168435582",
         "0.0",
         "-0.5459567048646998",
         "0.015363140632035085",
         "0.8571237429076367",
         "-1.3194010868509938",
         "-1.8144647502112567",
         "1.814464750211262",
         "0.7898195294460376",
         "-0.0960741477653282",
         "-0.6975660209077607",
         "0.0",
         "0.0",
         "0.0",
         "-0.9146708736029282"
        ],
        [
         "18",
         "-1.7154126505386618",
         "0.0",
         "0.7058947402391635",
         "-0.926097611514017",
         "-0.45420928199329685",
         "-1.3194010868509938",
         "0.6713344186966548",
         "-0.6713344186966496",
         "-1.3943798329705661",
         "-0.9942557152458406",
         "-1.414389999447944",
         "0.0",
         "0.0",
         "0.0",
         "1.093289432143998"
        ],
        [
         "19",
         "-1.7135632508099894",
         "0.0",
         "-0.5459567048646998",
         "-1.5537381129447185",
         "1.3149686326281025",
         "-1.3194010868509938",
         "-0.910537779699289",
         "0.9105377796992942",
         "1.0019988960807933",
         "1.0017033235997426",
         "0.7360819361726062",
         "0.0",
         "0.0",
         "0.0",
         "-0.9146708736029282"
        ],
        [
         "20",
         "-1.711097384505093",
         "0.0",
         "-0.5459567048646998",
         "0.9568238927780872",
         "0.4941108682072227",
         "-1.3194010868509938",
         "-2.7183917207232247",
         "2.71839172072323",
         "-0.1525064811965543",
         "-1.3934475230149572",
         "0.7360819361726062",
         "0.0",
         "0.0",
         "0.0",
         "1.093289432143998"
        ],
        [
         "21",
         "-1.7086315182001965",
         "0.0",
         "-0.5459567048646998",
         "-1.5537381129447185",
         "1.1926047422796484",
         "-1.3194010868509938",
         "-0.910537779699289",
         "0.9105377796992942",
         "0.7773383902322284",
         "-0.2956700516498865",
         "0.019257957632422797",
         "0.0",
         "0.0",
         "0.0",
         "-0.9146708736029282"
        ],
        [
         "22",
         "-1.7067821184715244",
         "0.0",
         "-0.5459567048646998",
         "0.9568238927780872",
         "-0.11057068993138815",
         "-1.3194010868509938",
         "0.44535267606866286",
         "-0.44535267606865764",
         "-0.1525064811965543",
         "-0.2956700516498865",
         "0.019257957632422797",
         "0.0",
         "0.0",
         "0.0",
         "-0.9146708736029282"
        ],
        [
         "23",
         "-1.705549185319076",
         "0.0",
         "-1.5891662424512525",
         "0.6430036420627365",
         "-1.1710577396179906",
         "-1.3194010868509938",
         "1.1232979039526387",
         "-1.1232979039526336",
         "-2.0215570784644767",
         "-1.9423362586974926",
         "0.7360819361726062",
         "0.0",
         "0.0",
         "0.0",
         "1.093289432143998"
        ],
        [
         "24",
         "-1.704932718742852",
         "0.0",
         "-0.5459567048646998",
         "-0.926097611514017",
         "0.056659960211499175",
         "1.3368450916050334",
         "-0.006610809187321086",
         "0.006610809187326305",
         "1.0019988960807933",
         "0.353016635974928",
         "1.4529059147127896",
         "0.0",
         "0.0",
         "0.0",
         "1.093289432143998"
        ],
        [
         "25",
         "-1.704316252166628",
         "0.0",
         "0.914536647756474",
         "-0.926097611514017",
         "1.3690126841986698",
         "1.3368450916050334",
         "-0.458574294443305",
         "0.4585742944433102",
         "-1.3943798329705661",
         "-1.5930434268995155",
         "0.019257957632422797",
         "0.0",
         "0.0",
         "0.0",
         "1.093289432143998"
        ],
        [
         "26",
         "-1.7030833190141796",
         "0.0",
         "-0.5459567048646998",
         "0.9568238927780872",
         "0.15047227614531403",
         "1.3368450916050334",
         "0.44535267606866286",
         "-0.44535267606865764",
         "1.0019988960807933",
         "1.0017033235997426",
         "-1.414389999447944",
         "0.0",
         "0.0",
         "0.0",
         "-0.9146708736029282"
        ],
        [
         "27",
         "-1.7024668524379556",
         "0.0",
         "0.914536647756474",
         "-0.6122773607986663",
         "-0.671405187361803",
         "0.4514296987863577",
         "1.1232979039526387",
         "-1.1232979039526336",
         "-1.4006204025774707",
         "-1.5930434268995155",
         "0.019257957632422797",
         "0.0",
         "0.0",
         "0.0",
         "1.093289432143998"
        ],
        [
         "28",
         "-1.6975351198281627",
         "0.0",
         "-0.5459567048646998",
         "0.015363140632035085",
         "0.30648623633959304",
         "1.3368450916050334",
         "-1.3625012649552728",
         "1.3625012649552781",
         "-0.16186733560691116",
         "-0.39546800359216566",
         "0.019257957632422797",
         "0.0",
         "0.0",
         "0.0",
         "1.093289432143998"
        ],
        [
         "29",
         "-1.6919869206421458",
         "0.0",
         "-0.5459567048646998",
         "0.9568238927780872",
         "1.3547368969913502",
         "0.4514296987863577",
         "-2.4924099780952327",
         "2.492409978095238",
         "0.7898195294460376",
         "-0.0960741477653282",
         "-1.414389999447944",
         "0.0",
         "0.0",
         "0.0",
         "-0.9146708736029282"
        ],
        [
         "30",
         "-1.6913704540659218",
         "0.0",
         "0.914536647756474",
         "0.9568238927780872",
         "-0.17379203327808945",
         "-1.3194010868509938",
         "0.44535267606866286",
         "-0.44535267606865764",
         "-1.3975001177740185",
         "-1.3934475230149572",
         "-0.6975660209077607",
         "0.0",
         "0.0",
         "0.0",
         "-0.9146708736029282"
        ],
        [
         "31",
         "-1.685822254879905",
         "0.0",
         "-0.5459567048646998",
         "0.015363140632035085",
         "1.284377660040989",
         "1.3368450916050334",
         "-0.006610809187321086",
         "0.006610809187326305",
         "-0.1525064811965543",
         "-0.2956700516498865",
         "0.7360819361726062",
         "0.0",
         "0.0",
         "0.0",
         "-0.9146708736029282"
        ],
        [
         "32",
         "-1.6852057883036808",
         "0.0",
         "-1.5891662424512525",
         "0.015363140632035085",
         "-1.5830161704577863",
         "-0.433985694032318",
         "1.1232979039526387",
         "-1.1232979039526336",
         "-2.0215570784644767",
         "-1.3934475230149572",
         "1.4529059147127896",
         "0.0",
         "0.0",
         "0.0",
         "1.093289432143998"
        ],
        [
         "33",
         "-1.6784246559652158",
         "0.0",
         "-0.5459567048646998",
         "0.9568238927780872",
         "0.7918630013884611",
         "-1.3194010868509938",
         "-0.910537779699289",
         "0.9105377796992942",
         "0.7898195294460376",
         "-0.2956700516498865",
         "0.019257957632422797",
         "0.0",
         "0.0",
         "0.0",
         "-0.9146708736029282"
        ],
        [
         "34",
         "-1.6765752562365435",
         "0.0",
         "0.914536647756474",
         "0.9568238927780872",
         "0.08521153462613848",
         "-0.433985694032318",
         "-0.23259255181531305",
         "0.23259255181531827",
         "-1.4006204025774707",
         "-1.5930434268995155",
         "0.7360819361726062",
         "0.0",
         "0.0",
         "0.0",
         "1.093289432143998"
        ],
        [
         "35",
         "-1.6753423230840951",
         "0.0",
         "-0.5459567048646998",
         "0.015363140632035085",
         "-1.5728191795954152",
         "-0.433985694032318",
         "1.1232979039526387",
         "-1.1232979039526336",
         "1.0019988960807933",
         "1.3509961553977194",
         "1.4529059147127896",
         "0.0",
         "0.0",
         "0.0",
         "-0.9146708736029282"
        ],
        [
         "36",
         "-1.674109389931647",
         "0.0",
         "-0.5459567048646998",
         "-1.2399178622293678",
         "1.3017125445070201",
         "-0.433985694032318",
         "-0.006610809187321086",
         "0.006610809187326305",
         "-0.1525064811965543",
         "-0.2956700516498865",
         "-1.414389999447944",
         "0.0",
         "0.0",
         "0.0",
         "-0.9146708736029282"
        ],
        [
         "37",
         "-1.6691776573218542",
         "0.0",
         "-0.5459567048646998",
         "-1.2399178622293678",
         "1.01517710127439",
         "1.3368450916050334",
         "-1.3625012649552728",
         "1.3625012649552781",
         "-0.16186733560691116",
         "-0.39546800359216566",
         "0.019257957632422797",
         "0.0",
         "0.0",
         "0.0",
         "1.093289432143998"
        ],
        [
         "38",
         "-1.667944724169406",
         "0.0",
         "1.1231785552737845",
         "0.6430036420627365",
         "0.885675317322276",
         "-0.433985694032318",
         "-0.006610809187321086",
         "0.006610809187326305",
         "1.0019988960807933",
         "1.0017033235997426",
         "0.7360819361726062",
         "0.0",
         "0.0",
         "0.0",
         "-0.9146708736029282"
        ],
        [
         "39",
         "-1.667328257593182",
         "0.0",
         "-0.5459567048646998",
         "0.6430036420627365",
         "1.3129292344556283",
         "0.4514296987863577",
         "-0.458574294443305",
         "0.4585742944433102",
         "0.7773383902322284",
         "-0.44536697956330523",
         "0.7360819361726062",
         "0.0",
         "0.0",
         "0.0",
         "-0.9146708736029282"
        ],
        [
         "40",
         "-1.6660953244407337",
         "0.0",
         "0.914536647756474",
         "-0.926097611514017",
         "-0.20948150129638857",
         "0.4514296987863577",
         "0.6713344186966548",
         "-0.6713344186966496",
         "-1.3943798329705661",
         "-1.3934475230149572",
         "0.7360819361726062",
         "0.0",
         "0.0",
         "0.0",
         "-0.9146708736029282"
        ],
        [
         "41",
         "-1.6630129915596132",
         "0.0",
         "-0.5459567048646998",
         "-0.926097611514017",
         "1.2588851828850611",
         "-1.3194010868509938",
         "-1.1365195223272808",
         "1.1365195223272861",
         "0.7898195294460376",
         "-0.2956700516498865",
         "-1.414389999447944",
         "0.0",
         "0.0",
         "0.0",
         "-0.9146708736029282"
        ],
        [
         "42",
         "-1.6593141921022687",
         "0.0",
         "0.914536647756474",
         "1.5844643942087886",
         "-0.014718975825099071",
         "-1.3194010868509938",
         "-0.684556037071297",
         "0.6845560370713022",
         "-0.1525064811965543",
         "-0.2956700516498865",
         "0.7360819361726062",
         "0.0",
         "0.0",
         "0.0",
         "1.093289432143998"
        ],
        [
         "43",
         "-1.6549989260687",
         "0.0",
         "2.375030000377648",
         "0.9568238927780872",
         "-1.0629696364768562",
         "1.3368450916050334",
         "0.8973161613246468",
         "-0.8973161613246415",
         "-1.403740687380923",
         "-0.2956700516498865",
         "-0.6975660209077607",
         "0.0",
         "0.0",
         "0.0",
         "1.093289432143998"
        ],
        [
         "44",
         "-1.6531495263400278",
         "0.0",
         "0.7058947402391635",
         "-1.5537381129447185",
         "-1.3586823714856204",
         "0.4514296987863577",
         "0.8973161613246468",
         "-0.8973161613246415",
         "-0.1525064811965543",
         "-0.2956700516498865",
         "-0.6975660209077607",
         "0.0",
         "0.0",
         "0.0",
         "-0.9146708736029282"
        ],
        [
         "45",
         "-1.6519165931875794",
         "0.0",
         "0.914536647756474",
         "0.3291833913473858",
         "-1.035437761148454",
         "-0.433985694032318",
         "1.1232979039526387",
         "-1.1232979039526336",
         "-1.403740687380923",
         "-0.9942557152458406",
         "1.4529059147127896",
         "0.0",
         "0.0",
         "0.0",
         "1.093289432143998"
        ],
        [
         "46",
         "-1.650067193458907",
         "0.0",
         "-0.5459567048646998",
         "-1.2399178622293678",
         "-1.5728191795954152",
         "-1.3194010868509938",
         "1.1232979039526387",
         "-1.1232979039526336",
         "1.0019988960807933",
         "1.3509961553977194",
         "-0.6975660209077607",
         "0.0",
         "0.0",
         "0.0",
         "-0.9146708736029282"
        ],
        [
         "47",
         "-1.648834260306459",
         "0.0",
         "0.7058947402391635",
         "0.9568238927780872",
         "-1.5728191795954152",
         "1.3368450916050334",
         "1.1232979039526387",
         "-1.1232979039526336",
         "-1.403740687380923",
         "-0.8445587873324218",
         "0.7360819361726062",
         "0.0",
         "0.0",
         "0.0",
         "1.093289432143998"
        ],
        [
         "48",
         "-1.6476013271540109",
         "0.0",
         "-0.5459567048646998",
         "1.5844643942087886",
         "0.06685695107387035",
         "-0.433985694032318",
         "0.44535267606866286",
         "-0.44535267606865764",
         "1.0019988960807933",
         "1.0017033235997426",
         "0.7360819361726062",
         "0.0",
         "0.0",
         "0.0",
         "-0.9146708736029282"
        ],
        [
         "49",
         "-1.6469848605777866",
         "0.0",
         "0.914536647756474",
         "0.6430036420627365",
         "-1.554464596043147",
         "-0.433985694032318",
         "0.8973161613246468",
         "-0.8973161613246415",
         "-1.403740687380923",
         "-0.9942557152458406",
         "1.4529059147127896",
         "0.0",
         "0.0",
         "0.0",
         "1.093289432143998"
        ]
       ],
       "shape": {
        "columns": 15,
        "rows": 1675
       }
      },
      "text/html": [
       "<div>\n",
       "<style scoped>\n",
       "    .dataframe tbody tr th:only-of-type {\n",
       "        vertical-align: middle;\n",
       "    }\n",
       "\n",
       "    .dataframe tbody tr th {\n",
       "        vertical-align: top;\n",
       "    }\n",
       "\n",
       "    .dataframe thead th {\n",
       "        text-align: right;\n",
       "    }\n",
       "</style>\n",
       "<table border=\"1\" class=\"dataframe\">\n",
       "  <thead>\n",
       "    <tr style=\"text-align: right;\">\n",
       "      <th></th>\n",
       "      <th>Id</th>\n",
       "      <th>Maker</th>\n",
       "      <th>model</th>\n",
       "      <th>Location</th>\n",
       "      <th>Distance</th>\n",
       "      <th>Owner Type</th>\n",
       "      <th>manufacture_year</th>\n",
       "      <th>Age of car</th>\n",
       "      <th>engine_displacement</th>\n",
       "      <th>engine_power</th>\n",
       "      <th>Vroom Audit Rating</th>\n",
       "      <th>transmission</th>\n",
       "      <th>door_count</th>\n",
       "      <th>seat_count</th>\n",
       "      <th>fuel_type</th>\n",
       "    </tr>\n",
       "  </thead>\n",
       "  <tbody>\n",
       "    <tr>\n",
       "      <th>0</th>\n",
       "      <td>-1.744387</td>\n",
       "      <td>0.0</td>\n",
       "      <td>-0.545957</td>\n",
       "      <td>1.270644</td>\n",
       "      <td>0.720484</td>\n",
       "      <td>-1.319401</td>\n",
       "      <td>-0.684556</td>\n",
       "      <td>0.684556</td>\n",
       "      <td>-0.161867</td>\n",
       "      <td>-0.395468</td>\n",
       "      <td>-0.697566</td>\n",
       "      <td>0.0</td>\n",
       "      <td>0.0</td>\n",
       "      <td>0.0</td>\n",
       "      <td>1.093289</td>\n",
       "    </tr>\n",
       "    <tr>\n",
       "      <th>1</th>\n",
       "      <td>-1.743770</td>\n",
       "      <td>0.0</td>\n",
       "      <td>0.705895</td>\n",
       "      <td>-0.612277</td>\n",
       "      <td>-0.808045</td>\n",
       "      <td>1.336845</td>\n",
       "      <td>0.897316</td>\n",
       "      <td>-0.897316</td>\n",
       "      <td>-0.152506</td>\n",
       "      <td>-0.295670</td>\n",
       "      <td>-1.414390</td>\n",
       "      <td>0.0</td>\n",
       "      <td>0.0</td>\n",
       "      <td>0.0</td>\n",
       "      <td>-0.914671</td>\n",
       "    </tr>\n",
       "    <tr>\n",
       "      <th>2</th>\n",
       "      <td>-1.743154</td>\n",
       "      <td>0.0</td>\n",
       "      <td>-0.545957</td>\n",
       "      <td>-0.612277</td>\n",
       "      <td>-0.774395</td>\n",
       "      <td>0.451430</td>\n",
       "      <td>0.897316</td>\n",
       "      <td>-0.897316</td>\n",
       "      <td>1.001999</td>\n",
       "      <td>1.350996</td>\n",
       "      <td>-0.697566</td>\n",
       "      <td>0.0</td>\n",
       "      <td>0.0</td>\n",
       "      <td>0.0</td>\n",
       "      <td>-0.914671</td>\n",
       "    </tr>\n",
       "    <tr>\n",
       "      <th>3</th>\n",
       "      <td>-1.739455</td>\n",
       "      <td>0.0</td>\n",
       "      <td>-0.545957</td>\n",
       "      <td>-1.239918</td>\n",
       "      <td>-1.537130</td>\n",
       "      <td>-0.433986</td>\n",
       "      <td>-0.910538</td>\n",
       "      <td>0.910538</td>\n",
       "      <td>1.101848</td>\n",
       "      <td>1.001703</td>\n",
       "      <td>-0.697566</td>\n",
       "      <td>0.0</td>\n",
       "      <td>0.0</td>\n",
       "      <td>0.0</td>\n",
       "      <td>1.093289</td>\n",
       "    </tr>\n",
       "    <tr>\n",
       "      <th>4</th>\n",
       "      <td>-1.736373</td>\n",
       "      <td>0.0</td>\n",
       "      <td>-0.545957</td>\n",
       "      <td>0.015363</td>\n",
       "      <td>-1.547327</td>\n",
       "      <td>0.451430</td>\n",
       "      <td>1.123298</td>\n",
       "      <td>-1.123298</td>\n",
       "      <td>1.001999</td>\n",
       "      <td>2.598471</td>\n",
       "      <td>0.019258</td>\n",
       "      <td>0.0</td>\n",
       "      <td>0.0</td>\n",
       "      <td>0.0</td>\n",
       "      <td>-0.914671</td>\n",
       "    </tr>\n",
       "    <tr>\n",
       "      <th>...</th>\n",
       "      <td>...</td>\n",
       "      <td>...</td>\n",
       "      <td>...</td>\n",
       "      <td>...</td>\n",
       "      <td>...</td>\n",
       "      <td>...</td>\n",
       "      <td>...</td>\n",
       "      <td>...</td>\n",
       "      <td>...</td>\n",
       "      <td>...</td>\n",
       "      <td>...</td>\n",
       "      <td>...</td>\n",
       "      <td>...</td>\n",
       "      <td>...</td>\n",
       "      <td>...</td>\n",
       "    </tr>\n",
       "    <tr>\n",
       "      <th>1670</th>\n",
       "      <td>1.704744</td>\n",
       "      <td>0.0</td>\n",
       "      <td>-0.545957</td>\n",
       "      <td>1.270644</td>\n",
       "      <td>0.787784</td>\n",
       "      <td>1.336845</td>\n",
       "      <td>-0.910538</td>\n",
       "      <td>0.910538</td>\n",
       "      <td>1.001999</td>\n",
       "      <td>1.001703</td>\n",
       "      <td>0.736082</td>\n",
       "      <td>0.0</td>\n",
       "      <td>0.0</td>\n",
       "      <td>0.0</td>\n",
       "      <td>-0.914671</td>\n",
       "    </tr>\n",
       "    <tr>\n",
       "      <th>1671</th>\n",
       "      <td>1.710292</td>\n",
       "      <td>0.0</td>\n",
       "      <td>-1.589166</td>\n",
       "      <td>0.015363</td>\n",
       "      <td>0.146393</td>\n",
       "      <td>1.336845</td>\n",
       "      <td>0.445353</td>\n",
       "      <td>-0.445353</td>\n",
       "      <td>-2.021557</td>\n",
       "      <td>-1.393448</td>\n",
       "      <td>0.019258</td>\n",
       "      <td>0.0</td>\n",
       "      <td>0.0</td>\n",
       "      <td>0.0</td>\n",
       "      <td>1.093289</td>\n",
       "    </tr>\n",
       "    <tr>\n",
       "      <th>1672</th>\n",
       "      <td>1.713991</td>\n",
       "      <td>0.0</td>\n",
       "      <td>-0.545957</td>\n",
       "      <td>1.270644</td>\n",
       "      <td>0.718445</td>\n",
       "      <td>-1.319401</td>\n",
       "      <td>0.219371</td>\n",
       "      <td>-0.219371</td>\n",
       "      <td>1.001999</td>\n",
       "      <td>1.001703</td>\n",
       "      <td>1.452906</td>\n",
       "      <td>0.0</td>\n",
       "      <td>0.0</td>\n",
       "      <td>0.0</td>\n",
       "      <td>-0.914671</td>\n",
       "    </tr>\n",
       "    <tr>\n",
       "      <th>1673</th>\n",
       "      <td>1.714607</td>\n",
       "      <td>0.0</td>\n",
       "      <td>1.123179</td>\n",
       "      <td>-1.553738</td>\n",
       "      <td>1.348619</td>\n",
       "      <td>-1.319401</td>\n",
       "      <td>-1.136520</td>\n",
       "      <td>1.136520</td>\n",
       "      <td>0.777338</td>\n",
       "      <td>0.652410</td>\n",
       "      <td>0.019258</td>\n",
       "      <td>0.0</td>\n",
       "      <td>0.0</td>\n",
       "      <td>0.0</td>\n",
       "      <td>-0.914671</td>\n",
       "    </tr>\n",
       "    <tr>\n",
       "      <th>1674</th>\n",
       "      <td>1.715224</td>\n",
       "      <td>0.0</td>\n",
       "      <td>-0.545957</td>\n",
       "      <td>-1.239918</td>\n",
       "      <td>1.198723</td>\n",
       "      <td>0.451430</td>\n",
       "      <td>-1.136520</td>\n",
       "      <td>1.136520</td>\n",
       "      <td>0.777338</td>\n",
       "      <td>-0.295670</td>\n",
       "      <td>0.736082</td>\n",
       "      <td>0.0</td>\n",
       "      <td>0.0</td>\n",
       "      <td>0.0</td>\n",
       "      <td>-0.914671</td>\n",
       "    </tr>\n",
       "  </tbody>\n",
       "</table>\n",
       "<p>1675 rows × 15 columns</p>\n",
       "</div>"
      ],
      "text/plain": [
       "            Id  Maker     model  Location  Distance   Owner Type  \\\n",
       "0    -1.744387    0.0 -0.545957  1.270644   0.720484   -1.319401   \n",
       "1    -1.743770    0.0  0.705895 -0.612277  -0.808045    1.336845   \n",
       "2    -1.743154    0.0 -0.545957 -0.612277  -0.774395    0.451430   \n",
       "3    -1.739455    0.0 -0.545957 -1.239918  -1.537130   -0.433986   \n",
       "4    -1.736373    0.0 -0.545957  0.015363  -1.547327    0.451430   \n",
       "...        ...    ...       ...       ...        ...         ...   \n",
       "1670  1.704744    0.0 -0.545957  1.270644   0.787784    1.336845   \n",
       "1671  1.710292    0.0 -1.589166  0.015363   0.146393    1.336845   \n",
       "1672  1.713991    0.0 -0.545957  1.270644   0.718445   -1.319401   \n",
       "1673  1.714607    0.0  1.123179 -1.553738   1.348619   -1.319401   \n",
       "1674  1.715224    0.0 -0.545957 -1.239918   1.198723    0.451430   \n",
       "\n",
       "      manufacture_year  Age of car  engine_displacement  engine_power  \\\n",
       "0            -0.684556    0.684556            -0.161867     -0.395468   \n",
       "1             0.897316   -0.897316            -0.152506     -0.295670   \n",
       "2             0.897316   -0.897316             1.001999      1.350996   \n",
       "3            -0.910538    0.910538             1.101848      1.001703   \n",
       "4             1.123298   -1.123298             1.001999      2.598471   \n",
       "...                ...         ...                  ...           ...   \n",
       "1670         -0.910538    0.910538             1.001999      1.001703   \n",
       "1671          0.445353   -0.445353            -2.021557     -1.393448   \n",
       "1672          0.219371   -0.219371             1.001999      1.001703   \n",
       "1673         -1.136520    1.136520             0.777338      0.652410   \n",
       "1674         -1.136520    1.136520             0.777338     -0.295670   \n",
       "\n",
       "      Vroom Audit Rating  transmission  door_count  seat_count  fuel_type  \n",
       "0              -0.697566           0.0         0.0         0.0   1.093289  \n",
       "1              -1.414390           0.0         0.0         0.0  -0.914671  \n",
       "2              -0.697566           0.0         0.0         0.0  -0.914671  \n",
       "3              -0.697566           0.0         0.0         0.0   1.093289  \n",
       "4               0.019258           0.0         0.0         0.0  -0.914671  \n",
       "...                  ...           ...         ...         ...        ...  \n",
       "1670            0.736082           0.0         0.0         0.0  -0.914671  \n",
       "1671            0.019258           0.0         0.0         0.0   1.093289  \n",
       "1672            1.452906           0.0         0.0         0.0  -0.914671  \n",
       "1673            0.019258           0.0         0.0         0.0  -0.914671  \n",
       "1674            0.736082           0.0         0.0         0.0  -0.914671  \n",
       "\n",
       "[1675 rows x 15 columns]"
      ]
     },
     "execution_count": 127,
     "metadata": {},
     "output_type": "execute_result"
    }
   ],
   "source": [
    "df8_ss"
   ]
  },
  {
   "cell_type": "code",
   "execution_count": 128,
   "id": "be79851b",
   "metadata": {},
   "outputs": [
    {
     "data": {
      "text/plain": [
       "Index(['Id', 'Maker', 'model', 'Location', 'Distance ', 'Owner Type',\n",
       "       'manufacture_year', 'Age of car', 'engine_displacement', 'engine_power',\n",
       "       'Vroom Audit Rating', 'transmission', 'door_count', 'seat_count',\n",
       "       'fuel_type'],\n",
       "      dtype='object')"
      ]
     },
     "execution_count": 128,
     "metadata": {},
     "output_type": "execute_result"
    }
   ],
   "source": [
    "df8.columns"
   ]
  },
  {
   "cell_type": "code",
   "execution_count": 129,
   "id": "313a059b",
   "metadata": {},
   "outputs": [
    {
     "data": {
      "text/plain": [
       "(1675, 15)"
      ]
     },
     "execution_count": 129,
     "metadata": {},
     "output_type": "execute_result"
    }
   ],
   "source": [
    "df8.shape"
   ]
  },
  {
   "cell_type": "code",
   "execution_count": 130,
   "id": "a7ebb112",
   "metadata": {},
   "outputs": [],
   "source": [
    "df8.to_csv('preprocessed_data.csv',index=False)"
   ]
  },
  {
   "cell_type": "code",
   "execution_count": 131,
   "id": "daf1da22",
   "metadata": {},
   "outputs": [
    {
     "data": {
      "text/plain": [
       "(1675, 15)"
      ]
     },
     "execution_count": 131,
     "metadata": {},
     "output_type": "execute_result"
    }
   ],
   "source": [
    "df8.shape"
   ]
  }
 ],
 "metadata": {
  "kernelspec": {
   "display_name": "Python 3",
   "language": "python",
   "name": "python3"
  },
  "language_info": {
   "codemirror_mode": {
    "name": "ipython",
    "version": 3
   },
   "file_extension": ".py",
   "mimetype": "text/x-python",
   "name": "python",
   "nbconvert_exporter": "python",
   "pygments_lexer": "ipython3",
   "version": "3.13.1"
  }
 },
 "nbformat": 4,
 "nbformat_minor": 5
}
