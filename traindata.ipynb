{
 "cells": [
  {
   "cell_type": "code",
   "execution_count": 24,
   "id": "28c6df81",
   "metadata": {},
   "outputs": [],
   "source": [
    "import pandas as pd\n",
    "import numpy as np"
   ]
  },
  {
   "cell_type": "code",
   "execution_count": 25,
   "id": "1d98bd70",
   "metadata": {},
   "outputs": [],
   "source": [
    "df=pd.read_csv(r'C:\\Users\\Suresh\\OneDrive\\Desktop\\PY BASIC2\\pypandas2.csv')"
   ]
  },
  {
   "cell_type": "code",
   "execution_count": 26,
   "id": "75a976ed",
   "metadata": {},
   "outputs": [
    {
     "data": {
      "application/vnd.microsoft.datawrangler.viewer.v0+json": {
       "columns": [
        {
         "name": "index",
         "rawType": "int64",
         "type": "integer"
        },
        {
         "name": "Id",
         "rawType": "int64",
         "type": "integer"
        },
        {
         "name": "Maker",
         "rawType": "object",
         "type": "string"
        },
        {
         "name": "model",
         "rawType": "object",
         "type": "string"
        },
        {
         "name": "Location",
         "rawType": "object",
         "type": "string"
        },
        {
         "name": "Distance ",
         "rawType": "float64",
         "type": "float"
        },
        {
         "name": "Owner Type",
         "rawType": "object",
         "type": "string"
        },
        {
         "name": "manufacture_year",
         "rawType": "int64",
         "type": "integer"
        },
        {
         "name": "Age of car",
         "rawType": "int64",
         "type": "integer"
        },
        {
         "name": "engine_displacement",
         "rawType": "int64",
         "type": "integer"
        },
        {
         "name": "engine_power",
         "rawType": "float64",
         "type": "float"
        },
        {
         "name": "body_type",
         "rawType": "object",
         "type": "unknown"
        },
        {
         "name": "Vroom Audit Rating",
         "rawType": "int64",
         "type": "integer"
        },
        {
         "name": "transmission",
         "rawType": "object",
         "type": "string"
        },
        {
         "name": "door_count",
         "rawType": "float64",
         "type": "float"
        },
        {
         "name": "seat_count",
         "rawType": "float64",
         "type": "float"
        },
        {
         "name": "fuel_type",
         "rawType": "object",
         "type": "string"
        },
        {
         "name": "Price",
         "rawType": "float64",
         "type": "float"
        }
       ],
       "conversionMethod": "pd.DataFrame",
       "ref": "574ae1c0-59d2-4583-82b5-7f084740db92",
       "rows": [
        [
         "0",
         "25001",
         "skoda",
         "octavia",
         "Ahmedabad",
         null,
         "Second",
         "1964",
         "55",
         "1964",
         "147.0",
         "compact",
         "8",
         "man",
         null,
         null,
         "petrol",
         "543764.25"
        ],
        [
         "1",
         "25002",
         "fiat",
         "panda",
         "Ahmedabad",
         "27750.0",
         "Third",
         "2012",
         "7",
         "1242",
         "51.0",
         null,
         "6",
         "man",
         "4.0",
         "4.0",
         "petrol",
         "401819.25"
        ],
        [
         "2",
         "25003",
         "bmw",
         "x1",
         "Hyderabad",
         "46000.0",
         "Third",
         "2014",
         "5",
         "1995",
         "105.0",
         null,
         "7",
         "auto",
         "4.0",
         "5.0",
         "diesel",
         "2392855.5"
        ],
        [
         "3",
         "25004",
         "nissan",
         "juke",
         "Mumbai",
         "43949.0",
         "Third",
         "2011",
         "8",
         "1618",
         "140.0",
         null,
         "7",
         "man",
         "4.0",
         "5.0",
         "petrol",
         "958606.5"
        ],
        [
         "4",
         "25005",
         "bmw",
         "x5",
         "Jaipur",
         "59524.0",
         "Fourth & Above",
         "2012",
         "7",
         "2993",
         "180.0",
         null,
         "7",
         "auto",
         "4.0",
         "5.0",
         "diesel",
         "3085561.5"
        ],
        [
         "5",
         "25006",
         "skoda",
         "octavia",
         "Chennai",
         "12015.0",
         "First",
         "2015",
         "4",
         "1968",
         "110.0",
         null,
         "4",
         "man",
         "4.0",
         "5.0",
         "diesel",
         "1543728.75"
        ],
        [
         "6",
         "25007",
         "skoda",
         "superb",
         "Coimbatore",
         "181000.0",
         "Fourth & Above",
         "2009",
         "10",
         "1968",
         "125.0",
         null,
         "6",
         "auto",
         "5.0",
         "5.0",
         "diesel",
         "915985.5"
        ],
        [
         "7",
         "25008",
         "fiat",
         "panda",
         "Chennai",
         "33100.0",
         "Second",
         "2010",
         "9",
         "1108",
         "40.0",
         null,
         "5",
         "man",
         "5.0",
         "5.0",
         "petrol",
         "327535.5"
        ],
        [
         "8",
         "25009",
         "nissan",
         "qashqai",
         "Coimbatore",
         "17375.0",
         "First",
         "2015",
         "4",
         "1600",
         "96.0",
         null,
         "5",
         "man",
         "4.0",
         "5.0",
         "diesel",
         "1361480.25"
        ],
        [
         "9",
         "25010",
         "skoda",
         "superb",
         "Mumbai",
         "97640.0",
         "Fourth & Above",
         "2010",
         "9",
         "2000",
         "103.0",
         null,
         "6",
         "man",
         "5.0",
         "5.0",
         "diesel",
         "885455.25"
        ]
       ],
       "shape": {
        "columns": 17,
        "rows": 10
       }
      },
      "text/html": [
       "<div>\n",
       "<style scoped>\n",
       "    .dataframe tbody tr th:only-of-type {\n",
       "        vertical-align: middle;\n",
       "    }\n",
       "\n",
       "    .dataframe tbody tr th {\n",
       "        vertical-align: top;\n",
       "    }\n",
       "\n",
       "    .dataframe thead th {\n",
       "        text-align: right;\n",
       "    }\n",
       "</style>\n",
       "<table border=\"1\" class=\"dataframe\">\n",
       "  <thead>\n",
       "    <tr style=\"text-align: right;\">\n",
       "      <th></th>\n",
       "      <th>Id</th>\n",
       "      <th>Maker</th>\n",
       "      <th>model</th>\n",
       "      <th>Location</th>\n",
       "      <th>Distance</th>\n",
       "      <th>Owner Type</th>\n",
       "      <th>manufacture_year</th>\n",
       "      <th>Age of car</th>\n",
       "      <th>engine_displacement</th>\n",
       "      <th>engine_power</th>\n",
       "      <th>body_type</th>\n",
       "      <th>Vroom Audit Rating</th>\n",
       "      <th>transmission</th>\n",
       "      <th>door_count</th>\n",
       "      <th>seat_count</th>\n",
       "      <th>fuel_type</th>\n",
       "      <th>Price</th>\n",
       "    </tr>\n",
       "  </thead>\n",
       "  <tbody>\n",
       "    <tr>\n",
       "      <th>0</th>\n",
       "      <td>25001</td>\n",
       "      <td>skoda</td>\n",
       "      <td>octavia</td>\n",
       "      <td>Ahmedabad</td>\n",
       "      <td>NaN</td>\n",
       "      <td>Second</td>\n",
       "      <td>1964</td>\n",
       "      <td>55</td>\n",
       "      <td>1964</td>\n",
       "      <td>147.0</td>\n",
       "      <td>compact</td>\n",
       "      <td>8</td>\n",
       "      <td>man</td>\n",
       "      <td>NaN</td>\n",
       "      <td>NaN</td>\n",
       "      <td>petrol</td>\n",
       "      <td>543764.25</td>\n",
       "    </tr>\n",
       "    <tr>\n",
       "      <th>1</th>\n",
       "      <td>25002</td>\n",
       "      <td>fiat</td>\n",
       "      <td>panda</td>\n",
       "      <td>Ahmedabad</td>\n",
       "      <td>27750.0</td>\n",
       "      <td>Third</td>\n",
       "      <td>2012</td>\n",
       "      <td>7</td>\n",
       "      <td>1242</td>\n",
       "      <td>51.0</td>\n",
       "      <td>NaN</td>\n",
       "      <td>6</td>\n",
       "      <td>man</td>\n",
       "      <td>4.0</td>\n",
       "      <td>4.0</td>\n",
       "      <td>petrol</td>\n",
       "      <td>401819.25</td>\n",
       "    </tr>\n",
       "    <tr>\n",
       "      <th>2</th>\n",
       "      <td>25003</td>\n",
       "      <td>bmw</td>\n",
       "      <td>x1</td>\n",
       "      <td>Hyderabad</td>\n",
       "      <td>46000.0</td>\n",
       "      <td>Third</td>\n",
       "      <td>2014</td>\n",
       "      <td>5</td>\n",
       "      <td>1995</td>\n",
       "      <td>105.0</td>\n",
       "      <td>NaN</td>\n",
       "      <td>7</td>\n",
       "      <td>auto</td>\n",
       "      <td>4.0</td>\n",
       "      <td>5.0</td>\n",
       "      <td>diesel</td>\n",
       "      <td>2392855.50</td>\n",
       "    </tr>\n",
       "    <tr>\n",
       "      <th>3</th>\n",
       "      <td>25004</td>\n",
       "      <td>nissan</td>\n",
       "      <td>juke</td>\n",
       "      <td>Mumbai</td>\n",
       "      <td>43949.0</td>\n",
       "      <td>Third</td>\n",
       "      <td>2011</td>\n",
       "      <td>8</td>\n",
       "      <td>1618</td>\n",
       "      <td>140.0</td>\n",
       "      <td>NaN</td>\n",
       "      <td>7</td>\n",
       "      <td>man</td>\n",
       "      <td>4.0</td>\n",
       "      <td>5.0</td>\n",
       "      <td>petrol</td>\n",
       "      <td>958606.50</td>\n",
       "    </tr>\n",
       "    <tr>\n",
       "      <th>4</th>\n",
       "      <td>25005</td>\n",
       "      <td>bmw</td>\n",
       "      <td>x5</td>\n",
       "      <td>Jaipur</td>\n",
       "      <td>59524.0</td>\n",
       "      <td>Fourth &amp; Above</td>\n",
       "      <td>2012</td>\n",
       "      <td>7</td>\n",
       "      <td>2993</td>\n",
       "      <td>180.0</td>\n",
       "      <td>NaN</td>\n",
       "      <td>7</td>\n",
       "      <td>auto</td>\n",
       "      <td>4.0</td>\n",
       "      <td>5.0</td>\n",
       "      <td>diesel</td>\n",
       "      <td>3085561.50</td>\n",
       "    </tr>\n",
       "    <tr>\n",
       "      <th>5</th>\n",
       "      <td>25006</td>\n",
       "      <td>skoda</td>\n",
       "      <td>octavia</td>\n",
       "      <td>Chennai</td>\n",
       "      <td>12015.0</td>\n",
       "      <td>First</td>\n",
       "      <td>2015</td>\n",
       "      <td>4</td>\n",
       "      <td>1968</td>\n",
       "      <td>110.0</td>\n",
       "      <td>NaN</td>\n",
       "      <td>4</td>\n",
       "      <td>man</td>\n",
       "      <td>4.0</td>\n",
       "      <td>5.0</td>\n",
       "      <td>diesel</td>\n",
       "      <td>1543728.75</td>\n",
       "    </tr>\n",
       "    <tr>\n",
       "      <th>6</th>\n",
       "      <td>25007</td>\n",
       "      <td>skoda</td>\n",
       "      <td>superb</td>\n",
       "      <td>Coimbatore</td>\n",
       "      <td>181000.0</td>\n",
       "      <td>Fourth &amp; Above</td>\n",
       "      <td>2009</td>\n",
       "      <td>10</td>\n",
       "      <td>1968</td>\n",
       "      <td>125.0</td>\n",
       "      <td>NaN</td>\n",
       "      <td>6</td>\n",
       "      <td>auto</td>\n",
       "      <td>5.0</td>\n",
       "      <td>5.0</td>\n",
       "      <td>diesel</td>\n",
       "      <td>915985.50</td>\n",
       "    </tr>\n",
       "    <tr>\n",
       "      <th>7</th>\n",
       "      <td>25008</td>\n",
       "      <td>fiat</td>\n",
       "      <td>panda</td>\n",
       "      <td>Chennai</td>\n",
       "      <td>33100.0</td>\n",
       "      <td>Second</td>\n",
       "      <td>2010</td>\n",
       "      <td>9</td>\n",
       "      <td>1108</td>\n",
       "      <td>40.0</td>\n",
       "      <td>NaN</td>\n",
       "      <td>5</td>\n",
       "      <td>man</td>\n",
       "      <td>5.0</td>\n",
       "      <td>5.0</td>\n",
       "      <td>petrol</td>\n",
       "      <td>327535.50</td>\n",
       "    </tr>\n",
       "    <tr>\n",
       "      <th>8</th>\n",
       "      <td>25009</td>\n",
       "      <td>nissan</td>\n",
       "      <td>qashqai</td>\n",
       "      <td>Coimbatore</td>\n",
       "      <td>17375.0</td>\n",
       "      <td>First</td>\n",
       "      <td>2015</td>\n",
       "      <td>4</td>\n",
       "      <td>1600</td>\n",
       "      <td>96.0</td>\n",
       "      <td>NaN</td>\n",
       "      <td>5</td>\n",
       "      <td>man</td>\n",
       "      <td>4.0</td>\n",
       "      <td>5.0</td>\n",
       "      <td>diesel</td>\n",
       "      <td>1361480.25</td>\n",
       "    </tr>\n",
       "    <tr>\n",
       "      <th>9</th>\n",
       "      <td>25010</td>\n",
       "      <td>skoda</td>\n",
       "      <td>superb</td>\n",
       "      <td>Mumbai</td>\n",
       "      <td>97640.0</td>\n",
       "      <td>Fourth &amp; Above</td>\n",
       "      <td>2010</td>\n",
       "      <td>9</td>\n",
       "      <td>2000</td>\n",
       "      <td>103.0</td>\n",
       "      <td>NaN</td>\n",
       "      <td>6</td>\n",
       "      <td>man</td>\n",
       "      <td>5.0</td>\n",
       "      <td>5.0</td>\n",
       "      <td>diesel</td>\n",
       "      <td>885455.25</td>\n",
       "    </tr>\n",
       "  </tbody>\n",
       "</table>\n",
       "</div>"
      ],
      "text/plain": [
       "      Id   Maker    model    Location  Distance       Owner Type  \\\n",
       "0  25001   skoda  octavia   Ahmedabad        NaN          Second   \n",
       "1  25002    fiat    panda   Ahmedabad    27750.0           Third   \n",
       "2  25003     bmw       x1   Hyderabad    46000.0           Third   \n",
       "3  25004  nissan     juke      Mumbai    43949.0           Third   \n",
       "4  25005     bmw       x5      Jaipur    59524.0  Fourth & Above   \n",
       "5  25006   skoda  octavia     Chennai    12015.0           First   \n",
       "6  25007   skoda   superb  Coimbatore   181000.0  Fourth & Above   \n",
       "7  25008    fiat    panda     Chennai    33100.0          Second   \n",
       "8  25009  nissan  qashqai  Coimbatore    17375.0           First   \n",
       "9  25010   skoda   superb      Mumbai    97640.0  Fourth & Above   \n",
       "\n",
       "   manufacture_year  Age of car  engine_displacement  engine_power body_type  \\\n",
       "0              1964          55                 1964         147.0   compact   \n",
       "1              2012           7                 1242          51.0       NaN   \n",
       "2              2014           5                 1995         105.0       NaN   \n",
       "3              2011           8                 1618         140.0       NaN   \n",
       "4              2012           7                 2993         180.0       NaN   \n",
       "5              2015           4                 1968         110.0       NaN   \n",
       "6              2009          10                 1968         125.0       NaN   \n",
       "7              2010           9                 1108          40.0       NaN   \n",
       "8              2015           4                 1600          96.0       NaN   \n",
       "9              2010           9                 2000         103.0       NaN   \n",
       "\n",
       "   Vroom Audit Rating transmission  door_count  seat_count fuel_type  \\\n",
       "0                   8          man         NaN         NaN    petrol   \n",
       "1                   6          man         4.0         4.0    petrol   \n",
       "2                   7         auto         4.0         5.0    diesel   \n",
       "3                   7          man         4.0         5.0    petrol   \n",
       "4                   7         auto         4.0         5.0    diesel   \n",
       "5                   4          man         4.0         5.0    diesel   \n",
       "6                   6         auto         5.0         5.0    diesel   \n",
       "7                   5          man         5.0         5.0    petrol   \n",
       "8                   5          man         4.0         5.0    diesel   \n",
       "9                   6          man         5.0         5.0    diesel   \n",
       "\n",
       "        Price  \n",
       "0   543764.25  \n",
       "1   401819.25  \n",
       "2  2392855.50  \n",
       "3   958606.50  \n",
       "4  3085561.50  \n",
       "5  1543728.75  \n",
       "6   915985.50  \n",
       "7   327535.50  \n",
       "8  1361480.25  \n",
       "9   885455.25  "
      ]
     },
     "execution_count": 26,
     "metadata": {},
     "output_type": "execute_result"
    }
   ],
   "source": [
    "df.head(10)"
   ]
  },
  {
   "cell_type": "code",
   "execution_count": 27,
   "id": "846d6ec4",
   "metadata": {},
   "outputs": [
    {
     "data": {
      "text/plain": [
       "(53515, 17)"
      ]
     },
     "execution_count": 27,
     "metadata": {},
     "output_type": "execute_result"
    }
   ],
   "source": [
    "df.shape"
   ]
  },
  {
   "cell_type": "code",
   "execution_count": 28,
   "id": "21e381ad",
   "metadata": {},
   "outputs": [
    {
     "data": {
      "text/plain": [
       "Id                       int64\n",
       "Maker                   object\n",
       "model                   object\n",
       "Location                object\n",
       "Distance               float64\n",
       "Owner Type              object\n",
       "manufacture_year         int64\n",
       "Age of car               int64\n",
       "engine_displacement      int64\n",
       "engine_power           float64\n",
       "body_type               object\n",
       "Vroom Audit Rating       int64\n",
       "transmission            object\n",
       "door_count             float64\n",
       "seat_count             float64\n",
       "fuel_type               object\n",
       "Price                  float64\n",
       "dtype: object"
      ]
     },
     "execution_count": 28,
     "metadata": {},
     "output_type": "execute_result"
    }
   ],
   "source": [
    "df.dtypes"
   ]
  },
  {
   "cell_type": "code",
   "execution_count": 29,
   "id": "5b569812",
   "metadata": {},
   "outputs": [
    {
     "data": {
      "text/plain": [
       "Id                         0\n",
       "Maker                      0\n",
       "model                      0\n",
       "Location                   0\n",
       "Distance                1211\n",
       "Owner Type                 0\n",
       "manufacture_year           0\n",
       "Age of car                 0\n",
       "engine_displacement        0\n",
       "engine_power            1439\n",
       "body_type              49379\n",
       "Vroom Audit Rating         0\n",
       "transmission               0\n",
       "door_count              7534\n",
       "seat_count              8511\n",
       "fuel_type                  0\n",
       "Price                      0\n",
       "dtype: int64"
      ]
     },
     "execution_count": 29,
     "metadata": {},
     "output_type": "execute_result"
    }
   ],
   "source": [
    "df.isnull().sum()"
   ]
  },
  {
   "cell_type": "code",
   "execution_count": 30,
   "id": "26d08c5e",
   "metadata": {},
   "outputs": [],
   "source": [
    "df.drop(columns=['body_type'],inplace=True)"
   ]
  },
  {
   "cell_type": "code",
   "execution_count": 31,
   "id": "66a8e436",
   "metadata": {},
   "outputs": [
    {
     "data": {
      "text/plain": [
       "Id                        0\n",
       "Maker                     0\n",
       "model                     0\n",
       "Location                  0\n",
       "Distance               1211\n",
       "Owner Type                0\n",
       "manufacture_year          0\n",
       "Age of car                0\n",
       "engine_displacement       0\n",
       "engine_power           1439\n",
       "Vroom Audit Rating        0\n",
       "transmission              0\n",
       "door_count             7534\n",
       "seat_count             8511\n",
       "fuel_type                 0\n",
       "Price                     0\n",
       "dtype: int64"
      ]
     },
     "execution_count": 31,
     "metadata": {},
     "output_type": "execute_result"
    }
   ],
   "source": [
    "df.isnull().sum()"
   ]
  },
  {
   "cell_type": "code",
   "execution_count": 32,
   "id": "ad711772",
   "metadata": {},
   "outputs": [],
   "source": [
    "df.dropna(subset=['Distance '],inplace=True)"
   ]
  },
  {
   "cell_type": "code",
   "execution_count": 33,
   "id": "f88679d4",
   "metadata": {},
   "outputs": [
    {
     "data": {
      "text/plain": [
       "(52304, 16)"
      ]
     },
     "execution_count": 33,
     "metadata": {},
     "output_type": "execute_result"
    }
   ],
   "source": [
    "df.shape"
   ]
  },
  {
   "cell_type": "code",
   "execution_count": 34,
   "id": "03b108b5",
   "metadata": {},
   "outputs": [
    {
     "data": {
      "text/plain": [
       "np.float64(91.0)"
      ]
     },
     "execution_count": 34,
     "metadata": {},
     "output_type": "execute_result"
    }
   ],
   "source": [
    "df['engine_power'].median()"
   ]
  },
  {
   "cell_type": "code",
   "execution_count": 35,
   "id": "dbde7701",
   "metadata": {},
   "outputs": [
    {
     "data": {
      "text/plain": [
       "np.float64(100.57841507071734)"
      ]
     },
     "execution_count": 35,
     "metadata": {},
     "output_type": "execute_result"
    }
   ],
   "source": [
    "df['engine_power'].mean()"
   ]
  },
  {
   "cell_type": "code",
   "execution_count": 36,
   "id": "7700a7d5",
   "metadata": {},
   "outputs": [
    {
     "name": "stderr",
     "output_type": "stream",
     "text": [
      "C:\\Users\\Suresh\\AppData\\Local\\Temp\\ipykernel_7616\\3563742412.py:1: FutureWarning: A value is trying to be set on a copy of a DataFrame or Series through chained assignment using an inplace method.\n",
      "The behavior will change in pandas 3.0. This inplace method will never work because the intermediate object on which we are setting values always behaves as a copy.\n",
      "\n",
      "For example, when doing 'df[col].method(value, inplace=True)', try using 'df.method({col: value}, inplace=True)' or df[col] = df[col].method(value) instead, to perform the operation inplace on the original object.\n",
      "\n",
      "\n",
      "  df['engine_power'].fillna(df['engine_power'].median(),inplace=True)\n"
     ]
    }
   ],
   "source": [
    "df['engine_power'].fillna(df['engine_power'].median(),inplace=True)"
   ]
  },
  {
   "cell_type": "code",
   "execution_count": 37,
   "id": "7602ec4d",
   "metadata": {},
   "outputs": [],
   "source": [
    "#to ignoe warning alerts\n",
    "import warnings\n",
    "warnings.filterwarnings('ignore')"
   ]
  },
  {
   "cell_type": "code",
   "execution_count": 38,
   "id": "b2ccd6cb",
   "metadata": {},
   "outputs": [
    {
     "data": {
      "text/plain": [
       "array([ 4.,  5., nan,  2.,  3.,  1.,  6.])"
      ]
     },
     "execution_count": 38,
     "metadata": {},
     "output_type": "execute_result"
    }
   ],
   "source": [
    "df['door_count'].unique()"
   ]
  },
  {
   "cell_type": "code",
   "execution_count": 39,
   "id": "74a9d99a",
   "metadata": {},
   "outputs": [
    {
     "data": {
      "text/plain": [
       "door_count\n",
       "4.0    33792\n",
       "5.0     7630\n",
       "2.0     4348\n",
       "3.0      185\n",
       "6.0        8\n",
       "1.0        2\n",
       "Name: count, dtype: int64"
      ]
     },
     "execution_count": 39,
     "metadata": {},
     "output_type": "execute_result"
    }
   ],
   "source": [
    "df['door_count'].value_counts()"
   ]
  },
  {
   "cell_type": "code",
   "execution_count": 40,
   "id": "cde6f724",
   "metadata": {},
   "outputs": [
    {
     "data": {
      "text/plain": [
       "0    4.0\n",
       "Name: door_count, dtype: float64"
      ]
     },
     "execution_count": 40,
     "metadata": {},
     "output_type": "execute_result"
    }
   ],
   "source": [
    "df['door_count'].mode()"
   ]
  },
  {
   "cell_type": "code",
   "execution_count": 41,
   "id": "d57db1b6",
   "metadata": {},
   "outputs": [],
   "source": [
    "df['door_count'].fillna(4.0,inplace=True)"
   ]
  },
  {
   "cell_type": "code",
   "execution_count": 42,
   "id": "c488fc28",
   "metadata": {},
   "outputs": [
    {
     "data": {
      "text/plain": [
       "Index(['Id', 'Maker', 'model', 'Location', 'Distance ', 'Owner Type',\n",
       "       'manufacture_year', 'Age of car', 'engine_displacement', 'engine_power',\n",
       "       'Vroom Audit Rating', 'transmission', 'door_count', 'seat_count',\n",
       "       'fuel_type', 'Price'],\n",
       "      dtype='object')"
      ]
     },
     "execution_count": 42,
     "metadata": {},
     "output_type": "execute_result"
    }
   ],
   "source": [
    "df.columns"
   ]
  },
  {
   "cell_type": "code",
   "execution_count": 43,
   "id": "8f0b5cdb",
   "metadata": {},
   "outputs": [
    {
     "data": {
      "text/plain": [
       "array([ 4.,  5., nan,  2.,  3.,  7.,  6.,  1.,  9.,  8.])"
      ]
     },
     "execution_count": 43,
     "metadata": {},
     "output_type": "execute_result"
    }
   ],
   "source": [
    "df['seat_count'].unique()"
   ]
  },
  {
   "cell_type": "code",
   "execution_count": 44,
   "id": "227a6d2b",
   "metadata": {},
   "outputs": [
    {
     "data": {
      "text/plain": [
       "seat_count\n",
       "5.0    38808\n",
       "4.0     4467\n",
       "7.0      852\n",
       "2.0      725\n",
       "3.0      109\n",
       "6.0       23\n",
       "9.0        2\n",
       "1.0        1\n",
       "8.0        1\n",
       "Name: count, dtype: int64"
      ]
     },
     "execution_count": 44,
     "metadata": {},
     "output_type": "execute_result"
    }
   ],
   "source": [
    "df['seat_count'].value_counts()"
   ]
  },
  {
   "cell_type": "code",
   "execution_count": 45,
   "id": "cb862acc",
   "metadata": {},
   "outputs": [],
   "source": [
    "df['seat_count'].fillna(5.0,inplace=True)"
   ]
  },
  {
   "cell_type": "code",
   "execution_count": 46,
   "id": "b616247a",
   "metadata": {},
   "outputs": [
    {
     "data": {
      "text/plain": [
       "array(['petrol', 'diesel'], dtype=object)"
      ]
     },
     "execution_count": 46,
     "metadata": {},
     "output_type": "execute_result"
    }
   ],
   "source": [
    "df['fuel_type'].unique()"
   ]
  },
  {
   "cell_type": "code",
   "execution_count": 47,
   "id": "40607fb5",
   "metadata": {},
   "outputs": [
    {
     "data": {
      "text/plain": [
       "array(['man', 'auto'], dtype=object)"
      ]
     },
     "execution_count": 47,
     "metadata": {},
     "output_type": "execute_result"
    }
   ],
   "source": [
    "df['transmission'].unique()"
   ]
  },
  {
   "cell_type": "code",
   "execution_count": 48,
   "id": "041dad89",
   "metadata": {},
   "outputs": [],
   "source": [
    "df['fuel_type'].replace({'petrol':1,'diesel':0},inplace=True)"
   ]
  },
  {
   "cell_type": "code",
   "execution_count": 49,
   "id": "d48c1e7e",
   "metadata": {},
   "outputs": [
    {
     "data": {
      "text/plain": [
       "array([1, 0])"
      ]
     },
     "execution_count": 49,
     "metadata": {},
     "output_type": "execute_result"
    }
   ],
   "source": [
    "df['fuel_type'].unique()"
   ]
  },
  {
   "cell_type": "code",
   "execution_count": 50,
   "id": "681b370b",
   "metadata": {},
   "outputs": [],
   "source": [
    "df['transmission'].replace({'man':1,'auto':0},inplace=True)"
   ]
  },
  {
   "cell_type": "code",
   "execution_count": 51,
   "id": "692b0798",
   "metadata": {},
   "outputs": [
    {
     "data": {
      "text/plain": [
       "array([1, 0])"
      ]
     },
     "execution_count": 51,
     "metadata": {},
     "output_type": "execute_result"
    }
   ],
   "source": [
    "df['transmission'].unique()"
   ]
  },
  {
   "cell_type": "code",
   "execution_count": 52,
   "id": "6d95ff4a",
   "metadata": {},
   "outputs": [
    {
     "data": {
      "text/plain": [
       "Id                       int64\n",
       "Maker                   object\n",
       "model                   object\n",
       "Location                object\n",
       "Distance               float64\n",
       "Owner Type              object\n",
       "manufacture_year         int64\n",
       "Age of car               int64\n",
       "engine_displacement      int64\n",
       "engine_power           float64\n",
       "Vroom Audit Rating       int64\n",
       "transmission             int64\n",
       "door_count             float64\n",
       "seat_count             float64\n",
       "fuel_type                int64\n",
       "Price                  float64\n",
       "dtype: object"
      ]
     },
     "execution_count": 52,
     "metadata": {},
     "output_type": "execute_result"
    }
   ],
   "source": [
    "df.dtypes"
   ]
  },
  {
   "cell_type": "code",
   "execution_count": 53,
   "id": "fbf8bb52",
   "metadata": {},
   "outputs": [
    {
     "data": {
      "text/plain": [
       "Id                     0\n",
       "Maker                  0\n",
       "model                  0\n",
       "Location               0\n",
       "Distance               0\n",
       "Owner Type             0\n",
       "manufacture_year       0\n",
       "Age of car             0\n",
       "engine_displacement    0\n",
       "engine_power           0\n",
       "Vroom Audit Rating     0\n",
       "transmission           0\n",
       "door_count             0\n",
       "seat_count             0\n",
       "fuel_type              0\n",
       "Price                  0\n",
       "dtype: int64"
      ]
     },
     "execution_count": 53,
     "metadata": {},
     "output_type": "execute_result"
    }
   ],
   "source": [
    "df.isnull().sum()"
   ]
  },
  {
   "cell_type": "code",
   "execution_count": 54,
   "id": "0b24eee3",
   "metadata": {},
   "outputs": [
    {
     "data": {
      "text/plain": [
       "Id                       int64\n",
       "Maker                   object\n",
       "model                   object\n",
       "Location                object\n",
       "Distance               float64\n",
       "Owner Type              object\n",
       "manufacture_year         int64\n",
       "Age of car               int64\n",
       "engine_displacement      int64\n",
       "engine_power           float64\n",
       "Vroom Audit Rating       int64\n",
       "transmission             int64\n",
       "door_count             float64\n",
       "seat_count             float64\n",
       "fuel_type                int64\n",
       "Price                  float64\n",
       "dtype: object"
      ]
     },
     "execution_count": 54,
     "metadata": {},
     "output_type": "execute_result"
    }
   ],
   "source": [
    "df.dtypes"
   ]
  },
  {
   "cell_type": "code",
   "execution_count": 55,
   "id": "afd8ac82",
   "metadata": {},
   "outputs": [
    {
     "name": "stdout",
     "output_type": "stream",
     "text": [
      "Requirement already satisfied: scikit-learn in c:\\users\\suresh\\appdata\\local\\programs\\python\\python313\\lib\\site-packages (1.6.1)\n",
      "Requirement already satisfied: numpy>=1.19.5 in c:\\users\\suresh\\appdata\\local\\programs\\python\\python313\\lib\\site-packages (from scikit-learn) (2.2.2)\n",
      "Requirement already satisfied: scipy>=1.6.0 in c:\\users\\suresh\\appdata\\local\\programs\\python\\python313\\lib\\site-packages (from scikit-learn) (1.15.2)\n",
      "Requirement already satisfied: joblib>=1.2.0 in c:\\users\\suresh\\appdata\\local\\programs\\python\\python313\\lib\\site-packages (from scikit-learn) (1.4.2)\n",
      "Requirement already satisfied: threadpoolctl>=3.1.0 in c:\\users\\suresh\\appdata\\local\\programs\\python\\python313\\lib\\site-packages (from scikit-learn) (3.6.0)\n",
      "Note: you may need to restart the kernel to use updated packages.\n"
     ]
    }
   ],
   "source": [
    "pip install scikit-learn"
   ]
  },
  {
   "cell_type": "code",
   "execution_count": 56,
   "id": "2afe18b5",
   "metadata": {},
   "outputs": [],
   "source": [
    "from sklearn.preprocessing import LabelEncoder\n",
    "from sklearn.preprocessing import OneHotEncoder"
   ]
  },
  {
   "cell_type": "code",
   "execution_count": 57,
   "id": "ea53c2bf",
   "metadata": {},
   "outputs": [],
   "source": [
    "le= LabelEncoder()\n",
    "ohe= OneHotEncoder()"
   ]
  },
  {
   "cell_type": "code",
   "execution_count": 58,
   "id": "12df4f1e",
   "metadata": {},
   "outputs": [],
   "source": [
    "df['Maker']=le.fit_transform(df['Maker'])"
   ]
  },
  {
   "cell_type": "code",
   "execution_count": 59,
   "id": "e169592a",
   "metadata": {},
   "outputs": [],
   "source": [
    "df['Distance ']=le.fit_transform(df['Distance '])"
   ]
  },
  {
   "cell_type": "code",
   "execution_count": 60,
   "id": "fe4b00ed",
   "metadata": {},
   "outputs": [],
   "source": [
    "df['Owner Type']=le.fit_transform(df['Owner Type'])"
   ]
  },
  {
   "cell_type": "code",
   "execution_count": 61,
   "id": "03c16ae4",
   "metadata": {},
   "outputs": [],
   "source": [
    "df['model']=le.fit_transform(df['model'])"
   ]
  },
  {
   "cell_type": "code",
   "execution_count": 62,
   "id": "b6896e15",
   "metadata": {},
   "outputs": [],
   "source": [
    "df['Location']=le.fit_transform(df['Location'])"
   ]
  },
  {
   "cell_type": "code",
   "execution_count": 63,
   "id": "f880f313",
   "metadata": {},
   "outputs": [
    {
     "data": {
      "text/plain": [
       "Id                       int64\n",
       "Maker                    int64\n",
       "model                    int64\n",
       "Location                 int64\n",
       "Distance                 int64\n",
       "Owner Type               int64\n",
       "manufacture_year         int64\n",
       "Age of car               int64\n",
       "engine_displacement      int64\n",
       "engine_power           float64\n",
       "Vroom Audit Rating       int64\n",
       "transmission             int64\n",
       "door_count             float64\n",
       "seat_count             float64\n",
       "fuel_type                int64\n",
       "Price                  float64\n",
       "dtype: object"
      ]
     },
     "execution_count": 63,
     "metadata": {},
     "output_type": "execute_result"
    }
   ],
   "source": [
    "df.dtypes"
   ]
  },
  {
   "cell_type": "code",
   "execution_count": 64,
   "id": "7a02ff87",
   "metadata": {},
   "outputs": [],
   "source": [
    "for i in df.columns:\n",
    "    if df[i].dtype=='object':\n",
    "        df[i]=le.fit_transform(df[i])"
   ]
  },
  {
   "cell_type": "code",
   "execution_count": 65,
   "id": "5ff92b2b",
   "metadata": {},
   "outputs": [
    {
     "name": "stdout",
     "output_type": "stream",
     "text": [
      "Requirement already satisfied: openpyxl in c:\\users\\suresh\\appdata\\local\\programs\\python\\python313\\lib\\site-packages (3.1.5)\n",
      "Requirement already satisfied: et-xmlfile in c:\\users\\suresh\\appdata\\local\\programs\\python\\python313\\lib\\site-packages (from openpyxl) (2.0.0)\n",
      "Note: you may need to restart the kernel to use updated packages.\n"
     ]
    }
   ],
   "source": [
    "pip install openpyxl"
   ]
  },
  {
   "cell_type": "code",
   "execution_count": 66,
   "id": "e2a1f739",
   "metadata": {},
   "outputs": [
    {
     "name": "stdout",
     "output_type": "stream",
     "text": [
      "Requirement already satisfied: seaborn in c:\\users\\suresh\\appdata\\local\\programs\\python\\python313\\lib\\site-packages (0.13.2)\n",
      "Requirement already satisfied: numpy!=1.24.0,>=1.20 in c:\\users\\suresh\\appdata\\local\\programs\\python\\python313\\lib\\site-packages (from seaborn) (2.2.2)\n",
      "Requirement already satisfied: pandas>=1.2 in c:\\users\\suresh\\appdata\\local\\programs\\python\\python313\\lib\\site-packages (from seaborn) (2.2.3)\n",
      "Requirement already satisfied: matplotlib!=3.6.1,>=3.4 in c:\\users\\suresh\\appdata\\local\\programs\\python\\python313\\lib\\site-packages (from seaborn) (3.10.0)\n",
      "Requirement already satisfied: contourpy>=1.0.1 in c:\\users\\suresh\\appdata\\local\\programs\\python\\python313\\lib\\site-packages (from matplotlib!=3.6.1,>=3.4->seaborn) (1.3.1)\n",
      "Requirement already satisfied: cycler>=0.10 in c:\\users\\suresh\\appdata\\local\\programs\\python\\python313\\lib\\site-packages (from matplotlib!=3.6.1,>=3.4->seaborn) (0.12.1)\n",
      "Requirement already satisfied: fonttools>=4.22.0 in c:\\users\\suresh\\appdata\\local\\programs\\python\\python313\\lib\\site-packages (from matplotlib!=3.6.1,>=3.4->seaborn) (4.56.0)\n",
      "Requirement already satisfied: kiwisolver>=1.3.1 in c:\\users\\suresh\\appdata\\local\\programs\\python\\python313\\lib\\site-packages (from matplotlib!=3.6.1,>=3.4->seaborn) (1.4.8)\n",
      "Requirement already satisfied: packaging>=20.0 in c:\\users\\suresh\\appdata\\roaming\\python\\python313\\site-packages (from matplotlib!=3.6.1,>=3.4->seaborn) (24.2)\n",
      "Requirement already satisfied: pillow>=8 in c:\\users\\suresh\\appdata\\local\\programs\\python\\python313\\lib\\site-packages (from matplotlib!=3.6.1,>=3.4->seaborn) (11.1.0)\n",
      "Requirement already satisfied: pyparsing>=2.3.1 in c:\\users\\suresh\\appdata\\local\\programs\\python\\python313\\lib\\site-packages (from matplotlib!=3.6.1,>=3.4->seaborn) (3.2.1)\n",
      "Requirement already satisfied: python-dateutil>=2.7 in c:\\users\\suresh\\appdata\\roaming\\python\\python313\\site-packages (from matplotlib!=3.6.1,>=3.4->seaborn) (2.9.0.post0)\n",
      "Requirement already satisfied: pytz>=2020.1 in c:\\users\\suresh\\appdata\\local\\programs\\python\\python313\\lib\\site-packages (from pandas>=1.2->seaborn) (2024.2)\n",
      "Requirement already satisfied: tzdata>=2022.7 in c:\\users\\suresh\\appdata\\local\\programs\\python\\python313\\lib\\site-packages (from pandas>=1.2->seaborn) (2025.1)\n",
      "Requirement already satisfied: six>=1.5 in c:\\users\\suresh\\appdata\\roaming\\python\\python313\\site-packages (from python-dateutil>=2.7->matplotlib!=3.6.1,>=3.4->seaborn) (1.17.0)\n",
      "Note: you may need to restart the kernel to use updated packages.\n"
     ]
    }
   ],
   "source": [
    "pip install seaborn"
   ]
  },
  {
   "cell_type": "code",
   "execution_count": 67,
   "id": "bd9ea2b6",
   "metadata": {},
   "outputs": [
    {
     "name": "stdout",
     "output_type": "stream",
     "text": [
      "Requirement already satisfied: matplotlib in c:\\users\\suresh\\appdata\\local\\programs\\python\\python313\\lib\\site-packages (3.10.0)\n",
      "Requirement already satisfied: contourpy>=1.0.1 in c:\\users\\suresh\\appdata\\local\\programs\\python\\python313\\lib\\site-packages (from matplotlib) (1.3.1)\n",
      "Requirement already satisfied: cycler>=0.10 in c:\\users\\suresh\\appdata\\local\\programs\\python\\python313\\lib\\site-packages (from matplotlib) (0.12.1)\n",
      "Requirement already satisfied: fonttools>=4.22.0 in c:\\users\\suresh\\appdata\\local\\programs\\python\\python313\\lib\\site-packages (from matplotlib) (4.56.0)\n",
      "Requirement already satisfied: kiwisolver>=1.3.1 in c:\\users\\suresh\\appdata\\local\\programs\\python\\python313\\lib\\site-packages (from matplotlib) (1.4.8)\n",
      "Requirement already satisfied: numpy>=1.23 in c:\\users\\suresh\\appdata\\local\\programs\\python\\python313\\lib\\site-packages (from matplotlib) (2.2.2)\n",
      "Requirement already satisfied: packaging>=20.0 in c:\\users\\suresh\\appdata\\roaming\\python\\python313\\site-packages (from matplotlib) (24.2)\n",
      "Requirement already satisfied: pillow>=8 in c:\\users\\suresh\\appdata\\local\\programs\\python\\python313\\lib\\site-packages (from matplotlib) (11.1.0)\n",
      "Requirement already satisfied: pyparsing>=2.3.1 in c:\\users\\suresh\\appdata\\local\\programs\\python\\python313\\lib\\site-packages (from matplotlib) (3.2.1)\n",
      "Requirement already satisfied: python-dateutil>=2.7 in c:\\users\\suresh\\appdata\\roaming\\python\\python313\\site-packages (from matplotlib) (2.9.0.post0)\n",
      "Requirement already satisfied: six>=1.5 in c:\\users\\suresh\\appdata\\roaming\\python\\python313\\site-packages (from python-dateutil>=2.7->matplotlib) (1.17.0)\n",
      "Note: you may need to restart the kernel to use updated packages.\n"
     ]
    }
   ],
   "source": [
    "pip install matplotlib"
   ]
  },
  {
   "cell_type": "code",
   "execution_count": 68,
   "id": "c1595453",
   "metadata": {},
   "outputs": [
    {
     "data": {
      "text/plain": [
       "Id                     0\n",
       "Maker                  0\n",
       "model                  0\n",
       "Location               0\n",
       "Distance               0\n",
       "Owner Type             0\n",
       "manufacture_year       0\n",
       "Age of car             0\n",
       "engine_displacement    0\n",
       "engine_power           0\n",
       "Vroom Audit Rating     0\n",
       "transmission           0\n",
       "door_count             0\n",
       "seat_count             0\n",
       "fuel_type              0\n",
       "Price                  0\n",
       "dtype: int64"
      ]
     },
     "execution_count": 68,
     "metadata": {},
     "output_type": "execute_result"
    }
   ],
   "source": [
    "df.isnull().sum()"
   ]
  },
  {
   "cell_type": "code",
   "execution_count": 69,
   "id": "b7f58be2",
   "metadata": {},
   "outputs": [
    {
     "data": {
      "text/plain": [
       "Id                       int64\n",
       "Maker                    int64\n",
       "model                    int64\n",
       "Location                 int64\n",
       "Distance                 int64\n",
       "Owner Type               int64\n",
       "manufacture_year         int64\n",
       "Age of car               int64\n",
       "engine_displacement      int64\n",
       "engine_power           float64\n",
       "Vroom Audit Rating       int64\n",
       "transmission             int64\n",
       "door_count             float64\n",
       "seat_count             float64\n",
       "fuel_type                int64\n",
       "Price                  float64\n",
       "dtype: object"
      ]
     },
     "execution_count": 69,
     "metadata": {},
     "output_type": "execute_result"
    }
   ],
   "source": [
    "df.dtypes"
   ]
  },
  {
   "cell_type": "code",
   "execution_count": 70,
   "id": "d7557e5b",
   "metadata": {},
   "outputs": [],
   "source": [
    "q1=df.quantile(0.25)"
   ]
  },
  {
   "cell_type": "code",
   "execution_count": 71,
   "id": "559f9a96",
   "metadata": {},
   "outputs": [
    {
     "data": {
      "text/plain": [
       "Id                      38402.75\n",
       "Maker                       1.00\n",
       "model                       8.00\n",
       "Location                    2.00\n",
       "Distance                 2217.00\n",
       "Owner Type                  0.00\n",
       "manufacture_year         2008.00\n",
       "Age of car                  5.00\n",
       "engine_displacement      1390.00\n",
       "engine_power               73.00\n",
       "Vroom Audit Rating          5.00\n",
       "transmission                0.00\n",
       "door_count                  4.00\n",
       "seat_count                  5.00\n",
       "fuel_type                   0.00\n",
       "Price                  521405.25\n",
       "Name: 0.25, dtype: float64"
      ]
     },
     "execution_count": 71,
     "metadata": {},
     "output_type": "execute_result"
    }
   ],
   "source": [
    "q1"
   ]
  },
  {
   "cell_type": "code",
   "execution_count": 72,
   "id": "d78e1835",
   "metadata": {},
   "outputs": [],
   "source": [
    "q3=df.quantile(0.75)"
   ]
  },
  {
   "cell_type": "code",
   "execution_count": 73,
   "id": "54c32484",
   "metadata": {},
   "outputs": [
    {
     "data": {
      "text/plain": [
       "Id                       65124.25\n",
       "Maker                        6.00\n",
       "model                       16.00\n",
       "Location                     8.00\n",
       "Distance                 13436.00\n",
       "Owner Type                   2.00\n",
       "manufacture_year          2014.00\n",
       "Age of car                  11.00\n",
       "engine_displacement       1995.00\n",
       "engine_power               125.00\n",
       "Vroom Audit Rating           7.00\n",
       "transmission                 1.00\n",
       "door_count                   4.00\n",
       "seat_count                   5.00\n",
       "fuel_type                    1.00\n",
       "Price                  1492647.00\n",
       "Name: 0.75, dtype: float64"
      ]
     },
     "execution_count": 73,
     "metadata": {},
     "output_type": "execute_result"
    }
   ],
   "source": [
    "q3"
   ]
  },
  {
   "cell_type": "code",
   "execution_count": 74,
   "id": "0e743a78",
   "metadata": {},
   "outputs": [],
   "source": [
    "IQR=q3-q1"
   ]
  },
  {
   "cell_type": "code",
   "execution_count": 75,
   "id": "07760f9e",
   "metadata": {},
   "outputs": [
    {
     "data": {
      "text/plain": [
       "Id                      26721.50\n",
       "Maker                       5.00\n",
       "model                       8.00\n",
       "Location                    6.00\n",
       "Distance                11219.00\n",
       "Owner Type                  2.00\n",
       "manufacture_year            6.00\n",
       "Age of car                  6.00\n",
       "engine_displacement       605.00\n",
       "engine_power               52.00\n",
       "Vroom Audit Rating          2.00\n",
       "transmission                1.00\n",
       "door_count                  0.00\n",
       "seat_count                  0.00\n",
       "fuel_type                   1.00\n",
       "Price                  971241.75\n",
       "dtype: float64"
      ]
     },
     "execution_count": 75,
     "metadata": {},
     "output_type": "execute_result"
    }
   ],
   "source": [
    "IQR"
   ]
  },
  {
   "cell_type": "code",
   "execution_count": 76,
   "id": "d9ae0a32",
   "metadata": {},
   "outputs": [],
   "source": [
    "LL=q1-(1.5*IQR)"
   ]
  },
  {
   "cell_type": "code",
   "execution_count": 77,
   "id": "d817c7fa",
   "metadata": {},
   "outputs": [],
   "source": [
    "UL=q3+(1.5*IQR)"
   ]
  },
  {
   "cell_type": "code",
   "execution_count": 78,
   "id": "e7ffa7af",
   "metadata": {},
   "outputs": [
    {
     "data": {
      "text/plain": [
       "Id                      -1679.500\n",
       "Maker                      -6.500\n",
       "model                      -4.000\n",
       "Location                   -7.000\n",
       "Distance               -14611.500\n",
       "Owner Type                 -3.000\n",
       "manufacture_year         1999.000\n",
       "Age of car                 -4.000\n",
       "engine_displacement       482.500\n",
       "engine_power               -5.000\n",
       "Vroom Audit Rating          2.000\n",
       "transmission               -1.500\n",
       "door_count                  4.000\n",
       "seat_count                  5.000\n",
       "fuel_type                  -1.500\n",
       "Price                 -935457.375\n",
       "dtype: float64"
      ]
     },
     "execution_count": 78,
     "metadata": {},
     "output_type": "execute_result"
    }
   ],
   "source": [
    "LL"
   ]
  },
  {
   "cell_type": "code",
   "execution_count": 79,
   "id": "70b7cb33",
   "metadata": {},
   "outputs": [
    {
     "data": {
      "text/plain": [
       "Id                      105206.500\n",
       "Maker                       13.500\n",
       "model                       28.000\n",
       "Location                    17.000\n",
       "Distance                 30264.500\n",
       "Owner Type                   5.000\n",
       "manufacture_year          2023.000\n",
       "Age of car                  20.000\n",
       "engine_displacement       2902.500\n",
       "engine_power               203.000\n",
       "Vroom Audit Rating          10.000\n",
       "transmission                 2.500\n",
       "door_count                   4.000\n",
       "seat_count                   5.000\n",
       "fuel_type                    2.500\n",
       "Price                  2949509.625\n",
       "dtype: float64"
      ]
     },
     "execution_count": 79,
     "metadata": {},
     "output_type": "execute_result"
    }
   ],
   "source": [
    "UL"
   ]
  },
  {
   "cell_type": "code",
   "execution_count": 80,
   "id": "4b53363e",
   "metadata": {},
   "outputs": [],
   "source": [
    "import matplotlib.pyplot as plt"
   ]
  },
  {
   "cell_type": "code",
   "execution_count": 81,
   "id": "415469b8",
   "metadata": {},
   "outputs": [
    {
     "data": {
      "image/png": "[encoded data removed]",
      "text/plain": [
       "<Figure size 1000x500 with 1 Axes>"
      ]
     },
     "metadata": {},
     "output_type": "display_data"
    }
   ],
   "source": [
    "df.boxplot(figsize=(10,5),fontsize=8)\n",
    "plt.show()"
   ]
  },
  {
   "cell_type": "code",
   "execution_count": 82,
   "id": "73e170ee",
   "metadata": {},
   "outputs": [],
   "source": [
    "df1=df[(df>=LL)&(df<=UL)]"
   ]
  },
  {
   "cell_type": "code",
   "execution_count": 83,
   "id": "a3e0faaf",
   "metadata": {},
   "outputs": [],
   "source": [
    "import matplotlib.pyplot as plt"
   ]
  },
  {
   "cell_type": "code",
   "execution_count": 84,
   "id": "8f2e197c",
   "metadata": {},
   "outputs": [
    {
     "data": {
      "image/png": "[encoded data removed]",
      "text/plain": [
       "<Figure size 1000x500 with 1 Axes>"
      ]
     },
     "metadata": {},
     "output_type": "display_data"
    }
   ],
   "source": [
    "df1.boxplot(figsize=(10,5),fontsize=8)\n",
    "plt.show()"
   ]
  },
  {
   "cell_type": "code",
   "execution_count": 85,
   "id": "4751a484",
   "metadata": {},
   "outputs": [
    {
     "data": {
      "text/plain": [
       "Index(['Id', 'Maker', 'model', 'Location', 'Distance ', 'Owner Type',\n",
       "       'manufacture_year', 'Age of car', 'engine_displacement', 'engine_power',\n",
       "       'Vroom Audit Rating', 'transmission', 'door_count', 'seat_count',\n",
       "       'fuel_type', 'Price'],\n",
       "      dtype='object')"
      ]
     },
     "execution_count": 85,
     "metadata": {},
     "output_type": "execute_result"
    }
   ],
   "source": [
    "df.columns"
   ]
  },
  {
   "cell_type": "code",
   "execution_count": 86,
   "id": "60ad8c6d",
   "metadata": {},
   "outputs": [
    {
     "data": {
      "image/png": "[encoded data removed]",
      "text/plain": [
       "<Figure size 1000x500 with 1 Axes>"
      ]
     },
     "metadata": {},
     "output_type": "display_data"
    }
   ],
   "source": [
    "df[['manufacture_year','engine_power']].boxplot(figsize=(10,5),fontsize=8)\n",
    "plt.show()"
   ]
  },
  {
   "cell_type": "code",
   "execution_count": 87,
   "id": "49d22cc2",
   "metadata": {},
   "outputs": [
    {
     "data": {
      "image/png": "[encoded data removed]",
      "text/plain": [
       "<Figure size 1000x500 with 1 Axes>"
      ]
     },
     "metadata": {},
     "output_type": "display_data"
    }
   ],
   "source": [
    "df1[['manufacture_year','engine_power']].boxplot(figsize=(10,5),fontsize=8)\n",
    "plt.show()"
   ]
  },
  {
   "cell_type": "code",
   "execution_count": 88,
   "id": "a314640b",
   "metadata": {},
   "outputs": [
    {
     "data": {
      "text/plain": [
       "Id                         0\n",
       "Maker                      0\n",
       "model                      0\n",
       "Location                   0\n",
       "Distance                   0\n",
       "Owner Type                 0\n",
       "manufacture_year         718\n",
       "Age of car               718\n",
       "engine_displacement     5442\n",
       "engine_power            1399\n",
       "Vroom Audit Rating         0\n",
       "transmission               0\n",
       "door_count             12173\n",
       "seat_count              6180\n",
       "fuel_type                  0\n",
       "Price                   1903\n",
       "dtype: int64"
      ]
     },
     "execution_count": 88,
     "metadata": {},
     "output_type": "execute_result"
    }
   ],
   "source": [
    "df1.isnull().sum()"
   ]
  },
  {
   "cell_type": "code",
   "execution_count": 89,
   "id": "1c17c165",
   "metadata": {},
   "outputs": [
    {
     "data": {
      "text/plain": [
       "door_count\n",
       "4.0    40131\n",
       "Name: count, dtype: int64"
      ]
     },
     "execution_count": 89,
     "metadata": {},
     "output_type": "execute_result"
    }
   ],
   "source": [
    "df1['door_count'].value_counts()"
   ]
  },
  {
   "cell_type": "code",
   "execution_count": 90,
   "id": "a92e5183",
   "metadata": {},
   "outputs": [
    {
     "data": {
      "text/plain": [
       "seat_count\n",
       "5.0    46124\n",
       "Name: count, dtype: int64"
      ]
     },
     "execution_count": 90,
     "metadata": {},
     "output_type": "execute_result"
    }
   ],
   "source": [
    "df1['seat_count'].value_counts()"
   ]
  },
  {
   "cell_type": "code",
   "execution_count": 91,
   "id": "7aecd25a",
   "metadata": {},
   "outputs": [
    {
     "data": {
      "image/png": "[encoded data removed]",
      "text/plain": [
       "<Figure size 1000x500 with 1 Axes>"
      ]
     },
     "metadata": {},
     "output_type": "display_data"
    }
   ],
   "source": [
    "df1[['door_count','seat_count']].boxplot(figsize=(10,5),fontsize=8)\n",
    "plt.show()"
   ]
  },
  {
   "cell_type": "code",
   "execution_count": 92,
   "id": "6b809c6f",
   "metadata": {},
   "outputs": [],
   "source": [
    "df1['door_count'].fillna(4.0,inplace=True)"
   ]
  },
  {
   "cell_type": "code",
   "execution_count": 93,
   "id": "8881c371",
   "metadata": {},
   "outputs": [],
   "source": [
    "df1['seat_count'].fillna(5.0,inplace=True)"
   ]
  },
  {
   "cell_type": "code",
   "execution_count": 94,
   "id": "9d762b6b",
   "metadata": {},
   "outputs": [
    {
     "data": {
      "image/png": "[encoded data removed]",
      "text/plain": [
       "<Figure size 1000x500 with 1 Axes>"
      ]
     },
     "metadata": {},
     "output_type": "display_data"
    }
   ],
   "source": [
    "df1[['door_count','seat_count']].boxplot(figsize=(10,5),fontsize=8)\n",
    "plt.show()"
   ]
  },
  {
   "cell_type": "code",
   "execution_count": 95,
   "id": "b42ae22f",
   "metadata": {},
   "outputs": [
    {
     "data": {
      "text/plain": [
       "Id                        0\n",
       "Maker                     0\n",
       "model                     0\n",
       "Location                  0\n",
       "Distance                  0\n",
       "Owner Type                0\n",
       "manufacture_year        718\n",
       "Age of car              718\n",
       "engine_displacement    5442\n",
       "engine_power           1399\n",
       "Vroom Audit Rating        0\n",
       "transmission              0\n",
       "door_count                0\n",
       "seat_count                0\n",
       "fuel_type                 0\n",
       "Price                  1903\n",
       "dtype: int64"
      ]
     },
     "execution_count": 95,
     "metadata": {},
     "output_type": "execute_result"
    }
   ],
   "source": [
    "df1.isnull().sum()\n"
   ]
  },
  {
   "cell_type": "code",
   "execution_count": 96,
   "id": "a1a010f4",
   "metadata": {},
   "outputs": [],
   "source": [
    "df1['manufacture_year'].value_counts()\n",
    "df1['manufacture_year'].fillna(2015.0,inplace=True)"
   ]
  },
  {
   "cell_type": "code",
   "execution_count": 97,
   "id": "497afe43",
   "metadata": {},
   "outputs": [],
   "source": [
    "df1['Age of car'].value_counts()\n",
    "df1['Age of car'].fillna(4.0,inplace=True)"
   ]
  },
  {
   "cell_type": "code",
   "execution_count": 98,
   "id": "f8cd1b77",
   "metadata": {},
   "outputs": [],
   "source": [
    "df1['engine_displacement'].value_counts()\n",
    "df1['engine_displacement'].fillna(1968.0,inplace=True)"
   ]
  },
  {
   "cell_type": "code",
   "execution_count": 99,
   "id": "9247dc10",
   "metadata": {},
   "outputs": [],
   "source": [
    "df1['engine_power'].value_counts()\n",
    "df1['engine_power'].fillna(77.0,inplace=True)"
   ]
  },
  {
   "cell_type": "code",
   "execution_count": 100,
   "id": "5d571bff",
   "metadata": {},
   "outputs": [
    {
     "data": {
      "text/plain": [
       "Id                        0\n",
       "Maker                     0\n",
       "model                     0\n",
       "Location                  0\n",
       "Distance                  0\n",
       "Owner Type                0\n",
       "manufacture_year          0\n",
       "Age of car                0\n",
       "engine_displacement       0\n",
       "engine_power              0\n",
       "Vroom Audit Rating        0\n",
       "transmission              0\n",
       "door_count                0\n",
       "seat_count                0\n",
       "fuel_type                 0\n",
       "Price                  1903\n",
       "dtype: int64"
      ]
     },
     "execution_count": 100,
     "metadata": {},
     "output_type": "execute_result"
    }
   ],
   "source": [
    "df1.isnull().sum()"
   ]
  },
  {
   "cell_type": "code",
   "execution_count": 101,
   "id": "cdd9a50f",
   "metadata": {},
   "outputs": [
    {
     "data": {
      "text/plain": [
       "Price\n",
       "358068.00     113\n",
       "416358.00     106\n",
       "413582.25     104\n",
       "552368.25      99\n",
       "385825.50      97\n",
       "             ... \n",
       "2577332.25      1\n",
       "156828.00       1\n",
       "254944.50       1\n",
       "2108410.50      1\n",
       "1576610.25      1\n",
       "Name: count, Length: 18906, dtype: int64"
      ]
     },
     "execution_count": 101,
     "metadata": {},
     "output_type": "execute_result"
    }
   ],
   "source": [
    "df1['Price'].value_counts()"
   ]
  },
  {
   "cell_type": "code",
   "execution_count": 102,
   "id": "20949be9",
   "metadata": {},
   "outputs": [],
   "source": [
    "df1['Price'].fillna(df1['Price'].median(),inplace=True)"
   ]
  },
  {
   "cell_type": "code",
   "execution_count": 103,
   "id": "b066cc82",
   "metadata": {},
   "outputs": [
    {
     "data": {
      "text/plain": [
       "Id                     0\n",
       "Maker                  0\n",
       "model                  0\n",
       "Location               0\n",
       "Distance               0\n",
       "Owner Type             0\n",
       "manufacture_year       0\n",
       "Age of car             0\n",
       "engine_displacement    0\n",
       "engine_power           0\n",
       "Vroom Audit Rating     0\n",
       "transmission           0\n",
       "door_count             0\n",
       "seat_count             0\n",
       "fuel_type              0\n",
       "Price                  0\n",
       "dtype: int64"
      ]
     },
     "execution_count": 103,
     "metadata": {},
     "output_type": "execute_result"
    }
   ],
   "source": [
    "df1.isnull().sum()"
   ]
  },
  {
   "cell_type": "code",
   "execution_count": 104,
   "id": "544c70a6",
   "metadata": {},
   "outputs": [
    {
     "data": {
      "image/png": "[encoded data removed]",
      "text/plain": [
       "<Figure size 1000x500 with 1 Axes>"
      ]
     },
     "metadata": {},
     "output_type": "display_data"
    }
   ],
   "source": [
    "df1[['manufacture_year','Age of car','engine_displacement','engine_power','Price']].boxplot(figsize=(10,5),fontsize=8)\n",
    "plt.show()"
   ]
  },
  {
   "cell_type": "code",
   "execution_count": 105,
   "id": "ddf9989d",
   "metadata": {},
   "outputs": [
    {
     "data": {
      "image/png": "[encoded data removed]",
      "text/plain": [
       "<Figure size 1000x500 with 1 Axes>"
      ]
     },
     "metadata": {},
     "output_type": "display_data"
    }
   ],
   "source": [
    "df1.boxplot(figsize=(10,5),fontsize=8)\n",
    "plt.show()"
   ]
  },
  {
   "cell_type": "code",
   "execution_count": 106,
   "id": "1811e950",
   "metadata": {},
   "outputs": [
    {
     "data": {
      "image/png": "[encoded data removed]",
      "text/plain": [
       "<Figure size 1000x500 with 1 Axes>"
      ]
     },
     "metadata": {},
     "output_type": "display_data"
    }
   ],
   "source": [
    "df.boxplot(figsize=(10,5),fontsize=8)\n",
    "plt.show()"
   ]
  },
  {
   "cell_type": "code",
   "execution_count": 107,
   "id": "eed233b6",
   "metadata": {},
   "outputs": [
    {
     "data": {
      "image/png": "[encoded data removed]",
      "text/plain": [
       "<Figure size 1000x500 with 1 Axes>"
      ]
     },
     "metadata": {},
     "output_type": "display_data"
    }
   ],
   "source": [
    "df1.boxplot(figsize=(10,5),fontsize=8)\n",
    "plt.show()"
   ]
  },
  {
   "cell_type": "code",
   "execution_count": 108,
   "id": "d3908af6",
   "metadata": {},
   "outputs": [
    {
     "data": {
      "image/png": "[encoded data removed]",
      "text/plain": [
       "<Figure size 1000x500 with 1 Axes>"
      ]
     },
     "metadata": {},
     "output_type": "display_data"
    }
   ],
   "source": [
    "df1[['manufacture_year','Age of car','engine_displacement','engine_power','Price']].boxplot(figsize=(10,5),fontsize=8)\n",
    "plt.show()"
   ]
  },
  {
   "cell_type": "code",
   "execution_count": 109,
   "id": "2e675acb",
   "metadata": {},
   "outputs": [
    {
     "data": {
      "text/plain": [
       "Index(['Id', 'Maker', 'model', 'Location', 'Distance ', 'Owner Type',\n",
       "       'manufacture_year', 'Age of car', 'engine_displacement', 'engine_power',\n",
       "       'Vroom Audit Rating', 'transmission', 'door_count', 'seat_count',\n",
       "       'fuel_type', 'Price'],\n",
       "      dtype='object')"
      ]
     },
     "execution_count": 109,
     "metadata": {},
     "output_type": "execute_result"
    }
   ],
   "source": [
    "df1.columns"
   ]
  },
  {
   "cell_type": "code",
   "execution_count": 110,
   "id": "b8ae529d",
   "metadata": {},
   "outputs": [
    {
     "data": {
      "image/png": "[encoded data removed]",
      "text/plain": [
       "<Figure size 1000x500 with 1 Axes>"
      ]
     },
     "metadata": {},
     "output_type": "display_data"
    }
   ],
   "source": [
    "df1[['Id', 'Maker', 'model', 'Location']].boxplot(figsize=(10,5),fontsize=8)\n",
    "plt.show()"
   ]
  },
  {
   "cell_type": "code",
   "execution_count": 111,
   "id": "03e43314",
   "metadata": {},
   "outputs": [
    {
     "data": {
      "image/png": "[encoded data removed]",
      "text/plain": [
       "<Figure size 1000x500 with 1 Axes>"
      ]
     },
     "metadata": {},
     "output_type": "display_data"
    }
   ],
   "source": [
    "df1[['Distance ', 'Owner Type','manufacture_year', 'Age of car']].boxplot(figsize=(10,5),fontsize=8)\n",
    "plt.show()"
   ]
  },
  {
   "cell_type": "code",
   "execution_count": 112,
   "id": "cc099b90",
   "metadata": {},
   "outputs": [
    {
     "data": {
      "image/png": "[encoded data removed]",
      "text/plain": [
       "<Figure size 1000x500 with 1 Axes>"
      ]
     },
     "metadata": {},
     "output_type": "display_data"
    }
   ],
   "source": [
    "df1[['engine_displacement', 'engine_power','Vroom Audit Rating', 'transmission']].boxplot(figsize=(10,5),fontsize=8)\n",
    "plt.show()"
   ]
  },
  {
   "cell_type": "code",
   "execution_count": 113,
   "id": "72e3566f",
   "metadata": {},
   "outputs": [
    {
     "data": {
      "image/png": "[encoded data removed]",
      "text/plain": [
       "<Figure size 1000x500 with 1 Axes>"
      ]
     },
     "metadata": {},
     "output_type": "display_data"
    }
   ],
   "source": [
    "df1[[ 'door_count', 'seat_count','fuel_type', 'Price']].boxplot(figsize=(10,5),fontsize=8)\n",
    "plt.show()"
   ]
  },
  {
   "cell_type": "code",
   "execution_count": 114,
   "id": "3bb9091e",
   "metadata": {},
   "outputs": [],
   "source": [
    "q1=df1['Price'].quantile(0.25)\n"
   ]
  },
  {
   "cell_type": "code",
   "execution_count": 115,
   "id": "b65719aa",
   "metadata": {},
   "outputs": [],
   "source": [
    "q3=df1['Price'].quantile(0.75)"
   ]
  },
  {
   "cell_type": "code",
   "execution_count": 116,
   "id": "228364dc",
   "metadata": {},
   "outputs": [],
   "source": [
    "IQR=q3-q1"
   ]
  },
  {
   "cell_type": "code",
   "execution_count": 117,
   "id": "798be5d1",
   "metadata": {},
   "outputs": [],
   "source": [
    "LL=q1-(1.5*IQR)"
   ]
  },
  {
   "cell_type": "code",
   "execution_count": 118,
   "id": "eb7b7ded",
   "metadata": {},
   "outputs": [],
   "source": [
    "UL=q3+(1.5*IQR)"
   ]
  },
  {
   "cell_type": "code",
   "execution_count": 119,
   "id": "05ab1027",
   "metadata": {},
   "outputs": [],
   "source": [
    "df2=df1[(df1['Price']>=LL)&(df1['Price']<=UL)]"
   ]
  },
  {
   "cell_type": "code",
   "execution_count": 120,
   "id": "2489b485",
   "metadata": {},
   "outputs": [
    {
     "data": {
      "image/png": "[encoded data removed]",
      "text/plain": [
       "<Figure size 1000x500 with 1 Axes>"
      ]
     },
     "metadata": {},
     "output_type": "display_data"
    }
   ],
   "source": [
    "df2[['Price']].boxplot(figsize=(10,5),fontsize=8)\n",
    "plt.show()"
   ]
  },
  {
   "cell_type": "code",
   "execution_count": 121,
   "id": "0ad571e2",
   "metadata": {},
   "outputs": [],
   "source": [
    "q1=df2['Price'].quantile(0.25)"
   ]
  },
  {
   "cell_type": "code",
   "execution_count": 122,
   "id": "4a81185c",
   "metadata": {},
   "outputs": [],
   "source": [
    "q3=df2['Price'].quantile(0.75)"
   ]
  },
  {
   "cell_type": "code",
   "execution_count": 123,
   "id": "01dc252e",
   "metadata": {},
   "outputs": [],
   "source": [
    "IQR=q3-q1"
   ]
  },
  {
   "cell_type": "code",
   "execution_count": 124,
   "id": "ef8a906d",
   "metadata": {},
   "outputs": [],
   "source": [
    "LL=q1-(1.5*IQR)"
   ]
  },
  {
   "cell_type": "code",
   "execution_count": 125,
   "id": "081f8bc9",
   "metadata": {},
   "outputs": [],
   "source": [
    "UL=q3+(1.5*IQR)"
   ]
  },
  {
   "cell_type": "code",
   "execution_count": 126,
   "id": "2e59946d",
   "metadata": {},
   "outputs": [],
   "source": [
    "df3=df2[(df2['Price']>=LL)&(df2['Price']<=UL)]"
   ]
  },
  {
   "cell_type": "code",
   "execution_count": 127,
   "id": "380b5ca9",
   "metadata": {},
   "outputs": [
    {
     "data": {
      "image/png": "[encoded data removed]",
      "text/plain": [
       "<Figure size 1000x500 with 1 Axes>"
      ]
     },
     "metadata": {},
     "output_type": "display_data"
    }
   ],
   "source": [
    "df3[['Price']].boxplot(figsize=(10,5),fontsize=8)\n",
    "plt.show()"
   ]
  },
  {
   "cell_type": "code",
   "execution_count": 128,
   "id": "11334877",
   "metadata": {},
   "outputs": [],
   "source": [
    "q1=df3['Price'].quantile(0.25)"
   ]
  },
  {
   "cell_type": "code",
   "execution_count": 129,
   "id": "2229df1b",
   "metadata": {},
   "outputs": [],
   "source": [
    "q3=df3['Price'].quantile(0.75)"
   ]
  },
  {
   "cell_type": "code",
   "execution_count": 130,
   "id": "0fc9cbfa",
   "metadata": {},
   "outputs": [],
   "source": [
    "IQR=q3-q1"
   ]
  },
  {
   "cell_type": "code",
   "execution_count": 131,
   "id": "baf39980",
   "metadata": {},
   "outputs": [],
   "source": [
    "LL=q1-(1.5*IQR)"
   ]
  },
  {
   "cell_type": "code",
   "execution_count": 132,
   "id": "ba8f37ba",
   "metadata": {},
   "outputs": [],
   "source": [
    "UL=q3+(1.5*IQR)"
   ]
  },
  {
   "cell_type": "code",
   "execution_count": 133,
   "id": "04c86bc4",
   "metadata": {},
   "outputs": [],
   "source": [
    "df4=df3[(df3['Price']>=LL)&(df3['Price']<=UL)]"
   ]
  },
  {
   "cell_type": "code",
   "execution_count": 134,
   "id": "e12c8b1d",
   "metadata": {},
   "outputs": [
    {
     "data": {
      "image/png": "[encoded data removed]",
      "text/plain": [
       "<Figure size 1000x500 with 1 Axes>"
      ]
     },
     "metadata": {},
     "output_type": "display_data"
    }
   ],
   "source": [
    "df4[['Price']].boxplot(figsize=(10,5),fontsize=8)\n",
    "plt.show()"
   ]
  },
  {
   "cell_type": "code",
   "execution_count": 135,
   "id": "66fc5b14",
   "metadata": {},
   "outputs": [],
   "source": [
    "q1=df4['Price'].quantile(0.25)"
   ]
  },
  {
   "cell_type": "code",
   "execution_count": 136,
   "id": "b7a97390",
   "metadata": {},
   "outputs": [],
   "source": [
    "q3=df4['Price'].quantile(0.75)"
   ]
  },
  {
   "cell_type": "code",
   "execution_count": 137,
   "id": "e10146d6",
   "metadata": {},
   "outputs": [],
   "source": [
    "IQR=q3-q1"
   ]
  },
  {
   "cell_type": "code",
   "execution_count": 138,
   "id": "267e9854",
   "metadata": {},
   "outputs": [],
   "source": [
    "LL=q1-(1.5*IQR)"
   ]
  },
  {
   "cell_type": "code",
   "execution_count": 139,
   "id": "56626434",
   "metadata": {},
   "outputs": [],
   "source": [
    "UL=q3+(1.5*IQR)"
   ]
  },
  {
   "cell_type": "code",
   "execution_count": 140,
   "id": "5e7c55ba",
   "metadata": {},
   "outputs": [],
   "source": [
    "df5=df4[(df4['Price']>=LL)&(df4['Price']<=UL)]"
   ]
  },
  {
   "cell_type": "code",
   "execution_count": 141,
   "id": "7b7ccf7f",
   "metadata": {},
   "outputs": [
    {
     "data": {
      "image/png": "[encoded data removed]",
      "text/plain": [
       "<Figure size 1000x500 with 1 Axes>"
      ]
     },
     "metadata": {},
     "output_type": "display_data"
    }
   ],
   "source": [
    "df5[['Price']].boxplot(figsize=(10,5),fontsize=8)\n",
    "plt.show()"
   ]
  },
  {
   "cell_type": "code",
   "execution_count": 142,
   "id": "5d8a09bd",
   "metadata": {},
   "outputs": [],
   "source": [
    "q1=df5['Price'].quantile(0.25)"
   ]
  },
  {
   "cell_type": "code",
   "execution_count": 143,
   "id": "f015cfca",
   "metadata": {},
   "outputs": [],
   "source": [
    "q3=df5['Price'].quantile(0.75)"
   ]
  },
  {
   "cell_type": "code",
   "execution_count": 144,
   "id": "c831efdb",
   "metadata": {},
   "outputs": [],
   "source": [
    "IQR=q3-q1"
   ]
  },
  {
   "cell_type": "code",
   "execution_count": 145,
   "id": "2df1b292",
   "metadata": {},
   "outputs": [],
   "source": [
    "LL=q1-(1.5*IQR)"
   ]
  },
  {
   "cell_type": "code",
   "execution_count": 146,
   "id": "d287c94b",
   "metadata": {},
   "outputs": [],
   "source": [
    "UL=q3+(1.5*IQR)"
   ]
  },
  {
   "cell_type": "code",
   "execution_count": 147,
   "id": "9fb693b7",
   "metadata": {},
   "outputs": [],
   "source": [
    "df6=df5[(df5['Price']>=LL)&(df5['Price']<=UL)]"
   ]
  },
  {
   "cell_type": "code",
   "execution_count": 148,
   "id": "7b183910",
   "metadata": {},
   "outputs": [
    {
     "data": {
      "image/png": "[encoded data removed]",
      "text/plain": [
       "<Figure size 1000x500 with 1 Axes>"
      ]
     },
     "metadata": {},
     "output_type": "display_data"
    }
   ],
   "source": [
    "df6[['Price']].boxplot(figsize=(10,5),fontsize=8)\n",
    "plt.show()"
   ]
  },
  {
   "cell_type": "code",
   "execution_count": 149,
   "id": "e1df02f8",
   "metadata": {},
   "outputs": [],
   "source": [
    "q1=df6['Price'].quantile(0.25)\n"
   ]
  },
  {
   "cell_type": "code",
   "execution_count": 150,
   "id": "6c3dfcfd",
   "metadata": {},
   "outputs": [],
   "source": [
    "q3=df6['Price'].quantile(0.75)"
   ]
  },
  {
   "cell_type": "code",
   "execution_count": 151,
   "id": "6491f06e",
   "metadata": {},
   "outputs": [],
   "source": [
    "IQR=q3-q1"
   ]
  },
  {
   "cell_type": "code",
   "execution_count": 152,
   "id": "d49efc1e",
   "metadata": {},
   "outputs": [],
   "source": [
    "LL=q1-(1.5*IQR)"
   ]
  },
  {
   "cell_type": "code",
   "execution_count": 153,
   "id": "05182a12",
   "metadata": {},
   "outputs": [],
   "source": [
    "UL=q3+(1.5*IQR)"
   ]
  },
  {
   "cell_type": "code",
   "execution_count": 154,
   "id": "9e233c5b",
   "metadata": {},
   "outputs": [],
   "source": [
    "df7=df6[(df6['Price']>=LL)&(df6['Price']<=UL)]"
   ]
  },
  {
   "cell_type": "code",
   "execution_count": 155,
   "id": "25e30b43",
   "metadata": {},
   "outputs": [
    {
     "data": {
      "image/png": "[encoded data removed]",
      "text/plain": [
       "<Figure size 1000x500 with 1 Axes>"
      ]
     },
     "metadata": {},
     "output_type": "display_data"
    }
   ],
   "source": [
    "df7[['Price']].boxplot(figsize=(10,5),fontsize=8)\n",
    "plt.show()"
   ]
  },
  {
   "cell_type": "code",
   "execution_count": 156,
   "id": "7ca11624",
   "metadata": {},
   "outputs": [],
   "source": [
    "q1=df1['engine_displacement'].quantile(0.25)"
   ]
  },
  {
   "cell_type": "code",
   "execution_count": 157,
   "id": "b09bc1c1",
   "metadata": {},
   "outputs": [],
   "source": [
    "q3=df1['engine_displacement'].quantile(0.75)"
   ]
  },
  {
   "cell_type": "code",
   "execution_count": 158,
   "id": "ff863e71",
   "metadata": {},
   "outputs": [],
   "source": [
    "IQR=q3-q1"
   ]
  },
  {
   "cell_type": "code",
   "execution_count": 159,
   "id": "20023dea",
   "metadata": {},
   "outputs": [],
   "source": [
    "LL=q1-(1.5*IQR)"
   ]
  },
  {
   "cell_type": "code",
   "execution_count": 160,
   "id": "8b3fa3c7",
   "metadata": {},
   "outputs": [],
   "source": [
    "UL=q3+(1.5*IQR)"
   ]
  },
  {
   "cell_type": "code",
   "execution_count": 161,
   "id": "006035b2",
   "metadata": {},
   "outputs": [],
   "source": [
    "df2=df1[(df1['engine_displacement']>=LL)&(df1['engine_displacement']<=UL)]"
   ]
  },
  {
   "cell_type": "code",
   "execution_count": 162,
   "id": "79615160",
   "metadata": {},
   "outputs": [
    {
     "data": {
      "image/png": "[encoded data removed]",
      "text/plain": [
       "<Figure size 1000x500 with 1 Axes>"
      ]
     },
     "metadata": {},
     "output_type": "display_data"
    }
   ],
   "source": [
    "df2[['engine_displacement']].boxplot(figsize=(10,5),fontsize=8)\n",
    "plt.show()"
   ]
  },
  {
   "cell_type": "code",
   "execution_count": 163,
   "id": "1c69d26f",
   "metadata": {},
   "outputs": [],
   "source": [
    "q1=df1['engine_power'].quantile(0.25)"
   ]
  },
  {
   "cell_type": "code",
   "execution_count": 164,
   "id": "072995ac",
   "metadata": {},
   "outputs": [],
   "source": [
    "q3=df1['engine_power'].quantile(0.75)"
   ]
  },
  {
   "cell_type": "code",
   "execution_count": 165,
   "id": "d1d943c7",
   "metadata": {},
   "outputs": [],
   "source": [
    "IQR=q3-q1"
   ]
  },
  {
   "cell_type": "code",
   "execution_count": 166,
   "id": "71175ef0",
   "metadata": {},
   "outputs": [],
   "source": [
    "LL=q1-(1.5*IQR)"
   ]
  },
  {
   "cell_type": "code",
   "execution_count": 167,
   "id": "87e1da4c",
   "metadata": {},
   "outputs": [],
   "source": [
    "UL=q3+(1.5*IQR)"
   ]
  },
  {
   "cell_type": "code",
   "execution_count": 168,
   "id": "b063d700",
   "metadata": {},
   "outputs": [],
   "source": [
    "df2=df1[(df1['engine_power']>=LL)&(df1['engine_power']<=UL)]"
   ]
  },
  {
   "cell_type": "code",
   "execution_count": 169,
   "id": "6816c9df",
   "metadata": {},
   "outputs": [
    {
     "data": {
      "image/png": "[encoded data removed]",
      "text/plain": [
       "<Figure size 1000x500 with 1 Axes>"
      ]
     },
     "metadata": {},
     "output_type": "display_data"
    }
   ],
   "source": [
    "df2[['engine_power']].boxplot(figsize=(10,5),fontsize=8)\n",
    "plt.show()"
   ]
  },
  {
   "cell_type": "code",
   "execution_count": 170,
   "id": "123c5b53",
   "metadata": {},
   "outputs": [],
   "source": [
    "q1=df2['engine_power'].quantile(0.25)"
   ]
  },
  {
   "cell_type": "code",
   "execution_count": 171,
   "id": "2db669b3",
   "metadata": {},
   "outputs": [],
   "source": [
    "q3=df2['engine_power'].quantile(0.75)"
   ]
  },
  {
   "cell_type": "code",
   "execution_count": 172,
   "id": "84773f8a",
   "metadata": {},
   "outputs": [],
   "source": [
    "IQR=q3-q1"
   ]
  },
  {
   "cell_type": "code",
   "execution_count": 173,
   "id": "94dcb7bd",
   "metadata": {},
   "outputs": [],
   "source": [
    "LL=q1-(1.5*IQR)"
   ]
  },
  {
   "cell_type": "code",
   "execution_count": 174,
   "id": "a8343fa4",
   "metadata": {},
   "outputs": [],
   "source": [
    "UL=q3+(1.5*IQR)"
   ]
  },
  {
   "cell_type": "code",
   "execution_count": 175,
   "id": "ecdabce5",
   "metadata": {},
   "outputs": [],
   "source": [
    "df3=df2[(df2['engine_power']>=LL)&(df2['engine_power']<=UL)]"
   ]
  },
  {
   "cell_type": "code",
   "execution_count": 176,
   "id": "3ab1dbf0",
   "metadata": {},
   "outputs": [
    {
     "data": {
      "image/png": "[encoded data removed]",
      "text/plain": [
       "<Figure size 1000x500 with 1 Axes>"
      ]
     },
     "metadata": {},
     "output_type": "display_data"
    }
   ],
   "source": [
    "df3[['engine_power']].boxplot(figsize=(10,5),fontsize=8)\n",
    "plt.show()"
   ]
  },
  {
   "cell_type": "code",
   "execution_count": 177,
   "id": "3a44510c",
   "metadata": {},
   "outputs": [
    {
     "data": {
      "image/png": "[encoded data removed]",
      "text/plain": [
       "<Figure size 1000x500 with 1 Axes>"
      ]
     },
     "metadata": {},
     "output_type": "display_data"
    }
   ],
   "source": [
    "df3.boxplot(figsize=(10,5),fontsize=8)\n",
    "plt.show()"
   ]
  },
  {
   "cell_type": "code",
   "execution_count": 178,
   "id": "75bbcf32",
   "metadata": {},
   "outputs": [
    {
     "data": {
      "image/png": "[encoded data removed]",
      "text/plain": [
       "<Figure size 1000x500 with 1 Axes>"
      ]
     },
     "metadata": {},
     "output_type": "display_data"
    }
   ],
   "source": [
    "df3[['Price']].boxplot(figsize=(10,5),fontsize=8)\n",
    "plt.show()"
   ]
  },
  {
   "cell_type": "code",
   "execution_count": 179,
   "id": "ba7000ec",
   "metadata": {},
   "outputs": [
    {
     "data": {
      "image/png": "[encoded data removed]",
      "text/plain": [
       "<Figure size 1000x500 with 1 Axes>"
      ]
     },
     "metadata": {},
     "output_type": "display_data"
    }
   ],
   "source": [
    "df3[['engine_displacement']].boxplot(figsize=(10,5),fontsize=8)\n",
    "plt.show()"
   ]
  },
  {
   "cell_type": "code",
   "execution_count": 180,
   "id": "36565f47",
   "metadata": {},
   "outputs": [],
   "source": [
    "q1=df2['engine_displacement'].quantile(0.25)"
   ]
  },
  {
   "cell_type": "code",
   "execution_count": 181,
   "id": "52e37af4",
   "metadata": {},
   "outputs": [],
   "source": [
    "q3=df2['engine_displacement'].quantile(0.75)"
   ]
  },
  {
   "cell_type": "code",
   "execution_count": 182,
   "id": "ba99da6d",
   "metadata": {},
   "outputs": [],
   "source": [
    "IQR=q3-q1"
   ]
  },
  {
   "cell_type": "code",
   "execution_count": 183,
   "id": "c197a2bb",
   "metadata": {},
   "outputs": [],
   "source": [
    "LL=q1-(1.5*IQR)"
   ]
  },
  {
   "cell_type": "code",
   "execution_count": 184,
   "id": "d5eff6f5",
   "metadata": {},
   "outputs": [],
   "source": [
    "UL=q3+(1.5*IQR)"
   ]
  },
  {
   "cell_type": "code",
   "execution_count": 185,
   "id": "a519ffc6",
   "metadata": {},
   "outputs": [],
   "source": [
    "df3=df2[(df2['engine_displacement']>=LL)&(df2['engine_displacement']<=UL)]\n"
   ]
  },
  {
   "cell_type": "code",
   "execution_count": 186,
   "id": "c826bfc2",
   "metadata": {},
   "outputs": [
    {
     "data": {
      "image/png": "[encoded data removed]",
      "text/plain": [
       "<Figure size 1000x500 with 1 Axes>"
      ]
     },
     "metadata": {},
     "output_type": "display_data"
    }
   ],
   "source": [
    "df3[['engine_displacement']].boxplot(figsize=(10,5),fontsize=8)\n",
    "plt.show()"
   ]
  },
  {
   "cell_type": "code",
   "execution_count": 187,
   "id": "f0d2d8fa",
   "metadata": {},
   "outputs": [
    {
     "data": {
      "image/png": "[encoded data removed]",
      "text/plain": [
       "<Figure size 1000x500 with 1 Axes>"
      ]
     },
     "metadata": {},
     "output_type": "display_data"
    }
   ],
   "source": [
    "df3.boxplot(figsize=(10,5),fontsize=8)\n",
    "plt.show()"
   ]
  },
  {
   "cell_type": "code",
   "execution_count": 188,
   "id": "2725fe53",
   "metadata": {},
   "outputs": [
    {
     "data": {
      "image/png": "[encoded data removed]",
      "text/plain": [
       "<Figure size 1000x500 with 1 Axes>"
      ]
     },
     "metadata": {},
     "output_type": "display_data"
    }
   ],
   "source": [
    "df3[['engine_power']].boxplot(figsize=(10,5),fontsize=8)\n",
    "plt.show()"
   ]
  },
  {
   "cell_type": "code",
   "execution_count": 189,
   "id": "b160d4c0",
   "metadata": {},
   "outputs": [],
   "source": [
    "q1=df3['engine_power'].quantile(0.25)"
   ]
  },
  {
   "cell_type": "code",
   "execution_count": 190,
   "id": "eb0e9e99",
   "metadata": {},
   "outputs": [],
   "source": [
    "q3=df3['engine_power'].quantile(0.75)"
   ]
  },
  {
   "cell_type": "code",
   "execution_count": 191,
   "id": "6b2b09ee",
   "metadata": {},
   "outputs": [],
   "source": [
    "IQR=q3-q1"
   ]
  },
  {
   "cell_type": "code",
   "execution_count": 192,
   "id": "75d15ca1",
   "metadata": {},
   "outputs": [],
   "source": [
    "LL=q1-(1.5*IQR)"
   ]
  },
  {
   "cell_type": "code",
   "execution_count": 193,
   "id": "38c2380f",
   "metadata": {},
   "outputs": [],
   "source": [
    "UL=q3+(1.5*IQR)"
   ]
  },
  {
   "cell_type": "code",
   "execution_count": 194,
   "id": "dab13134",
   "metadata": {},
   "outputs": [],
   "source": [
    "df4=df3[(df3['engine_power']>=LL)&(df3['engine_power']<=UL)]"
   ]
  },
  {
   "cell_type": "code",
   "execution_count": 195,
   "id": "19a3dfa0",
   "metadata": {},
   "outputs": [
    {
     "data": {
      "image/png": "[encoded data removed]",
      "text/plain": [
       "<Figure size 1000x500 with 1 Axes>"
      ]
     },
     "metadata": {},
     "output_type": "display_data"
    }
   ],
   "source": [
    "df4[['engine_power']].boxplot(figsize=(10,5),fontsize=8)\n",
    "plt.show()"
   ]
  },
  {
   "cell_type": "code",
   "execution_count": 196,
   "id": "b631c53d",
   "metadata": {},
   "outputs": [
    {
     "data": {
      "image/png": "[encoded data removed]",
      "text/plain": [
       "<Figure size 1000x500 with 1 Axes>"
      ]
     },
     "metadata": {},
     "output_type": "display_data"
    }
   ],
   "source": [
    "df4.boxplot(figsize=(10,5),fontsize=8)\n",
    "plt.show()"
   ]
  },
  {
   "cell_type": "code",
   "execution_count": null,
   "id": "c9770ee0",
   "metadata": {},
   "outputs": [],
   "source": []
  },
  {
   "cell_type": "code",
   "execution_count": 197,
   "id": "1b360d37",
   "metadata": {},
   "outputs": [],
   "source": [
    "q1=df7['Price'].quantile(0.25)"
   ]
  },
  {
   "cell_type": "code",
   "execution_count": 198,
   "id": "9e09efe7",
   "metadata": {},
   "outputs": [],
   "source": [
    "q3=df7['Price'].quantile(0.75)"
   ]
  },
  {
   "cell_type": "code",
   "execution_count": 199,
   "id": "426b8144",
   "metadata": {},
   "outputs": [],
   "source": [
    "IQR=q3-q1"
   ]
  },
  {
   "cell_type": "code",
   "execution_count": 200,
   "id": "845cc1e6",
   "metadata": {},
   "outputs": [],
   "source": [
    "LL=q1-(1.5*IQR)"
   ]
  },
  {
   "cell_type": "code",
   "execution_count": 201,
   "id": "c77b561d",
   "metadata": {},
   "outputs": [],
   "source": [
    "UL=q3+(1.5*IQR)"
   ]
  },
  {
   "cell_type": "code",
   "execution_count": 202,
   "id": "36791a13",
   "metadata": {},
   "outputs": [],
   "source": [
    "df8=df7[(df7['Price']>=LL)&(df7['Price']<=UL)]"
   ]
  },
  {
   "cell_type": "code",
   "execution_count": 203,
   "id": "9b4ee1e0",
   "metadata": {},
   "outputs": [
    {
     "data": {
      "image/png": "[encoded data removed]",
      "text/plain": [
       "<Figure size 1000x500 with 1 Axes>"
      ]
     },
     "metadata": {},
     "output_type": "display_data"
    }
   ],
   "source": [
    "df8[['Price']].boxplot(figsize=(10,5),fontsize=8)\n",
    "plt.show()"
   ]
  },
  {
   "cell_type": "code",
   "execution_count": 204,
   "id": "7fdc738b",
   "metadata": {},
   "outputs": [],
   "source": [
    "q1=df8['Price'].quantile(0.25)"
   ]
  },
  {
   "cell_type": "code",
   "execution_count": 205,
   "id": "2c95a4c1",
   "metadata": {},
   "outputs": [],
   "source": [
    "q3=df8['Price'].quantile(0.75)"
   ]
  },
  {
   "cell_type": "code",
   "execution_count": 206,
   "id": "18fd7203",
   "metadata": {},
   "outputs": [],
   "source": [
    "IQR=q3-q1"
   ]
  },
  {
   "cell_type": "code",
   "execution_count": 207,
   "id": "d7f036de",
   "metadata": {},
   "outputs": [],
   "source": [
    "LL=q1-(1.5*IQR)"
   ]
  },
  {
   "cell_type": "code",
   "execution_count": 208,
   "id": "329e5f0d",
   "metadata": {},
   "outputs": [],
   "source": [
    "UL=q3+(1.5*IQR)"
   ]
  },
  {
   "cell_type": "code",
   "execution_count": 209,
   "id": "d727896f",
   "metadata": {},
   "outputs": [],
   "source": [
    "df9=df8[(df8['Price']>=LL)&(df8['Price']<=UL)]"
   ]
  },
  {
   "cell_type": "code",
   "execution_count": 210,
   "id": "3ee825c3",
   "metadata": {},
   "outputs": [
    {
     "data": {
      "image/png": "[encoded data removed]",
      "text/plain": [
       "<Figure size 1000x500 with 1 Axes>"
      ]
     },
     "metadata": {},
     "output_type": "display_data"
    }
   ],
   "source": [
    "df9[['Price']].boxplot(figsize=(10,5),fontsize=8)\n",
    "plt.show()"
   ]
  },
  {
   "cell_type": "code",
   "execution_count": 211,
   "id": "716f22b7",
   "metadata": {},
   "outputs": [
    {
     "data": {
      "image/png": "[encoded data removed]",
      "text/plain": [
       "<Figure size 1000x500 with 1 Axes>"
      ]
     },
     "metadata": {},
     "output_type": "display_data"
    }
   ],
   "source": [
    "df9.boxplot(figsize=(10,5),fontsize=8)\n",
    "plt.show()"
   ]
  },
  {
   "cell_type": "code",
   "execution_count": 212,
   "id": "9212a2a4",
   "metadata": {},
   "outputs": [
    {
     "data": {
      "image/png": "[encoded data removed]",
      "text/plain": [
       "<Figure size 1000x500 with 1 Axes>"
      ]
     },
     "metadata": {},
     "output_type": "display_data"
    }
   ],
   "source": [
    "df9[['engine_displacement']].boxplot(figsize=(10,5),fontsize=8)\n",
    "plt.show()"
   ]
  },
  {
   "cell_type": "code",
   "execution_count": 213,
   "id": "43b8e443",
   "metadata": {},
   "outputs": [],
   "source": [
    "q1=df3['engine_displacement'].quantile(0.25)"
   ]
  },
  {
   "cell_type": "code",
   "execution_count": 214,
   "id": "66c2886b",
   "metadata": {},
   "outputs": [],
   "source": [
    "q3=df3['engine_displacement'].quantile(0.75)"
   ]
  },
  {
   "cell_type": "code",
   "execution_count": 215,
   "id": "75a047cc",
   "metadata": {},
   "outputs": [],
   "source": [
    "IQR=q3-q1"
   ]
  },
  {
   "cell_type": "code",
   "execution_count": 216,
   "id": "3a347a3b",
   "metadata": {},
   "outputs": [],
   "source": [
    "LL=q1-(1.5*IQR)"
   ]
  },
  {
   "cell_type": "code",
   "execution_count": 217,
   "id": "55bc44bf",
   "metadata": {},
   "outputs": [],
   "source": [
    "UL=q3+(1.5*IQR)"
   ]
  },
  {
   "cell_type": "code",
   "execution_count": 218,
   "id": "534f57f8",
   "metadata": {},
   "outputs": [],
   "source": [
    "df4=df3[(df3['engine_displacement']>=LL)&(df3['engine_displacement']<=UL)]"
   ]
  },
  {
   "cell_type": "code",
   "execution_count": 219,
   "id": "e00b4db0",
   "metadata": {},
   "outputs": [
    {
     "data": {
      "image/png": "[encoded data removed]",
      "text/plain": [
       "<Figure size 1000x500 with 1 Axes>"
      ]
     },
     "metadata": {},
     "output_type": "display_data"
    }
   ],
   "source": [
    "df4[['engine_displacement']].boxplot(figsize=(10,5),fontsize=8)\n",
    "plt.show()"
   ]
  },
  {
   "cell_type": "code",
   "execution_count": 220,
   "id": "dcb499f2",
   "metadata": {},
   "outputs": [
    {
     "data": {
      "image/png": "[encoded data removed]",
      "text/plain": [
       "<Figure size 1000x500 with 1 Axes>"
      ]
     },
     "metadata": {},
     "output_type": "display_data"
    }
   ],
   "source": [
    "df4.boxplot(figsize=(10,5),fontsize=8)\n",
    "plt.show()"
   ]
  },
  {
   "cell_type": "code",
   "execution_count": 221,
   "id": "6e01bc44",
   "metadata": {},
   "outputs": [],
   "source": [
    "df5=df4.copy() "
   ]
  },
  {
   "cell_type": "code",
   "execution_count": 222,
   "id": "dc8d429f",
   "metadata": {},
   "outputs": [
    {
     "data": {
      "application/vnd.microsoft.datawrangler.viewer.v0+json": {
       "columns": [
        {
         "name": "index",
         "rawType": "int64",
         "type": "integer"
        },
        {
         "name": "Id",
         "rawType": "int64",
         "type": "integer"
        },
        {
         "name": "Maker",
         "rawType": "int64",
         "type": "integer"
        },
        {
         "name": "model",
         "rawType": "int64",
         "type": "integer"
        },
        {
         "name": "Location",
         "rawType": "int64",
         "type": "integer"
        },
        {
         "name": "Distance ",
         "rawType": "int64",
         "type": "integer"
        },
        {
         "name": "Owner Type",
         "rawType": "int64",
         "type": "integer"
        },
        {
         "name": "manufacture_year",
         "rawType": "float64",
         "type": "float"
        },
        {
         "name": "Age of car",
         "rawType": "float64",
         "type": "float"
        },
        {
         "name": "engine_displacement",
         "rawType": "float64",
         "type": "float"
        },
        {
         "name": "engine_power",
         "rawType": "float64",
         "type": "float"
        },
        {
         "name": "Vroom Audit Rating",
         "rawType": "int64",
         "type": "integer"
        },
        {
         "name": "transmission",
         "rawType": "int64",
         "type": "integer"
        },
        {
         "name": "door_count",
         "rawType": "float64",
         "type": "float"
        },
        {
         "name": "seat_count",
         "rawType": "float64",
         "type": "float"
        },
        {
         "name": "fuel_type",
         "rawType": "int64",
         "type": "integer"
        },
        {
         "name": "Price",
         "rawType": "float64",
         "type": "float"
        }
       ],
       "conversionMethod": "pd.DataFrame",
       "ref": "e9279fa4-63ed-4d10-8d0a-f7f8f080344e",
       "rows": [
        [
         "1",
         "25002",
         "2",
         "9",
         "0",
         "4400",
         "3",
         "2012.0",
         "7.0",
         "1242.0",
         "51.0",
         "6",
         "1",
         "4.0",
         "5.0",
         "1",
         "401819.25"
        ],
        [
         "2",
         "25003",
         "1",
         "18",
         "5",
         "6313",
         "3",
         "2014.0",
         "5.0",
         "1995.0",
         "105.0",
         "7",
         "0",
         "4.0",
         "5.0",
         "0",
         "2392855.5"
        ],
        [
         "3",
         "25004",
         "5",
         "6",
         "9",
         "6123",
         "3",
         "2011.0",
         "8.0",
         "1618.0",
         "140.0",
         "7",
         "1",
         "4.0",
         "5.0",
         "1",
         "958606.5"
        ],
        [
         "4",
         "25005",
         "1",
         "20",
         "6",
         "7584",
         "1",
         "2012.0",
         "7.0",
         "1968.0",
         "180.0",
         "7",
         "0",
         "4.0",
         "5.0",
         "0",
         "875465.25"
        ],
        [
         "5",
         "25006",
         "6",
         "8",
         "2",
         "1719",
         "0",
         "2015.0",
         "4.0",
         "1968.0",
         "110.0",
         "4",
         "1",
         "4.0",
         "5.0",
         "0",
         "1543728.75"
        ]
       ],
       "shape": {
        "columns": 16,
        "rows": 5
       }
      },
      "text/html": [
       "<div>\n",
       "<style scoped>\n",
       "    .dataframe tbody tr th:only-of-type {\n",
       "        vertical-align: middle;\n",
       "    }\n",
       "\n",
       "    .dataframe tbody tr th {\n",
       "        vertical-align: top;\n",
       "    }\n",
       "\n",
       "    .dataframe thead th {\n",
       "        text-align: right;\n",
       "    }\n",
       "</style>\n",
       "<table border=\"1\" class=\"dataframe\">\n",
       "  <thead>\n",
       "    <tr style=\"text-align: right;\">\n",
       "      <th></th>\n",
       "      <th>Id</th>\n",
       "      <th>Maker</th>\n",
       "      <th>model</th>\n",
       "      <th>Location</th>\n",
       "      <th>Distance</th>\n",
       "      <th>Owner Type</th>\n",
       "      <th>manufacture_year</th>\n",
       "      <th>Age of car</th>\n",
       "      <th>engine_displacement</th>\n",
       "      <th>engine_power</th>\n",
       "      <th>Vroom Audit Rating</th>\n",
       "      <th>transmission</th>\n",
       "      <th>door_count</th>\n",
       "      <th>seat_count</th>\n",
       "      <th>fuel_type</th>\n",
       "      <th>Price</th>\n",
       "    </tr>\n",
       "  </thead>\n",
       "  <tbody>\n",
       "    <tr>\n",
       "      <th>1</th>\n",
       "      <td>25002</td>\n",
       "      <td>2</td>\n",
       "      <td>9</td>\n",
       "      <td>0</td>\n",
       "      <td>4400</td>\n",
       "      <td>3</td>\n",
       "      <td>2012.0</td>\n",
       "      <td>7.0</td>\n",
       "      <td>1242.0</td>\n",
       "      <td>51.0</td>\n",
       "      <td>6</td>\n",
       "      <td>1</td>\n",
       "      <td>4.0</td>\n",
       "      <td>5.0</td>\n",
       "      <td>1</td>\n",
       "      <td>401819.25</td>\n",
       "    </tr>\n",
       "    <tr>\n",
       "      <th>2</th>\n",
       "      <td>25003</td>\n",
       "      <td>1</td>\n",
       "      <td>18</td>\n",
       "      <td>5</td>\n",
       "      <td>6313</td>\n",
       "      <td>3</td>\n",
       "      <td>2014.0</td>\n",
       "      <td>5.0</td>\n",
       "      <td>1995.0</td>\n",
       "      <td>105.0</td>\n",
       "      <td>7</td>\n",
       "      <td>0</td>\n",
       "      <td>4.0</td>\n",
       "      <td>5.0</td>\n",
       "      <td>0</td>\n",
       "      <td>2392855.50</td>\n",
       "    </tr>\n",
       "    <tr>\n",
       "      <th>3</th>\n",
       "      <td>25004</td>\n",
       "      <td>5</td>\n",
       "      <td>6</td>\n",
       "      <td>9</td>\n",
       "      <td>6123</td>\n",
       "      <td>3</td>\n",
       "      <td>2011.0</td>\n",
       "      <td>8.0</td>\n",
       "      <td>1618.0</td>\n",
       "      <td>140.0</td>\n",
       "      <td>7</td>\n",
       "      <td>1</td>\n",
       "      <td>4.0</td>\n",
       "      <td>5.0</td>\n",
       "      <td>1</td>\n",
       "      <td>958606.50</td>\n",
       "    </tr>\n",
       "    <tr>\n",
       "      <th>4</th>\n",
       "      <td>25005</td>\n",
       "      <td>1</td>\n",
       "      <td>20</td>\n",
       "      <td>6</td>\n",
       "      <td>7584</td>\n",
       "      <td>1</td>\n",
       "      <td>2012.0</td>\n",
       "      <td>7.0</td>\n",
       "      <td>1968.0</td>\n",
       "      <td>180.0</td>\n",
       "      <td>7</td>\n",
       "      <td>0</td>\n",
       "      <td>4.0</td>\n",
       "      <td>5.0</td>\n",
       "      <td>0</td>\n",
       "      <td>875465.25</td>\n",
       "    </tr>\n",
       "    <tr>\n",
       "      <th>5</th>\n",
       "      <td>25006</td>\n",
       "      <td>6</td>\n",
       "      <td>8</td>\n",
       "      <td>2</td>\n",
       "      <td>1719</td>\n",
       "      <td>0</td>\n",
       "      <td>2015.0</td>\n",
       "      <td>4.0</td>\n",
       "      <td>1968.0</td>\n",
       "      <td>110.0</td>\n",
       "      <td>4</td>\n",
       "      <td>1</td>\n",
       "      <td>4.0</td>\n",
       "      <td>5.0</td>\n",
       "      <td>0</td>\n",
       "      <td>1543728.75</td>\n",
       "    </tr>\n",
       "  </tbody>\n",
       "</table>\n",
       "</div>"
      ],
      "text/plain": [
       "      Id  Maker  model  Location  Distance   Owner Type  manufacture_year  \\\n",
       "1  25002      2      9         0       4400           3            2012.0   \n",
       "2  25003      1     18         5       6313           3            2014.0   \n",
       "3  25004      5      6         9       6123           3            2011.0   \n",
       "4  25005      1     20         6       7584           1            2012.0   \n",
       "5  25006      6      8         2       1719           0            2015.0   \n",
       "\n",
       "   Age of car  engine_displacement  engine_power  Vroom Audit Rating  \\\n",
       "1         7.0               1242.0          51.0                   6   \n",
       "2         5.0               1995.0         105.0                   7   \n",
       "3         8.0               1618.0         140.0                   7   \n",
       "4         7.0               1968.0         180.0                   7   \n",
       "5         4.0               1968.0         110.0                   4   \n",
       "\n",
       "   transmission  door_count  seat_count  fuel_type       Price  \n",
       "1             1         4.0         5.0          1   401819.25  \n",
       "2             0         4.0         5.0          0  2392855.50  \n",
       "3             1         4.0         5.0          1   958606.50  \n",
       "4             0         4.0         5.0          0   875465.25  \n",
       "5             1         4.0         5.0          0  1543728.75  "
      ]
     },
     "execution_count": 222,
     "metadata": {},
     "output_type": "execute_result"
    }
   ],
   "source": [
    "df5.columns\n",
    "df5.head(5)"
   ]
  },
  {
   "cell_type": "code",
   "execution_count": 223,
   "id": "135a0455",
   "metadata": {},
   "outputs": [],
   "source": [
    "from sklearn.preprocessing import StandardScaler,MinMaxScaler"
   ]
  },
  {
   "cell_type": "code",
   "execution_count": 224,
   "id": "74f75505",
   "metadata": {},
   "outputs": [],
   "source": [
    "ss=StandardScaler()"
   ]
  },
  {
   "cell_type": "code",
   "execution_count": 225,
   "id": "285bf5d0",
   "metadata": {},
   "outputs": [],
   "source": [
    "mms=MinMaxScaler()"
   ]
  },
  {
   "cell_type": "code",
   "execution_count": 226,
   "id": "60863329",
   "metadata": {},
   "outputs": [],
   "source": [
    "df5_mms=pd.DataFrame(mms.fit_transform(df5),columns=df5.columns)"
   ]
  },
  {
   "cell_type": "code",
   "execution_count": 227,
   "id": "06d1634f",
   "metadata": {},
   "outputs": [
    {
     "data": {
      "application/vnd.microsoft.datawrangler.viewer.v0+json": {
       "columns": [
        {
         "name": "index",
         "rawType": "int64",
         "type": "integer"
        },
        {
         "name": "Id",
         "rawType": "float64",
         "type": "float"
        },
        {
         "name": "Maker",
         "rawType": "float64",
         "type": "float"
        },
        {
         "name": "model",
         "rawType": "float64",
         "type": "float"
        },
        {
         "name": "Location",
         "rawType": "float64",
         "type": "float"
        },
        {
         "name": "Distance ",
         "rawType": "float64",
         "type": "float"
        },
        {
         "name": "Owner Type",
         "rawType": "float64",
         "type": "float"
        },
        {
         "name": "manufacture_year",
         "rawType": "float64",
         "type": "float"
        },
        {
         "name": "Age of car",
         "rawType": "float64",
         "type": "float"
        },
        {
         "name": "engine_displacement",
         "rawType": "float64",
         "type": "float"
        },
        {
         "name": "engine_power",
         "rawType": "float64",
         "type": "float"
        },
        {
         "name": "Vroom Audit Rating",
         "rawType": "float64",
         "type": "float"
        },
        {
         "name": "transmission",
         "rawType": "float64",
         "type": "float"
        },
        {
         "name": "door_count",
         "rawType": "float64",
         "type": "float"
        },
        {
         "name": "seat_count",
         "rawType": "float64",
         "type": "float"
        },
        {
         "name": "fuel_type",
         "rawType": "float64",
         "type": "float"
        },
        {
         "name": "Price",
         "rawType": "float64",
         "type": "float"
        }
       ],
       "conversionMethod": "pd.DataFrame",
       "ref": "2a5b88a0-2381-4e65-a32f-8e34804e674b",
       "rows": [
        [
         "0",
         "0.0",
         "0.2857142857142857",
         "0.4090909090909091",
         "0.0",
         "0.23560910307898258",
         "1.0",
         "0.7647058823529278",
         "0.23529411764705882",
         "0.2753488372093023",
         "0.23563218390804597",
         "0.5",
         "1.0",
         "0.0",
         "0.0",
         "1.0",
         "0.13624339768025573"
        ],
        [
         "1",
         "1.8687048007004492e-05",
         "0.14285714285714285",
         "0.8181818181818182",
         "0.5",
         "0.33804551539491295",
         "1.0",
         "0.8823529411764639",
         "0.11764705882352944",
         "0.6255813953488372",
         "0.5459770114942528",
         "0.75",
         "0.0",
         "0.0",
         "0.0",
         "0.0",
         "0.8113431477012356"
        ],
        [
         "2",
         "3.7374096014064495e-05",
         "0.7142857142857142",
         "0.2727272727272727",
         "0.9",
         "0.3278714859437751",
         "1.0",
         "0.705882352941174",
         "0.29411764705882354",
         "0.45023255813953483",
         "0.7471264367816092",
         "0.75",
         "1.0",
         "0.0",
         "0.0",
         "1.0",
         "0.32503299570483657"
        ],
        [
         "3",
         "5.606114402106899e-05",
         "0.14285714285714285",
         "0.9090909090909092",
         "0.6000000000000001",
         "0.4061044176706827",
         "0.3333333333333333",
         "0.7647058823529278",
         "0.23529411764705882",
         "0.6130232558139534",
         "0.9770114942528736",
         "0.75",
         "0.0",
         "0.0",
         "0.0",
         "0.0",
         "0.29684233011980177"
        ],
        [
         "4",
         "7.474819202812899e-05",
         "0.8571428571428571",
         "0.36363636363636365",
         "0.2",
         "0.09204819277108434",
         "0.0",
         "0.941176470588232",
         "0.05882352941176472",
         "0.6130232558139534",
         "0.5747126436781609",
         "0.0",
         "1.0",
         "0.0",
         "0.0",
         "0.0",
         "0.5234301292109258"
        ],
        [
         "5",
         "9.343524003513348e-05",
         "0.8571428571428571",
         "0.7272727272727273",
         "0.30000000000000004",
         "0.8565461847389558",
         "0.3333333333333333",
         "0.5882352941176379",
         "0.411764705882353",
         "0.6130232558139534",
         "0.660919540229885",
         "0.5",
         "0.0",
         "0.0",
         "0.0",
         "0.0",
         "0.31058151274180956"
        ],
        [
         "6",
         "0.00011212228804213797",
         "0.2857142857142857",
         "0.4090909090909091",
         "0.2",
         "0.2721285140562249",
         "0.6666666666666666",
         "0.6470588235294059",
         "0.35294117647058826",
         "0.21302325581395348",
         "0.1724137931034483",
         "0.25",
         "1.0",
         "0.0",
         "0.0",
         "1.0",
         "0.11105604056628005"
        ],
        [
         "7",
         "0.00013080933604919798",
         "0.7142857142857142",
         "0.5909090909090909",
         "0.30000000000000004",
         "0.13499330655957162",
         "0.0",
         "0.941176470588232",
         "0.05882352941176472",
         "0.441860465116279",
         "0.4942528735632184",
         "0.25",
         "1.0",
         "0.0",
         "0.0",
         "0.0",
         "0.4616352137282476"
        ],
        [
         "8",
         "0.00014949638405620247",
         "0.8571428571428571",
         "0.7272727272727273",
         "0.9",
         "0.5875234270414993",
         "0.3333333333333333",
         "0.6470588235294059",
         "0.35294117647058826",
         "0.627906976744186",
         "0.5344827586206896",
         "0.5",
         "1.0",
         "0.0",
         "0.0",
         "0.0",
         "0.3002296348475332"
        ],
        [
         "9",
         "0.00016818343206326247",
         "0.8571428571428571",
         "0.7272727272727273",
         "0.7000000000000001",
         "0.9079518072289157",
         "0.0",
         "0.6470588235294059",
         "0.35294117647058826",
         "0.5348837209302326",
         "0.6206896551724137",
         "0.0",
         "1.0",
         "0.0",
         "0.0",
         "1.0",
         "0.24470097880900127"
        ],
        [
         "10",
         "0.00018687048007026696",
         "0.0",
         "0.18181818181818182",
         "0.30000000000000004",
         "0.220669344042838",
         "0.3333333333333333",
         "0.941176470588232",
         "0.05882352941176472",
         "0.6204651162790698",
         "0.9137931034482758",
         "0.0",
         "1.0",
         "0.0",
         "0.0",
         "1.0",
         "0.7783769419148444"
        ],
        [
         "11",
         "0.00020555752807727146",
         "0.7142857142857142",
         "0.3181818181818182",
         "0.2",
         "0.7246586345381526",
         "0.3333333333333333",
         "0.0",
         "1.0",
         "0.32465116279069767",
         "0.2873563218390805",
         "0.75",
         "1.0",
         "0.0",
         "0.0",
         "1.0",
         "0.03307021536849654"
        ],
        [
         "12",
         "0.00022424457608433146",
         "1.0",
         "0.09090909090909091",
         "0.0",
         "0.000535475234270415",
         "0.3333333333333333",
         "0.941176470588232",
         "0.05882352941176472",
         "0.16186046511627905",
         "0.23563218390804597",
         "0.0",
         "1.0",
         "0.0",
         "0.0",
         "1.0",
         "0.2620560837976467"
        ],
        [
         "13",
         "0.00024293162409133595",
         "0.8571428571428571",
         "0.36363636363636365",
         "0.7000000000000001",
         "0.7937349397590361",
         "1.0",
         "0.5882352941176379",
         "0.411764705882353",
         "0.6130232558139534",
         "0.5344827586206896",
         "0.0",
         "0.0",
         "0.0",
         "0.0",
         "0.0",
         "0.1684667868668194"
        ],
        [
         "14",
         "0.00026161867209839595",
         "0.14285714285714285",
         "0.8181818181818182",
         "0.1",
         "0.09194109772423024",
         "0.6666666666666666",
         "0.8235294117646959",
         "0.1764705882352941",
         "0.6255813953488372",
         "0.7183908045977011",
         "0.0",
         "1.0",
         "0.0",
         "0.0",
         "0.0",
         "0.749196278033634"
        ],
        [
         "15",
         "0.00028030572010540045",
         "0.8571428571428571",
         "1.0",
         "0.1",
         "0.0035341365461847387",
         "0.0",
         "0.941176470588232",
         "0.05882352941176472",
         "0.2544186046511628",
         "0.40804597701149425",
         "0.25",
         "1.0",
         "0.0",
         "0.0",
         "1.0",
         "0.3973867910373748"
        ],
        [
         "16",
         "0.00029899276811240494",
         "0.0",
         "0.18181818181818182",
         "0.0",
         "0.011887550200803213",
         "1.0",
         "0.941176470588232",
         "0.05882352941176472",
         "0.6130232558139534",
         "0.9770114942528736",
         "0.75",
         "0.0",
         "0.0",
         "0.0",
         "0.0",
         "0.29684233011980177"
        ],
        [
         "17",
         "0.00031767981611946494",
         "0.14285714285714285",
         "0.8181818181818182",
         "0.0",
         "0.43630522088353413",
         "0.0",
         "0.705882352941174",
         "0.29411764705882354",
         "0.6255813953488372",
         "0.689655172413793",
         "0.0",
         "0.0",
         "0.0",
         "0.0",
         "0.0",
         "0.5055885441964434"
        ],
        [
         "18",
         "0.00033636686412646943",
         "0.7142857142857142",
         "0.5909090909090909",
         "1.0",
         "0.6235609103078983",
         "0.0",
         "0.6470588235294059",
         "0.35294117647058826",
         "0.3772093023255814",
         "0.40804597701149425",
         "1.0",
         "1.0",
         "0.0",
         "0.0",
         "0.0",
         "0.29732245259172047"
        ],
        [
         "19",
         "0.00035505391213352944",
         "0.8571428571428571",
         "0.36363636363636365",
         "0.9",
         "0.821954484605087",
         "1.0",
         "0.8235294117646959",
         "0.1764705882352941",
         "0.4409302325581395",
         "0.38505747126436785",
         "1.0",
         "1.0",
         "0.0",
         "0.0",
         "0.0",
         "0.27105354840514406"
        ],
        [
         "20",
         "0.00037374096014053393",
         "0.8571428571428571",
         "1.0",
         "0.8",
         "0.3796519410977242",
         "0.3333333333333333",
         "0.8235294117646959",
         "0.1764705882352941",
         "0.6130232558139534",
         "0.40804597701149425",
         "0.0",
         "1.0",
         "0.0",
         "0.0",
         "0.0",
         "0.38578120351038697"
        ],
        [
         "21",
         "0.0003924280081475384",
         "1.0",
         "0.0",
         "0.2",
         "0.13461847389558232",
         "0.0",
         "0.8823529411764639",
         "0.11764705882352944",
         "0.6269767441860465",
         "0.46551724137931033",
         "0.75",
         "1.0",
         "0.0",
         "0.0",
         "0.0",
         "0.38129099032888897"
        ],
        [
         "22",
         "0.0004111150561545984",
         "0.7142857142857142",
         "0.5909090909090909",
         "0.4",
         "0.29692101740294513",
         "0.6666666666666666",
         "0.8235294117646959",
         "0.1764705882352941",
         "0.3772093023255814",
         "0.40804597701149425",
         "0.25",
         "1.0",
         "0.0",
         "0.0",
         "0.0",
         "0.45774261061508065"
        ],
        [
         "23",
         "0.0004298021041616029",
         "0.7142857142857142",
         "0.5909090909090909",
         "0.2",
         "0.6005890227576974",
         "0.0",
         "0.6470588235294059",
         "0.35294117647058826",
         "0.6265116279069767",
         "0.5402298850574712",
         "0.25",
         "1.0",
         "0.0",
         "0.0",
         "1.0",
         "0.254313091729331"
        ],
        [
         "24",
         "0.0004484891521686629",
         "0.0",
         "0.4545454545454546",
         "0.4",
         "0.3635876840696118",
         "1.0",
         "0.7647058823529278",
         "0.23529411764705882",
         "0.6130232558139534",
         "0.5344827586206896",
         "1.0",
         "1.0",
         "0.0",
         "0.0",
         "0.0",
         "0.6740990710342214"
        ],
        [
         "25",
         "0.0004671762001756674",
         "0.8571428571428571",
         "0.36363636363636365",
         "0.7000000000000001",
         "0.770334672021419",
         "0.6666666666666666",
         "0.470588235294116",
         "0.5294117647058822",
         "0.6130232558139534",
         "0.5344827586206896",
         "0.25",
         "1.0",
         "0.0",
         "0.0",
         "0.0",
         "0.13984991086709406"
        ],
        [
         "26",
         "0.0004858632481826719",
         "0.7142857142857142",
         "0.3181818181818182",
         "0.6000000000000001",
         "0.7444712182061579",
         "1.0",
         "0.2941176470588118",
         "0.7058823529411764",
         "0.2744186046511628",
         "0.21839080459770116",
         "0.0",
         "1.0",
         "0.0",
         "0.0",
         "1.0",
         "0.046115661706926936"
        ],
        [
         "27",
         "0.0005045502961897319",
         "0.7142857142857142",
         "0.2727272727272727",
         "0.8",
         "0.3491834002677376",
         "0.3333333333333333",
         "0.705882352941174",
         "0.29411764705882354",
         "0.4409302325581395",
         "0.4367816091954023",
         "1.0",
         "1.0",
         "0.0",
         "0.0",
         "1.0",
         "0.23486406278211644"
        ],
        [
         "28",
         "0.0005232373441967364",
         "0.8571428571428571",
         "0.36363636363636365",
         "0.2",
         "0.770334672021419",
         "0.0",
         "0.705882352941174",
         "0.29411764705882354",
         "0.5339534883720931",
         "0.6206896551724137",
         "0.5",
         "1.0",
         "0.0",
         "0.0",
         "1.0",
         "0.27850104136733184"
        ],
        [
         "29",
         "0.0005419243922037409",
         "0.0",
         "0.4545454545454546",
         "0.9",
         "0.011244979919678714",
         "0.6666666666666666",
         "0.941176470588232",
         "0.05882352941176472",
         "0.6130232558139534",
         "0.7183908045977011",
         "0.75",
         "0.0",
         "0.0",
         "0.0",
         "0.0",
         "0.29684233011980177"
        ],
        [
         "30",
         "0.0005606114402108009",
         "0.14285714285714285",
         "0.8181818181818182",
         "0.30000000000000004",
         "0.13622489959839357",
         "0.0",
         "0.705882352941174",
         "0.29411764705882354",
         "0.627906976744186",
         "0.7183908045977011",
         "0.25",
         "0.0",
         "0.0",
         "0.0",
         "1.0",
         "0.5545412007639237"
        ],
        [
         "31",
         "0.0005792984882178054",
         "0.0",
         "0.5",
         "0.0",
         "0.6005890227576974",
         "1.0",
         "0.5882352941176379",
         "0.411764705882353",
         "0.6130232558139534",
         "0.660919540229885",
         "0.75",
         "1.0",
         "0.0",
         "0.0",
         "0.0",
         "0.5317264827723004"
        ],
        [
         "32",
         "0.0005979855362248654",
         "0.8571428571428571",
         "1.0",
         "0.7000000000000001",
         "0.606479250334672",
         "0.6666666666666666",
         "0.705882352941174",
         "0.29411764705882354",
         "0.6130232558139534",
         "0.40804597701149425",
         "0.0",
         "1.0",
         "0.0",
         "0.0",
         "0.0",
         "0.3179687360928508"
        ],
        [
         "33",
         "0.0006166725842318699",
         "1.0",
         "0.0",
         "0.9",
         "0.30950468540829984",
         "0.3333333333333333",
         "0.6470588235294059",
         "0.35294117647058826",
         "0.3158139534883721",
         "0.367816091954023",
         "0.75",
         "1.0",
         "0.0",
         "0.0",
         "1.0",
         "0.20092743996561835"
        ],
        [
         "34",
         "0.0006353596322388744",
         "0.8571428571428571",
         "0.7272727272727273",
         "0.6000000000000001",
         "0.7235876840696117",
         "0.3333333333333333",
         "0.7647058823529278",
         "0.23529411764705882",
         "0.6130232558139534",
         "0.660919540229885",
         "0.5",
         "1.0",
         "0.0",
         "0.0",
         "0.0",
         "0.3311337044449474"
        ],
        [
         "35",
         "0.0006540466802459344",
         "0.8571428571428571",
         "0.7272727272727273",
         "0.1",
         "0.7301204819277108",
         "1.0",
         "0.5882352941176379",
         "0.411764705882353",
         "0.6130232558139534",
         "0.660919540229885",
         "0.0",
         "1.0",
         "0.0",
         "0.0",
         "0.0",
         "0.34164070665483315"
        ],
        [
         "36",
         "0.0006727337282529389",
         "0.14285714285714285",
         "0.8636363636363636",
         "0.1",
         "0.19700133868808567",
         "1.0",
         "0.8235294117646959",
         "0.1764705882352941",
         "0.6265116279069767",
         "0.7183908045977011",
         "0.0",
         "0.0",
         "0.0",
         "0.0",
         "1.0",
         "0.7248671906986444"
        ],
        [
         "37",
         "0.0006914207762599989",
         "0.7142857142857142",
         "0.3181818181818182",
         "1.0",
         "0.6350736278447121",
         "0.3333333333333333",
         "0.17647058823528994",
         "0.8235294117647058",
         "0.16279069767441862",
         "0.46551724137931033",
         "0.0",
         "1.0",
         "0.0",
         "0.0",
         "1.0",
         "0.03388067634201605"
        ],
        [
         "38",
         "0.0007101078242670034",
         "0.0",
         "0.18181818181818182",
         "1.0",
         "0.07791164658634538",
         "1.0",
         "0.8235294117646959",
         "0.1764705882352941",
         "0.6130232558139534",
         "0.46551724137931033",
         "1.0",
         "0.0",
         "0.0",
         "0.0",
         "0.0",
         "0.750273756271727"
        ],
        [
         "39",
         "0.0007287948722740079",
         "0.8571428571428571",
         "0.36363636363636365",
         "0.6000000000000001",
         "0.6654886211512717",
         "0.6666666666666666",
         "0.5882352941176379",
         "0.411764705882353",
         "0.5348837209302326",
         "0.6206896551724137",
         "0.25",
         "0.0",
         "0.0",
         "0.0",
         "1.0",
         "0.21646606464869428"
        ],
        [
         "40",
         "0.0007474819202810679",
         "0.7142857142857142",
         "0.3181818181818182",
         "0.1",
         "0.13135207496653278",
         "0.0",
         "0.470588235294116",
         "0.5294117647058822",
         "0.2744186046511628",
         "0.28160919540229884",
         "0.75",
         "1.0",
         "0.0",
         "0.0",
         "1.0",
         "0.08900829787937432"
        ],
        [
         "41",
         "0.0007661689682880723",
         "0.7142857142857142",
         "0.3181818181818182",
         "0.0",
         "5.35475234270415e-05",
         "0.0",
         "0.941176470588232",
         "0.05882352941176472",
         "0.25488372093023254",
         "0.28160919540229884",
         "1.0",
         "0.0",
         "0.0",
         "0.0",
         "1.0",
         "0.31296457825258817"
        ],
        [
         "42",
         "0.0007848560162951324",
         "0.14285714285714285",
         "0.8636363636363636",
         "0.4",
         "0.5800803212851405",
         "0.0",
         "0.705882352941174",
         "0.29411764705882354",
         "0.6255813953488372",
         "0.7183908045977011",
         "0.5",
         "1.0",
         "0.0",
         "0.0",
         "0.0",
         "0.6105047134904751"
        ],
        [
         "43",
         "0.0008035430643021368",
         "1.0",
         "0.045454545454545456",
         "0.2",
         "0.6273627844712182",
         "1.0",
         "0.4117647058823479",
         "0.588235294117647",
         "0.7353488372093022",
         "0.5747126436781609",
         "0.75",
         "1.0",
         "0.0",
         "0.0",
         "0.0",
         "0.15131410639493634"
        ],
        [
         "44",
         "0.0008222301123091413",
         "0.8571428571428571",
         "0.36363636363636365",
         "0.4",
         "0.9092904953145917",
         "0.0",
         "0.17647058823528994",
         "0.8235294117647058",
         "0.5813953488372092",
         "0.367816091954023",
         "0.0",
         "1.0",
         "0.0",
         "0.0",
         "0.0",
         "0.07999760955972668"
        ],
        [
         "45",
         "0.0008409171603162013",
         "0.42857142857142855",
         "0.2272727272727273",
         "0.2",
         "0.0013386880856760374",
         "0.0",
         "0.941176470588232",
         "0.05882352941176472",
         "0.333953488372093",
         "0.367816091954023",
         "1.0",
         "1.0",
         "0.0",
         "0.0",
         "1.0",
         "0.32052116684001597"
        ],
        [
         "46",
         "0.0008596042083232058",
         "0.14285714285714285",
         "0.9090909090909092",
         "0.0",
         "0.8003748326639892",
         "0.3333333333333333",
         "0.4117647058823479",
         "0.588235294117647",
         "0.6130232558139534",
         "0.38505747126436785",
         "0.0",
         "0.0",
         "0.0",
         "0.0",
         "1.0",
         "0.2925873464332851"
        ],
        [
         "47",
         "0.0008782912563302658",
         "0.8571428571428571",
         "0.36363636363636365",
         "0.8",
         "0.636144578313253",
         "0.0",
         "0.5882352941176379",
         "0.411764705882353",
         "0.6130232558139534",
         "0.5344827586206896",
         "0.5",
         "1.0",
         "0.0",
         "0.0",
         "0.0",
         "0.2656315721213632"
        ],
        [
         "48",
         "0.0008969783043372703",
         "0.8571428571428571",
         "0.36363636363636365",
         "0.0",
         "0.9292637215528782",
         "0.0",
         "0.5294117647058698",
         "0.4705882352941177",
         "0.5795348837209302",
         "0.38505747126436785",
         "0.0",
         "1.0",
         "0.0",
         "0.0",
         "0.0",
         "0.17590207332548385"
        ],
        [
         "49",
         "0.0009156653523442748",
         "1.0",
         "0.09090909090909091",
         "0.4",
         "0.000535475234270415",
         "0.3333333333333333",
         "0.941176470588232",
         "0.05882352941176472",
         "0.16186046511627905",
         "0.23563218390804597",
         "1.0",
         "1.0",
         "0.0",
         "0.0",
         "1.0",
         "0.21472968952249682"
        ]
       ],
       "shape": {
        "columns": 16,
        "rows": 51330
       }
      },
      "text/html": [
       "<div>\n",
       "<style scoped>\n",
       "    .dataframe tbody tr th:only-of-type {\n",
       "        vertical-align: middle;\n",
       "    }\n",
       "\n",
       "    .dataframe tbody tr th {\n",
       "        vertical-align: top;\n",
       "    }\n",
       "\n",
       "    .dataframe thead th {\n",
       "        text-align: right;\n",
       "    }\n",
       "</style>\n",
       "<table border=\"1\" class=\"dataframe\">\n",
       "  <thead>\n",
       "    <tr style=\"text-align: right;\">\n",
       "      <th></th>\n",
       "      <th>Id</th>\n",
       "      <th>Maker</th>\n",
       "      <th>model</th>\n",
       "      <th>Location</th>\n",
       "      <th>Distance</th>\n",
       "      <th>Owner Type</th>\n",
       "      <th>manufacture_year</th>\n",
       "      <th>Age of car</th>\n",
       "      <th>engine_displacement</th>\n",
       "      <th>engine_power</th>\n",
       "      <th>Vroom Audit Rating</th>\n",
       "      <th>transmission</th>\n",
       "      <th>door_count</th>\n",
       "      <th>seat_count</th>\n",
       "      <th>fuel_type</th>\n",
       "      <th>Price</th>\n",
       "    </tr>\n",
       "  </thead>\n",
       "  <tbody>\n",
       "    <tr>\n",
       "      <th>0</th>\n",
       "      <td>0.000000</td>\n",
       "      <td>0.285714</td>\n",
       "      <td>0.409091</td>\n",
       "      <td>0.0</td>\n",
       "      <td>0.235609</td>\n",
       "      <td>1.000000</td>\n",
       "      <td>0.764706</td>\n",
       "      <td>0.235294</td>\n",
       "      <td>0.275349</td>\n",
       "      <td>0.235632</td>\n",
       "      <td>0.50</td>\n",
       "      <td>1.0</td>\n",
       "      <td>0.0</td>\n",
       "      <td>0.0</td>\n",
       "      <td>1.0</td>\n",
       "      <td>0.136243</td>\n",
       "    </tr>\n",
       "    <tr>\n",
       "      <th>1</th>\n",
       "      <td>0.000019</td>\n",
       "      <td>0.142857</td>\n",
       "      <td>0.818182</td>\n",
       "      <td>0.5</td>\n",
       "      <td>0.338046</td>\n",
       "      <td>1.000000</td>\n",
       "      <td>0.882353</td>\n",
       "      <td>0.117647</td>\n",
       "      <td>0.625581</td>\n",
       "      <td>0.545977</td>\n",
       "      <td>0.75</td>\n",
       "      <td>0.0</td>\n",
       "      <td>0.0</td>\n",
       "      <td>0.0</td>\n",
       "      <td>0.0</td>\n",
       "      <td>0.811343</td>\n",
       "    </tr>\n",
       "    <tr>\n",
       "      <th>2</th>\n",
       "      <td>0.000037</td>\n",
       "      <td>0.714286</td>\n",
       "      <td>0.272727</td>\n",
       "      <td>0.9</td>\n",
       "      <td>0.327871</td>\n",
       "      <td>1.000000</td>\n",
       "      <td>0.705882</td>\n",
       "      <td>0.294118</td>\n",
       "      <td>0.450233</td>\n",
       "      <td>0.747126</td>\n",
       "      <td>0.75</td>\n",
       "      <td>1.0</td>\n",
       "      <td>0.0</td>\n",
       "      <td>0.0</td>\n",
       "      <td>1.0</td>\n",
       "      <td>0.325033</td>\n",
       "    </tr>\n",
       "    <tr>\n",
       "      <th>3</th>\n",
       "      <td>0.000056</td>\n",
       "      <td>0.142857</td>\n",
       "      <td>0.909091</td>\n",
       "      <td>0.6</td>\n",
       "      <td>0.406104</td>\n",
       "      <td>0.333333</td>\n",
       "      <td>0.764706</td>\n",
       "      <td>0.235294</td>\n",
       "      <td>0.613023</td>\n",
       "      <td>0.977011</td>\n",
       "      <td>0.75</td>\n",
       "      <td>0.0</td>\n",
       "      <td>0.0</td>\n",
       "      <td>0.0</td>\n",
       "      <td>0.0</td>\n",
       "      <td>0.296842</td>\n",
       "    </tr>\n",
       "    <tr>\n",
       "      <th>4</th>\n",
       "      <td>0.000075</td>\n",
       "      <td>0.857143</td>\n",
       "      <td>0.363636</td>\n",
       "      <td>0.2</td>\n",
       "      <td>0.092048</td>\n",
       "      <td>0.000000</td>\n",
       "      <td>0.941176</td>\n",
       "      <td>0.058824</td>\n",
       "      <td>0.613023</td>\n",
       "      <td>0.574713</td>\n",
       "      <td>0.00</td>\n",
       "      <td>1.0</td>\n",
       "      <td>0.0</td>\n",
       "      <td>0.0</td>\n",
       "      <td>0.0</td>\n",
       "      <td>0.523430</td>\n",
       "    </tr>\n",
       "    <tr>\n",
       "      <th>...</th>\n",
       "      <td>...</td>\n",
       "      <td>...</td>\n",
       "      <td>...</td>\n",
       "      <td>...</td>\n",
       "      <td>...</td>\n",
       "      <td>...</td>\n",
       "      <td>...</td>\n",
       "      <td>...</td>\n",
       "      <td>...</td>\n",
       "      <td>...</td>\n",
       "      <td>...</td>\n",
       "      <td>...</td>\n",
       "      <td>...</td>\n",
       "      <td>...</td>\n",
       "      <td>...</td>\n",
       "      <td>...</td>\n",
       "    </tr>\n",
       "    <tr>\n",
       "      <th>51325</th>\n",
       "      <td>0.999925</td>\n",
       "      <td>0.857143</td>\n",
       "      <td>0.363636</td>\n",
       "      <td>0.4</td>\n",
       "      <td>0.246533</td>\n",
       "      <td>0.333333</td>\n",
       "      <td>0.882353</td>\n",
       "      <td>0.117647</td>\n",
       "      <td>0.440930</td>\n",
       "      <td>0.385057</td>\n",
       "      <td>0.00</td>\n",
       "      <td>1.0</td>\n",
       "      <td>0.0</td>\n",
       "      <td>0.0</td>\n",
       "      <td>0.0</td>\n",
       "      <td>0.455368</td>\n",
       "    </tr>\n",
       "    <tr>\n",
       "      <th>51326</th>\n",
       "      <td>0.999944</td>\n",
       "      <td>0.857143</td>\n",
       "      <td>0.363636</td>\n",
       "      <td>0.1</td>\n",
       "      <td>0.930228</td>\n",
       "      <td>0.333333</td>\n",
       "      <td>0.588235</td>\n",
       "      <td>0.411765</td>\n",
       "      <td>0.581395</td>\n",
       "      <td>0.385057</td>\n",
       "      <td>1.00</td>\n",
       "      <td>1.0</td>\n",
       "      <td>0.0</td>\n",
       "      <td>0.0</td>\n",
       "      <td>0.0</td>\n",
       "      <td>0.173173</td>\n",
       "    </tr>\n",
       "    <tr>\n",
       "      <th>51327</th>\n",
       "      <td>0.999963</td>\n",
       "      <td>0.142857</td>\n",
       "      <td>0.818182</td>\n",
       "      <td>1.0</td>\n",
       "      <td>0.213387</td>\n",
       "      <td>1.000000</td>\n",
       "      <td>0.941176</td>\n",
       "      <td>0.058824</td>\n",
       "      <td>0.625581</td>\n",
       "      <td>0.545977</td>\n",
       "      <td>0.00</td>\n",
       "      <td>0.0</td>\n",
       "      <td>0.0</td>\n",
       "      <td>0.0</td>\n",
       "      <td>0.0</td>\n",
       "      <td>0.680892</td>\n",
       "    </tr>\n",
       "    <tr>\n",
       "      <th>51328</th>\n",
       "      <td>0.999981</td>\n",
       "      <td>1.000000</td>\n",
       "      <td>0.045455</td>\n",
       "      <td>0.6</td>\n",
       "      <td>0.996359</td>\n",
       "      <td>1.000000</td>\n",
       "      <td>0.705882</td>\n",
       "      <td>0.294118</td>\n",
       "      <td>0.613023</td>\n",
       "      <td>0.477011</td>\n",
       "      <td>0.25</td>\n",
       "      <td>1.0</td>\n",
       "      <td>0.0</td>\n",
       "      <td>0.0</td>\n",
       "      <td>0.0</td>\n",
       "      <td>0.296465</td>\n",
       "    </tr>\n",
       "    <tr>\n",
       "      <th>51329</th>\n",
       "      <td>1.000000</td>\n",
       "      <td>0.142857</td>\n",
       "      <td>0.909091</td>\n",
       "      <td>0.7</td>\n",
       "      <td>0.740669</td>\n",
       "      <td>0.000000</td>\n",
       "      <td>0.529412</td>\n",
       "      <td>0.470588</td>\n",
       "      <td>0.613023</td>\n",
       "      <td>0.936782</td>\n",
       "      <td>0.00</td>\n",
       "      <td>0.0</td>\n",
       "      <td>0.0</td>\n",
       "      <td>0.0</td>\n",
       "      <td>0.0</td>\n",
       "      <td>0.534579</td>\n",
       "    </tr>\n",
       "  </tbody>\n",
       "</table>\n",
       "<p>51330 rows × 16 columns</p>\n",
       "</div>"
      ],
      "text/plain": [
       "             Id     Maker     model  Location  Distance   Owner Type  \\\n",
       "0      0.000000  0.285714  0.409091       0.0   0.235609    1.000000   \n",
       "1      0.000019  0.142857  0.818182       0.5   0.338046    1.000000   \n",
       "2      0.000037  0.714286  0.272727       0.9   0.327871    1.000000   \n",
       "3      0.000056  0.142857  0.909091       0.6   0.406104    0.333333   \n",
       "4      0.000075  0.857143  0.363636       0.2   0.092048    0.000000   \n",
       "...         ...       ...       ...       ...        ...         ...   \n",
       "51325  0.999925  0.857143  0.363636       0.4   0.246533    0.333333   \n",
       "51326  0.999944  0.857143  0.363636       0.1   0.930228    0.333333   \n",
       "51327  0.999963  0.142857  0.818182       1.0   0.213387    1.000000   \n",
       "51328  0.999981  1.000000  0.045455       0.6   0.996359    1.000000   \n",
       "51329  1.000000  0.142857  0.909091       0.7   0.740669    0.000000   \n",
       "\n",
       "       manufacture_year  Age of car  engine_displacement  engine_power  \\\n",
       "0              0.764706    0.235294             0.275349      0.235632   \n",
       "1              0.882353    0.117647             0.625581      0.545977   \n",
       "2              0.705882    0.294118             0.450233      0.747126   \n",
       "3              0.764706    0.235294             0.613023      0.977011   \n",
       "4              0.941176    0.058824             0.613023      0.574713   \n",
       "...                 ...         ...                  ...           ...   \n",
       "51325          0.882353    0.117647             0.440930      0.385057   \n",
       "51326          0.588235    0.411765             0.581395      0.385057   \n",
       "51327          0.941176    0.058824             0.625581      0.545977   \n",
       "51328          0.705882    0.294118             0.613023      0.477011   \n",
       "51329          0.529412    0.470588             0.613023      0.936782   \n",
       "\n",
       "       Vroom Audit Rating  transmission  door_count  seat_count  fuel_type  \\\n",
       "0                    0.50           1.0         0.0         0.0        1.0   \n",
       "1                    0.75           0.0         0.0         0.0        0.0   \n",
       "2                    0.75           1.0         0.0         0.0        1.0   \n",
       "3                    0.75           0.0         0.0         0.0        0.0   \n",
       "4                    0.00           1.0         0.0         0.0        0.0   \n",
       "...                   ...           ...         ...         ...        ...   \n",
       "51325                0.00           1.0         0.0         0.0        0.0   \n",
       "51326                1.00           1.0         0.0         0.0        0.0   \n",
       "51327                0.00           0.0         0.0         0.0        0.0   \n",
       "51328                0.25           1.0         0.0         0.0        0.0   \n",
       "51329                0.00           0.0         0.0         0.0        0.0   \n",
       "\n",
       "          Price  \n",
       "0      0.136243  \n",
       "1      0.811343  \n",
       "2      0.325033  \n",
       "3      0.296842  \n",
       "4      0.523430  \n",
       "...         ...  \n",
       "51325  0.455368  \n",
       "51326  0.173173  \n",
       "51327  0.680892  \n",
       "51328  0.296465  \n",
       "51329  0.534579  \n",
       "\n",
       "[51330 rows x 16 columns]"
      ]
     },
     "execution_count": 227,
     "metadata": {},
     "output_type": "execute_result"
    }
   ],
   "source": [
    "df5_mms"
   ]
  },
  {
   "cell_type": "code",
   "execution_count": 228,
   "id": "d8913e5e",
   "metadata": {},
   "outputs": [],
   "source": [
    "df5_ss=pd.DataFrame(ss.fit_transform(df5),columns=df5.columns)"
   ]
  },
  {
   "cell_type": "code",
   "execution_count": 229,
   "id": "9ab0af6b",
   "metadata": {},
   "outputs": [
    {
     "data": {
      "application/vnd.microsoft.datawrangler.viewer.v0+json": {
       "columns": [
        {
         "name": "index",
         "rawType": "int64",
         "type": "integer"
        },
        {
         "name": "Id",
         "rawType": "float64",
         "type": "float"
        },
        {
         "name": "Maker",
         "rawType": "float64",
         "type": "float"
        },
        {
         "name": "model",
         "rawType": "float64",
         "type": "float"
        },
        {
         "name": "Location",
         "rawType": "float64",
         "type": "float"
        },
        {
         "name": "Distance ",
         "rawType": "float64",
         "type": "float"
        },
        {
         "name": "Owner Type",
         "rawType": "float64",
         "type": "float"
        },
        {
         "name": "manufacture_year",
         "rawType": "float64",
         "type": "float"
        },
        {
         "name": "Age of car",
         "rawType": "float64",
         "type": "float"
        },
        {
         "name": "engine_displacement",
         "rawType": "float64",
         "type": "float"
        },
        {
         "name": "engine_power",
         "rawType": "float64",
         "type": "float"
        },
        {
         "name": "Vroom Audit Rating",
         "rawType": "float64",
         "type": "float"
        },
        {
         "name": "transmission",
         "rawType": "float64",
         "type": "float"
        },
        {
         "name": "door_count",
         "rawType": "float64",
         "type": "float"
        },
        {
         "name": "seat_count",
         "rawType": "float64",
         "type": "float"
        },
        {
         "name": "fuel_type",
         "rawType": "float64",
         "type": "float"
        },
        {
         "name": "Price",
         "rawType": "float64",
         "type": "float"
        }
       ],
       "conversionMethod": "pd.DataFrame",
       "ref": "5fac463f-08ce-4c3e-92b2-66cdd891670c",
       "rows": [
        [
         "0",
         "-1.7331621072769408",
         "-0.9123537125203441",
         "-0.3503699635398245",
         "-1.585185241348603",
         "-0.6259326255049686",
         "1.340613343882011",
         "0.30095028918947914",
         "-0.3009502891894883",
         "-1.2210163736334594",
         "-1.2519653405598767",
         "0.0005765556941102329",
         "0.6543196590637266",
         "0.0",
         "0.0",
         "1.040646167868243",
         "-0.9384128373207465"
        ],
        [
         "1",
         "-1.7330973511416536",
         "-1.305562075775334",
         "1.1039406832565193",
         "-0.002460577210174341",
         "-0.30790034035477043",
         "1.340613343882011",
         "0.7925654803453843",
         "-0.7925654803453935",
         "0.8987190034099343",
         "0.32592854277471217",
         "0.7052099789962021",
         "-1.5283049899966503",
         "0.0",
         "0.0",
         "-0.960941413975985",
         "2.187501846648828"
        ],
        [
         "2",
         "-1.7330325950063667",
         "0.26727137724462463",
         "-0.8351401791386057",
         "1.2637191541005686",
         "-0.33948744656414714",
         "1.340613343882011",
         "0.055142693611526544",
         "-0.05514269361153571",
         "-0.16255621192254838",
         "1.348637541232316",
         "0.7052099789962021",
         "0.6543196590637266",
         "0.0",
         "0.0",
         "1.040646167868243",
         "-0.06426027449220009"
        ],
        [
         "3",
         "-1.7329678388710796",
         "-1.305562075775334",
         "1.42712082698904",
         "0.3140843556175114",
         "-0.09659922460678194",
         "-0.4476840298566485",
         "0.30095028918947914",
         "-0.3009502891894883",
         "0.8227125556275018",
         "2.5174478251838632",
         "0.7052099789962021",
         "-1.5283049899966503",
         "0.0",
         "0.0",
         "-0.960941413975985",
         "-0.1947915263559396"
        ],
        [
         "4",
         "-1.7329030827357927",
         "0.6604797404996142",
         "-0.5119600354060849",
         "-0.9520953756932315",
         "-1.0716433189120158",
         "-1.3418327167259783",
         "1.038373075923337",
         "-1.038373075923346",
         "0.8227125556275018",
         "0.4720298282686556",
         "-1.4086902909100736",
         "0.6543196590637266",
         "0.0",
         "0.0",
         "-0.960941413975985",
         "0.8543780643086712"
        ],
        [
         "5",
         "-1.7328383266005056",
         "0.6604797404996142",
         "0.7807605395239984",
         "-0.6355504428655459",
         "1.3018783408315178",
         "-0.4476840298566485",
         "-0.43647249754437867",
         "0.43647249754436945",
         "0.8227125556275018",
         "0.9103336847504858",
         "0.0005765556941102329",
         "-1.5283049899966503",
         "0.0",
         "0.0",
         "-0.960941413975985",
         "-0.1311749827228851"
        ],
        [
         "6",
         "-1.7327735704652187",
         "-0.9123537125203441",
         "-0.3503699635398245",
         "-0.9520953756932315",
         "-0.512551539006048",
         "0.4464646570126811",
         "-0.19066490196642605",
         "0.1906649019664169",
         "-1.5982335589240502",
         "-1.573388168646552",
         "-0.7040568676079816",
         "0.6543196590637266",
         "0.0",
         "0.0",
         "1.040646167868243",
         "-1.0550378685854083"
        ],
        [
         "7",
         "-1.7327088143299316",
         "0.26727137724462463",
         "0.2959903239252171",
         "-0.6355504428655459",
         "-0.9383124811229625",
         "-1.3418327167259783",
         "1.038373075923337",
         "-1.038373075923346",
         "-0.21322717711083666",
         "0.06294622888561402",
         "-0.7040568676079816",
         "0.6543196590637266",
         "0.0",
         "0.0",
         "-0.960941413975985",
         "0.5682490386410427"
        ],
        [
         "8",
         "-1.7326440581946447",
         "0.6604797404996142",
         "0.7807605395239984",
         "1.2637191541005686",
         "0.46664875348463025",
         "-0.4476840298566485",
         "-0.19066490196642605",
         "0.1906649019664169",
         "0.9127942715177921",
         "0.2674880285771348",
         "0.0005765556941102329",
         "0.6543196590637266",
         "0.0",
         "0.0",
         "-0.960941413975985",
         "-0.17910728771244125"
        ],
        [
         "9",
         "-1.7325793020593578",
         "0.6604797404996142",
         "0.7807605395239984",
         "0.6306292884451972",
         "1.4614763511525788",
         "-1.3418327167259783",
         "-0.19066490196642605",
         "0.1906649019664169",
         "0.34978354720347776",
         "0.7057918850589651",
         "-1.4086902909100736",
         "0.6543196590637266",
         "0.0",
         "0.0",
         "1.040646167868243",
         "-0.4362216493849916"
        ],
        [
         "10",
         "-1.7325145459240707",
         "-1.6987704390303233",
         "-1.1583203228711265",
         "-0.6355504428655459",
         "-0.6723157972545271",
         "-0.4476840298566485",
         "1.038373075923337",
         "-1.038373075923346",
         "0.867753413572647",
         "2.196024997097188",
         "-1.4086902909100736",
         "0.6543196590637266",
         "0.0",
         "0.0",
         "1.040646167868243",
         "2.034858408787622"
        ],
        [
         "11",
         "-1.7324497897887838",
         "0.26727137724462463",
         "-0.6735501072723453",
         "-0.9520953756932315",
         "0.8924096956015448",
         "-0.4476840298566485",
         "-2.8945484533239045",
         "2.8945484533238957",
         "-0.9226206897468728",
         "-0.9889830266707785",
         "0.7052099789962021",
         "0.6543196590637266",
         "0.0",
         "0.0",
         "1.040646167868243",
         "-1.4161356709763293"
        ],
        [
         "12",
         "-1.7323850336534967",
         "1.053688103754604",
         "-1.4815004666036473",
         "-1.585185241348603",
         "-1.3557610268689886",
         "-0.4476840298566485",
         "1.038373075923337",
         "-1.038373075923346",
         "-1.907889457296923",
         "-1.2519653405598767",
         "-1.4086902909100736",
         "0.6543196590637266",
         "0.0",
         "0.0",
         "1.040646167868243",
         "-0.35586229874954195"
        ],
        [
         "13",
         "-1.7323202775182098",
         "0.6604797404996142",
         "-0.5119600354060849",
         "0.6306292884451972",
         "1.106869521970471",
         "1.340613343882011",
         "-0.43647249754437867",
         "0.43647249754436945",
         "0.8227125556275018",
         "0.2674880285771348",
         "-1.4086902909100736",
         "-1.5283049899966503",
         "0.0",
         "0.0",
         "-0.960941413975985",
         "-0.7892088635044097"
        ],
        [
         "14",
         "-1.7322555213829227",
         "-1.305562075775334",
         "1.1039406832565193",
         "-1.2686403085209172",
         "-1.0719758147668514",
         "0.4464646570126811",
         "0.5467578847674317",
         "-0.5467578847674409",
         "0.8987190034099343",
         "1.2025362557383725",
         "-1.4086902909100736",
         "0.6543196590637266",
         "0.0",
         "0.0",
         "-0.960941413975985",
         "1.8997431673563796"
        ],
        [
         "15",
         "-1.7321907652476358",
         "0.6604797404996142",
         "1.7503009707215609",
         "-1.2686403085209172",
         "-1.3464511429335932",
         "-1.3418327167259783",
         "1.038373075923337",
         "-1.038373075923346",
         "-1.3476937866041803",
         "-0.3753576275962162",
         "-0.7040568676079816",
         "0.6543196590637266",
         "0.0",
         "0.0",
         "1.040646167868243",
         "0.27075953741542064"
        ],
        [
         "16",
         "-1.7321260091123487",
         "-1.6987704390303233",
         "-1.1583203228711265",
         "-1.585185241348603",
         "-1.3205164662564208",
         "1.340613343882011",
         "1.038373075923337",
         "-1.038373075923346",
         "0.8227125556275018",
         "2.5174478251838632",
         "0.7052099789962021",
         "-1.5283049899966503",
         "0.0",
         "0.0",
         "-0.960941413975985",
         "-0.1947915263559396"
        ],
        [
         "17",
         "-1.7320612529770618",
         "-1.305562075775334",
         "1.1039406832565193",
         "-1.585185241348603",
         "-0.002835393543158433",
         "-1.3418327167259783",
         "0.055142693611526544",
         "-0.05514269361153571",
         "0.8987190034099343",
         "1.0564349702444291",
         "-1.4086902909100736",
         "-1.5283049899966503",
         "0.0",
         "0.0",
         "-0.960941413975985",
         "0.7717661649851577"
        ],
        [
         "18",
         "-1.7319964968417747",
         "0.26727137724462463",
         "0.2959903239252171",
         "1.5802640869282543",
         "0.5785336086367909",
         "-1.3418327167259783",
         "-0.19066490196642605",
         "0.1906649019664169",
         "-0.6045196305092851",
         "-0.3753576275962162",
         "1.409843402298294",
         "0.6543196590637266",
         "0.0",
         "0.0",
         "-0.960941413975985",
         "-0.19256841505271702"
        ],
        [
         "19",
         "-1.7319317407064878",
         "0.6604797404996142",
         "-0.5119600354060849",
         "1.2637191541005686",
         "1.1944821797196368",
         "1.340613343882011",
         "0.5467578847674317",
         "-0.5467578847674409",
         "-0.2188572843539798",
         "-0.49223865599137095",
         "1.409843402298294",
         "0.6543196590637266",
         "0.0",
         "0.0",
         "-0.960941413975985",
         "-0.31420133422659785"
        ],
        [
         "20",
         "-1.731866984571201",
         "0.6604797404996142",
         "1.7503009707215609",
         "0.9471742212728829",
         "-0.1787257007511614",
         "-0.4476840298566485",
         "0.5467578847674317",
         "-0.5467578847674409",
         "0.8227125556275018",
         "-0.3753576275962162",
         "-1.4086902909100736",
         "0.6543196590637266",
         "0.0",
         "0.0",
         "-0.960941413975985",
         "0.2170221801351403"
        ],
        [
         "21",
         "-1.7318022284359138",
         "1.053688103754604",
         "-1.8046806103361681",
         "-0.9520953756932315",
         "-0.939476216614887",
         "-1.3418327167259783",
         "0.7925654803453843",
         "-0.7925654803453935",
         "0.907164164274649",
         "-0.08315505660832939",
         "0.7052099789962021",
         "0.6543196590637266",
         "0.0",
         "0.0",
         "-0.960941413975985",
         "0.19623114396935573"
        ],
        [
         "22",
         "-1.731737472300627",
         "0.26727137724462463",
         "0.2959903239252171",
         "-0.3190055100378601",
         "-0.43557874861161944",
         "0.4464646570126811",
         "0.5467578847674317",
         "-0.5467578847674409",
         "-0.6045196305092851",
         "-0.3753576275962162",
         "-0.7040568676079816",
         "0.6543196590637266",
         "0.0",
         "0.0",
         "-0.960941413975985",
         "0.5502251166503498"
        ],
        [
         "23",
         "-1.7316727161653398",
         "0.26727137724462463",
         "0.2959903239252171",
         "-0.9520953756932315",
         "0.5072132477745667",
         "-1.3418327167259783",
         "-0.19066490196642605",
         "0.1906649019664169",
         "0.9043491106530774",
         "0.29670828567592344",
         "-0.7040568676079816",
         "0.6543196590637266",
         "0.0",
         "0.0",
         "1.040646167868243",
         "-0.39171467849558084"
        ],
        [
         "24",
         "-1.731607960030053",
         "-1.6987704390303233",
         "-0.1887798916735641",
         "-0.3190055100378601",
         "-0.22860007897649307",
         "1.340613343882011",
         "0.30095028918947914",
         "-0.3009502891894883",
         "0.8227125556275018",
         "0.2674880285771348",
         "1.409843402298294",
         "0.6543196590637266",
         "0.0",
         "0.0",
         "-0.960941413975985",
         "1.5520205351419976"
        ],
        [
         "25",
         "-1.7315432038947658",
         "0.6604797404996142",
         "-0.5119600354060849",
         "0.6306292884451972",
         "1.0342191776889045",
         "0.4464646570126811",
         "-0.9280876887002838",
         "0.9280876887002747",
         "0.8227125556275018",
         "0.2674880285771348",
         "-0.7040568676079816",
         "0.6543196590637266",
         "0.0",
         "0.0",
         "-0.960941413975985",
         "-0.9217135976479167"
        ],
        [
         "26",
         "-1.731478447759479",
         "0.26727137724462463",
         "-0.6735501072723453",
         "0.3140843556175114",
         "0.9539214287461205",
         "1.340613343882011",
         "-1.6655104754341417",
         "1.6655104754341326",
         "-1.2266464808766027",
         "-1.3396261118562427",
         "-1.4086902909100736",
         "0.6543196590637266",
         "0.0",
         "0.0",
         "1.040646167868243",
         "-1.3557313347771685"
        ],
        [
         "27",
         "-1.7314136916241918",
         "0.26727137724462463",
         "-0.8351401791386057",
         "0.9471742212728829",
         "-0.2733207714518738",
         "-0.4476840298566485",
         "0.055142693611526544",
         "-0.05514269361153571",
         "-0.2188572843539798",
         "-0.2292563421022728",
         "1.409843402298294",
         "0.6543196590637266",
         "0.0",
         "0.0",
         "1.040646167868243",
         "-0.4817695262023942"
        ],
        [
         "28",
         "-1.731348935488905",
         "0.6604797404996142",
         "-0.5119600354060849",
         "-0.9520953756932315",
         "1.0342191776889045",
         "-1.3418327167259783",
         "0.055142693611526544",
         "-0.05514269361153571",
         "0.3441534399603346",
         "0.7057918850589651",
         "0.0005765556941102329",
         "0.6543196590637266",
         "0.0",
         "0.0",
         "1.040646167868243",
         "-0.2797172041279873"
        ],
        [
         "29",
         "-1.7312841793536178",
         "-1.6987704390303233",
         "-0.1887798916735641",
         "1.2637191541005686",
         "-1.322511441385434",
         "0.4464646570126811",
         "1.038373075923337",
         "-1.038373075923346",
         "0.8227125556275018",
         "1.2025362557383725",
         "0.7052099789962021",
         "-1.5283049899966503",
         "0.0",
         "0.0",
         "-0.960941413975985",
         "-0.1947915263559396"
        ],
        [
         "30",
         "-1.7312194232183309",
         "-1.305562075775334",
         "1.1039406832565193",
         "-0.6355504428655459",
         "-0.9344887787923538",
         "-1.3418327167259783",
         "0.055142693611526544",
         "-0.05514269361153571",
         "0.9127942715177921",
         "1.2025362557383725",
         "-0.7040568676079816",
         "-1.5283049899966503",
         "0.0",
         "0.0",
         "1.040646167868243",
         "0.9984316732731566"
        ],
        [
         "31",
         "-1.731154667083044",
         "-1.6987704390303233",
         "-0.027189819807303683",
         "-1.585185241348603",
         "0.5072132477745667",
         "1.340613343882011",
         "-0.43647249754437867",
         "0.43647249754436945",
         "0.8227125556275018",
         "0.9103336847504858",
         "0.7052099789962021",
         "0.6543196590637266",
         "0.0",
         "0.0",
         "-0.960941413975985",
         "0.8927926740313057"
        ],
        [
         "32",
         "-1.7310899109477569",
         "0.6604797404996142",
         "1.7503009707215609",
         "0.6306292884451972",
         "0.5255005197905216",
         "0.4464646570126811",
         "0.055142693611526544",
         "-0.05514269361153571",
         "0.8227125556275018",
         "-0.3753576275962162",
         "-1.4086902909100736",
         "0.6543196590637266",
         "0.0",
         "0.0",
         "-0.960941413975985",
         "-0.09696991903257103"
        ],
        [
         "33",
         "-1.73102515481247",
         "1.053688103754604",
         "-1.8046806103361681",
         "1.2637191541005686",
         "-0.396510485668443",
         "-0.4476840298566485",
         "-0.19066490196642605",
         "0.1906649019664169",
         "-0.9761067085567326",
         "-0.579899427287737",
         "0.7052099789962021",
         "0.6543196590637266",
         "0.0",
         "0.0",
         "1.040646167868243",
         "-0.6389062864857917"
        ],
        [
         "34",
         "-1.7309603986771829",
         "0.6604797404996142",
         "0.7807605395239984",
         "0.3140843556175114",
         "0.8890847370531894",
         "-0.4476840298566485",
         "0.30095028918947914",
         "-0.3009502891894883",
         "0.8227125556275018",
         "0.9103336847504858",
         "0.0005765556941102329",
         "0.6543196590637266",
         "0.0",
         "0.0",
         "-0.960941413975985",
         "-0.03601215999839187"
        ],
        [
         "35",
         "-1.730895642541896",
         "0.6604797404996142",
         "0.7807605395239984",
         "-1.2686403085209172",
         "0.9093669841981575",
         "1.340613343882011",
         "-0.43647249754437867",
         "0.43647249754436945",
         "0.8227125556275018",
         "0.9103336847504858",
         "-1.4086902909100736",
         "0.6543196590637266",
         "0.0",
         "0.0",
         "-0.960941413975985",
         "0.012638417181294426"
        ],
        [
         "36",
         "-1.7308308864066089",
         "-1.305562075775334",
         "1.2655307551227797",
         "-1.2686403085209172",
         "-0.7457973811731824",
         "1.340613343882011",
         "0.5467578847674317",
         "-0.5467578847674409",
         "0.9043491106530774",
         "1.2025362557383725",
         "-1.4086902909100736",
         "-1.5283049899966503",
         "0.0",
         "0.0",
         "1.040646167868243",
         "1.7870921830453068"
        ],
        [
         "37",
         "-1.730766130271322",
         "0.26727137724462463",
         "-0.6735501072723453",
         "1.5802640869282543",
         "0.6142769130316119",
         "-0.4476840298566485",
         "-2.157125666590047",
         "2.1571256665900376",
         "-1.9022593500537799",
         "-0.08315505660832939",
         "-1.4086902909100736",
         "0.6543196590637266",
         "0.0",
         "0.0",
         "1.040646167868243",
         "-1.4123829931567475"
        ],
        [
         "38",
         "-1.7307013741360349",
         "-1.6987704390303233",
         "-1.1583203228711265",
         "1.5802640869282543",
         "-1.1155327717503076",
         "1.340613343882011",
         "0.5467578847674317",
         "-0.5467578847674409",
         "0.8227125556275018",
         "-0.08315505660832939",
         "1.409843402298294",
         "-1.5283049899966503",
         "0.0",
         "0.0",
         "-0.960941413975985",
         "1.9047322153393003"
        ],
        [
         "39",
         "-1.730636618000748",
         "0.6604797404996142",
         "-0.5119600354060849",
         "0.3140843556175114",
         "0.7087057358049066",
         "0.4464646570126811",
         "-0.43647249754437867",
         "0.43647249754436945",
         "0.34978354720347776",
         "0.7057918850589651",
         "-0.7040568676079816",
         "-1.5283049899966503",
         "0.0",
         "0.0",
         "1.040646167868243",
         "-0.5669577854472272"
        ],
        [
         "40",
         "-1.7305718618654609",
         "0.26727137724462463",
         "-0.6735501072723453",
         "-1.2686403085209172",
         "-0.9496173401873711",
         "-1.3418327167259783",
         "-0.9280876887002838",
         "0.9280876887002747",
         "-1.2266464808766027",
         "-1.0182032837695671",
         "0.7052099789962021",
         "0.6543196590637266",
         "0.0",
         "0.0",
         "1.040646167868243",
         "-1.1571255417199926"
        ],
        [
         "41",
         "-1.730507105730174",
         "0.26727137724462463",
         "-0.6735501072723453",
         "-1.585185241348603",
         "-1.3572572582157485",
         "-1.3418327167259783",
         "1.038373075923337",
         "-1.038373075923346",
         "-1.3448787329826086",
         "-1.0182032837695671",
         "1.409843402298294",
         "-1.5283049899966503",
         "0.0",
         "0.0",
         "1.040646167868243",
         "-0.12014067338893444"
        ],
        [
         "42",
         "-1.730442349594887",
         "-1.305562075775334",
         "1.2655307551227797",
         "-0.3190055100378601",
         "0.4435402915735599",
         "-1.3418327167259783",
         "0.055142693611526544",
         "-0.05514269361153571",
         "0.8987190034099343",
         "1.2025362557383725",
         "0.0005765556941102329",
         "0.6543196590637266",
         "0.0",
         "0.0",
         "-0.960941413975985",
         "1.2575595520688587"
        ],
        [
         "43",
         "-1.7303775934596",
         "1.053688103754604",
         "-1.6430905384699077",
         "-0.9520953756932315",
         "0.5903372114834528",
         "1.340613343882011",
         "-1.1738952842782364",
         "1.1738952842782273",
         "1.5630716581008253",
         "0.4720298282686556",
         "0.7052099789962021",
         "0.6543196590637266",
         "0.0",
         "0.0",
         "-0.960941413975985",
         "-0.8686309278065091"
        ],
        [
         "44",
         "-1.730312837324313",
         "0.6604797404996142",
         "-0.5119600354060849",
         "-0.3190055100378601",
         "1.4656325493380231",
         "-1.3418327167259783",
         "-2.157125666590047",
         "2.1571256665900376",
         "0.631288909360635",
         "-0.579899427287737",
         "-1.4086902909100736",
         "0.6543196590637266",
         "0.0",
         "0.0",
         "-0.960941413975985",
         "-1.1988477360034069"
        ],
        [
         "45",
         "-1.730248081189026",
         "-0.5191453492653546",
         "-0.9967302510048661",
         "-0.9520953756932315",
         "-1.353267307957722",
         "-1.3418327167259783",
         "1.038373075923337",
         "-1.038373075923346",
         "-0.8663196173154414",
         "-0.579899427287737",
         "1.409843402298294",
         "0.6543196590637266",
         "0.0",
         "0.0",
         "1.040646167868243",
         "-0.08515139776644542"
        ],
        [
         "46",
         "-1.730183325053739",
         "-1.305562075775334",
         "1.42712082698904",
         "-1.585185241348603",
         "1.1274842649702748",
         "-0.4476840298566485",
         "-1.1738952842782364",
         "1.1738952842782273",
         "0.8227125556275018",
         "-0.49223865599137095",
         "-1.4086902909100736",
         "-1.5283049899966503",
         "0.0",
         "0.0",
         "1.040646167868243",
         "-0.21449337928259232"
        ],
        [
         "47",
         "-1.730118568918452",
         "0.6604797404996142",
         "-0.5119600354060849",
         "0.9471742212728829",
         "0.6176018715799674",
         "-1.3418327167259783",
         "-0.43647249754437867",
         "0.43647249754436945",
         "0.8227125556275018",
         "0.2674880285771348",
         "0.0005765556941102329",
         "0.6543196590637266",
         "0.0",
         "0.0",
         "-0.960941413975985",
         "-0.3393067135147381"
        ],
        [
         "48",
         "-1.730053812783165",
         "0.6604797404996142",
         "-0.5119600354060849",
         "-1.585185241348603",
         "1.5276430262648522",
         "-1.3418327167259783",
         "-0.6822800931223313",
         "0.6822800931223221",
         "0.6200286948743486",
         "-0.49223865599137095",
         "-1.4086902909100736",
         "0.6543196590637266",
         "0.0",
         "0.0",
         "-0.960941413975985",
         "-0.7547812531846946"
        ],
        [
         "49",
         "-1.729989056647878",
         "1.053688103754604",
         "-1.4815004666036473",
         "-0.3190055100378601",
         "-1.3557610268689886",
         "-0.4476840298566485",
         "1.038373075923337",
         "-1.038373075923346",
         "-1.907889457296923",
         "-1.2519653405598767",
         "1.409843402298294",
         "0.6543196590637266",
         "0.0",
         "0.0",
         "1.040646167868243",
         "-0.5749977239951106"
        ]
       ],
       "shape": {
        "columns": 16,
        "rows": 51330
       }
      },
      "text/html": [
       "<div>\n",
       "<style scoped>\n",
       "    .dataframe tbody tr th:only-of-type {\n",
       "        vertical-align: middle;\n",
       "    }\n",
       "\n",
       "    .dataframe tbody tr th {\n",
       "        vertical-align: top;\n",
       "    }\n",
       "\n",
       "    .dataframe thead th {\n",
       "        text-align: right;\n",
       "    }\n",
       "</style>\n",
       "<table border=\"1\" class=\"dataframe\">\n",
       "  <thead>\n",
       "    <tr style=\"text-align: right;\">\n",
       "      <th></th>\n",
       "      <th>Id</th>\n",
       "      <th>Maker</th>\n",
       "      <th>model</th>\n",
       "      <th>Location</th>\n",
       "      <th>Distance</th>\n",
       "      <th>Owner Type</th>\n",
       "      <th>manufacture_year</th>\n",
       "      <th>Age of car</th>\n",
       "      <th>engine_displacement</th>\n",
       "      <th>engine_power</th>\n",
       "      <th>Vroom Audit Rating</th>\n",
       "      <th>transmission</th>\n",
       "      <th>door_count</th>\n",
       "      <th>seat_count</th>\n",
       "      <th>fuel_type</th>\n",
       "      <th>Price</th>\n",
       "    </tr>\n",
       "  </thead>\n",
       "  <tbody>\n",
       "    <tr>\n",
       "      <th>0</th>\n",
       "      <td>-1.733162</td>\n",
       "      <td>-0.912354</td>\n",
       "      <td>-0.350370</td>\n",
       "      <td>-1.585185</td>\n",
       "      <td>-0.625933</td>\n",
       "      <td>1.340613</td>\n",
       "      <td>0.300950</td>\n",
       "      <td>-0.300950</td>\n",
       "      <td>-1.221016</td>\n",
       "      <td>-1.251965</td>\n",
       "      <td>0.000577</td>\n",
       "      <td>0.654320</td>\n",
       "      <td>0.0</td>\n",
       "      <td>0.0</td>\n",
       "      <td>1.040646</td>\n",
       "      <td>-0.938413</td>\n",
       "    </tr>\n",
       "    <tr>\n",
       "      <th>1</th>\n",
       "      <td>-1.733097</td>\n",
       "      <td>-1.305562</td>\n",
       "      <td>1.103941</td>\n",
       "      <td>-0.002461</td>\n",
       "      <td>-0.307900</td>\n",
       "      <td>1.340613</td>\n",
       "      <td>0.792565</td>\n",
       "      <td>-0.792565</td>\n",
       "      <td>0.898719</td>\n",
       "      <td>0.325929</td>\n",
       "      <td>0.705210</td>\n",
       "      <td>-1.528305</td>\n",
       "      <td>0.0</td>\n",
       "      <td>0.0</td>\n",
       "      <td>-0.960941</td>\n",
       "      <td>2.187502</td>\n",
       "    </tr>\n",
       "    <tr>\n",
       "      <th>2</th>\n",
       "      <td>-1.733033</td>\n",
       "      <td>0.267271</td>\n",
       "      <td>-0.835140</td>\n",
       "      <td>1.263719</td>\n",
       "      <td>-0.339487</td>\n",
       "      <td>1.340613</td>\n",
       "      <td>0.055143</td>\n",
       "      <td>-0.055143</td>\n",
       "      <td>-0.162556</td>\n",
       "      <td>1.348638</td>\n",
       "      <td>0.705210</td>\n",
       "      <td>0.654320</td>\n",
       "      <td>0.0</td>\n",
       "      <td>0.0</td>\n",
       "      <td>1.040646</td>\n",
       "      <td>-0.064260</td>\n",
       "    </tr>\n",
       "    <tr>\n",
       "      <th>3</th>\n",
       "      <td>-1.732968</td>\n",
       "      <td>-1.305562</td>\n",
       "      <td>1.427121</td>\n",
       "      <td>0.314084</td>\n",
       "      <td>-0.096599</td>\n",
       "      <td>-0.447684</td>\n",
       "      <td>0.300950</td>\n",
       "      <td>-0.300950</td>\n",
       "      <td>0.822713</td>\n",
       "      <td>2.517448</td>\n",
       "      <td>0.705210</td>\n",
       "      <td>-1.528305</td>\n",
       "      <td>0.0</td>\n",
       "      <td>0.0</td>\n",
       "      <td>-0.960941</td>\n",
       "      <td>-0.194792</td>\n",
       "    </tr>\n",
       "    <tr>\n",
       "      <th>4</th>\n",
       "      <td>-1.732903</td>\n",
       "      <td>0.660480</td>\n",
       "      <td>-0.511960</td>\n",
       "      <td>-0.952095</td>\n",
       "      <td>-1.071643</td>\n",
       "      <td>-1.341833</td>\n",
       "      <td>1.038373</td>\n",
       "      <td>-1.038373</td>\n",
       "      <td>0.822713</td>\n",
       "      <td>0.472030</td>\n",
       "      <td>-1.408690</td>\n",
       "      <td>0.654320</td>\n",
       "      <td>0.0</td>\n",
       "      <td>0.0</td>\n",
       "      <td>-0.960941</td>\n",
       "      <td>0.854378</td>\n",
       "    </tr>\n",
       "    <tr>\n",
       "      <th>...</th>\n",
       "      <td>...</td>\n",
       "      <td>...</td>\n",
       "      <td>...</td>\n",
       "      <td>...</td>\n",
       "      <td>...</td>\n",
       "      <td>...</td>\n",
       "      <td>...</td>\n",
       "      <td>...</td>\n",
       "      <td>...</td>\n",
       "      <td>...</td>\n",
       "      <td>...</td>\n",
       "      <td>...</td>\n",
       "      <td>...</td>\n",
       "      <td>...</td>\n",
       "      <td>...</td>\n",
       "      <td>...</td>\n",
       "    </tr>\n",
       "    <tr>\n",
       "      <th>51325</th>\n",
       "      <td>1.731874</td>\n",
       "      <td>0.660480</td>\n",
       "      <td>-0.511960</td>\n",
       "      <td>-0.319006</td>\n",
       "      <td>-0.592018</td>\n",
       "      <td>-0.447684</td>\n",
       "      <td>0.792565</td>\n",
       "      <td>-0.792565</td>\n",
       "      <td>-0.218857</td>\n",
       "      <td>-0.492239</td>\n",
       "      <td>-1.408690</td>\n",
       "      <td>0.654320</td>\n",
       "      <td>0.0</td>\n",
       "      <td>0.0</td>\n",
       "      <td>-0.960941</td>\n",
       "      <td>0.539230</td>\n",
       "    </tr>\n",
       "    <tr>\n",
       "      <th>51326</th>\n",
       "      <td>1.731939</td>\n",
       "      <td>0.660480</td>\n",
       "      <td>-0.511960</td>\n",
       "      <td>-1.268640</td>\n",
       "      <td>1.530635</td>\n",
       "      <td>-0.447684</td>\n",
       "      <td>-0.436472</td>\n",
       "      <td>0.436472</td>\n",
       "      <td>0.631289</td>\n",
       "      <td>-0.492239</td>\n",
       "      <td>1.409843</td>\n",
       "      <td>0.654320</td>\n",
       "      <td>0.0</td>\n",
       "      <td>0.0</td>\n",
       "      <td>-0.960941</td>\n",
       "      <td>-0.767419</td>\n",
       "    </tr>\n",
       "    <tr>\n",
       "      <th>51327</th>\n",
       "      <td>1.732003</td>\n",
       "      <td>-1.305562</td>\n",
       "      <td>1.103941</td>\n",
       "      <td>1.580264</td>\n",
       "      <td>-0.694926</td>\n",
       "      <td>1.340613</td>\n",
       "      <td>1.038373</td>\n",
       "      <td>-1.038373</td>\n",
       "      <td>0.898719</td>\n",
       "      <td>0.325929</td>\n",
       "      <td>-1.408690</td>\n",
       "      <td>-1.528305</td>\n",
       "      <td>0.0</td>\n",
       "      <td>0.0</td>\n",
       "      <td>-0.960941</td>\n",
       "      <td>1.583475</td>\n",
       "    </tr>\n",
       "    <tr>\n",
       "      <th>51328</th>\n",
       "      <td>1.732068</td>\n",
       "      <td>1.053688</td>\n",
       "      <td>-1.643091</td>\n",
       "      <td>0.314084</td>\n",
       "      <td>1.735952</td>\n",
       "      <td>1.340613</td>\n",
       "      <td>0.055143</td>\n",
       "      <td>-0.055143</td>\n",
       "      <td>0.822713</td>\n",
       "      <td>-0.024715</td>\n",
       "      <td>-0.704057</td>\n",
       "      <td>0.654320</td>\n",
       "      <td>0.0</td>\n",
       "      <td>0.0</td>\n",
       "      <td>-0.960941</td>\n",
       "      <td>-0.196539</td>\n",
       "    </tr>\n",
       "    <tr>\n",
       "      <th>51329</th>\n",
       "      <td>1.732133</td>\n",
       "      <td>-1.305562</td>\n",
       "      <td>1.427121</td>\n",
       "      <td>0.630629</td>\n",
       "      <td>0.942118</td>\n",
       "      <td>-1.341833</td>\n",
       "      <td>-0.682280</td>\n",
       "      <td>0.682280</td>\n",
       "      <td>0.822713</td>\n",
       "      <td>2.312906</td>\n",
       "      <td>-1.408690</td>\n",
       "      <td>-1.528305</td>\n",
       "      <td>0.0</td>\n",
       "      <td>0.0</td>\n",
       "      <td>-0.960941</td>\n",
       "      <td>0.906002</td>\n",
       "    </tr>\n",
       "  </tbody>\n",
       "</table>\n",
       "<p>51330 rows × 16 columns</p>\n",
       "</div>"
      ],
      "text/plain": [
       "             Id     Maker     model  Location  Distance   Owner Type  \\\n",
       "0     -1.733162 -0.912354 -0.350370 -1.585185  -0.625933    1.340613   \n",
       "1     -1.733097 -1.305562  1.103941 -0.002461  -0.307900    1.340613   \n",
       "2     -1.733033  0.267271 -0.835140  1.263719  -0.339487    1.340613   \n",
       "3     -1.732968 -1.305562  1.427121  0.314084  -0.096599   -0.447684   \n",
       "4     -1.732903  0.660480 -0.511960 -0.952095  -1.071643   -1.341833   \n",
       "...         ...       ...       ...       ...        ...         ...   \n",
       "51325  1.731874  0.660480 -0.511960 -0.319006  -0.592018   -0.447684   \n",
       "51326  1.731939  0.660480 -0.511960 -1.268640   1.530635   -0.447684   \n",
       "51327  1.732003 -1.305562  1.103941  1.580264  -0.694926    1.340613   \n",
       "51328  1.732068  1.053688 -1.643091  0.314084   1.735952    1.340613   \n",
       "51329  1.732133 -1.305562  1.427121  0.630629   0.942118   -1.341833   \n",
       "\n",
       "       manufacture_year  Age of car  engine_displacement  engine_power  \\\n",
       "0              0.300950   -0.300950            -1.221016     -1.251965   \n",
       "1              0.792565   -0.792565             0.898719      0.325929   \n",
       "2              0.055143   -0.055143            -0.162556      1.348638   \n",
       "3              0.300950   -0.300950             0.822713      2.517448   \n",
       "4              1.038373   -1.038373             0.822713      0.472030   \n",
       "...                 ...         ...                  ...           ...   \n",
       "51325          0.792565   -0.792565            -0.218857     -0.492239   \n",
       "51326         -0.436472    0.436472             0.631289     -0.492239   \n",
       "51327          1.038373   -1.038373             0.898719      0.325929   \n",
       "51328          0.055143   -0.055143             0.822713     -0.024715   \n",
       "51329         -0.682280    0.682280             0.822713      2.312906   \n",
       "\n",
       "       Vroom Audit Rating  transmission  door_count  seat_count  fuel_type  \\\n",
       "0                0.000577      0.654320         0.0         0.0   1.040646   \n",
       "1                0.705210     -1.528305         0.0         0.0  -0.960941   \n",
       "2                0.705210      0.654320         0.0         0.0   1.040646   \n",
       "3                0.705210     -1.528305         0.0         0.0  -0.960941   \n",
       "4               -1.408690      0.654320         0.0         0.0  -0.960941   \n",
       "...                   ...           ...         ...         ...        ...   \n",
       "51325           -1.408690      0.654320         0.0         0.0  -0.960941   \n",
       "51326            1.409843      0.654320         0.0         0.0  -0.960941   \n",
       "51327           -1.408690     -1.528305         0.0         0.0  -0.960941   \n",
       "51328           -0.704057      0.654320         0.0         0.0  -0.960941   \n",
       "51329           -1.408690     -1.528305         0.0         0.0  -0.960941   \n",
       "\n",
       "          Price  \n",
       "0     -0.938413  \n",
       "1      2.187502  \n",
       "2     -0.064260  \n",
       "3     -0.194792  \n",
       "4      0.854378  \n",
       "...         ...  \n",
       "51325  0.539230  \n",
       "51326 -0.767419  \n",
       "51327  1.583475  \n",
       "51328 -0.196539  \n",
       "51329  0.906002  \n",
       "\n",
       "[51330 rows x 16 columns]"
      ]
     },
     "execution_count": 229,
     "metadata": {},
     "output_type": "execute_result"
    }
   ],
   "source": [
    "df5_ss"
   ]
  },
  {
   "cell_type": "code",
   "execution_count": 230,
   "id": "20a9c8d0",
   "metadata": {},
   "outputs": [
    {
     "data": {
      "text/plain": [
       "Index(['Id', 'Maker', 'model', 'Location', 'Distance ', 'Owner Type',\n",
       "       'manufacture_year', 'Age of car', 'engine_displacement', 'engine_power',\n",
       "       'Vroom Audit Rating', 'transmission', 'door_count', 'seat_count',\n",
       "       'fuel_type', 'Price'],\n",
       "      dtype='object')"
      ]
     },
     "execution_count": 230,
     "metadata": {},
     "output_type": "execute_result"
    }
   ],
   "source": [
    "df5.columns"
   ]
  },
  {
   "cell_type": "code",
   "execution_count": 231,
   "id": "0ba56d43",
   "metadata": {},
   "outputs": [],
   "source": [
    "#REGRESSION\n",
    "y_train=df5_mms[['Price']]"
   ]
  },
  {
   "cell_type": "code",
   "execution_count": 232,
   "id": "cf4915e5",
   "metadata": {},
   "outputs": [],
   "source": [
    "x_train=df5_mms[['Id', 'Maker', 'model', 'Location', 'Distance ', 'Owner Type',\n",
    "       'manufacture_year', 'Age of car', 'engine_displacement', 'engine_power',\n",
    "       'Vroom Audit Rating', 'transmission', 'door_count', 'seat_count',\n",
    "       'fuel_type']]"
   ]
  },
  {
   "cell_type": "code",
   "execution_count": 233,
   "id": "20a12352",
   "metadata": {},
   "outputs": [],
   "source": [
    "from sklearn.linear_model import LinearRegression\n",
    "model=LinearRegression()"
   ]
  },
  {
   "cell_type": "code",
   "execution_count": 234,
   "id": "5833c10c",
   "metadata": {},
   "outputs": [
    {
     "data": {
      "text/html": [
       "<style>#sk-container-id-1 {\n",
       "  /* Definition of color scheme common for light and dark mode */\n",
       "  --sklearn-color-text: #000;\n",
       "  --sklearn-color-text-muted: #666;\n",
       "  --sklearn-color-line: gray;\n",
       "  /* Definition of color scheme for unfitted estimators */\n",
       "  --sklearn-color-unfitted-level-0: #fff5e6;\n",
       "  --sklearn-color-unfitted-level-1: #f6e4d2;\n",
       "  --sklearn-color-unfitted-level-2: #ffe0b3;\n",
       "  --sklearn-color-unfitted-level-3: chocolate;\n",
       "  /* Definition of color scheme for fitted estimators */\n",
       "  --sklearn-color-fitted-level-0: #f0f8ff;\n",
       "  --sklearn-color-fitted-level-1: #d4ebff;\n",
       "  --sklearn-color-fitted-level-2: #b3dbfd;\n",
       "  --sklearn-color-fitted-level-3: cornflowerblue;\n",
       "\n",
       "  /* Specific color for light theme */\n",
       "  --sklearn-color-text-on-default-background: var(--sg-text-color, var(--theme-code-foreground, var(--jp-content-font-color1, black)));\n",
       "  --sklearn-color-background: var(--sg-background-color, var(--theme-background, var(--jp-layout-color0, white)));\n",
       "  --sklearn-color-border-box: var(--sg-text-color, var(--theme-code-foreground, var(--jp-content-font-color1, black)));\n",
       "  --sklearn-color-icon: #696969;\n",
       "\n",
       "  @media (prefers-color-scheme: dark) {\n",
       "    /* Redefinition of color scheme for dark theme */\n",
       "    --sklearn-color-text-on-default-background: var(--sg-text-color, var(--theme-code-foreground, var(--jp-content-font-color1, white)));\n",
       "    --sklearn-color-background: var(--sg-background-color, var(--theme-background, var(--jp-layout-color0, #111)));\n",
       "    --sklearn-color-border-box: var(--sg-text-color, var(--theme-code-foreground, var(--jp-content-font-color1, white)));\n",
       "    --sklearn-color-icon: #878787;\n",
       "  }\n",
       "}\n",
       "\n",
       "#sk-container-id-1 {\n",
       "  color: var(--sklearn-color-text);\n",
       "}\n",
       "\n",
       "#sk-container-id-1 pre {\n",
       "  padding: 0;\n",
       "}\n",
       "\n",
       "#sk-container-id-1 input.sk-hidden--visually {\n",
       "  border: 0;\n",
       "  clip: rect(1px 1px 1px 1px);\n",
       "  clip: rect(1px, 1px, 1px, 1px);\n",
       "  height: 1px;\n",
       "  margin: -1px;\n",
       "  overflow: hidden;\n",
       "  padding: 0;\n",
       "  position: absolute;\n",
       "  width: 1px;\n",
       "}\n",
       "\n",
       "#sk-container-id-1 div.sk-dashed-wrapped {\n",
       "  border: 1px dashed var(--sklearn-color-line);\n",
       "  margin: 0 0.4em 0.5em 0.4em;\n",
       "  box-sizing: border-box;\n",
       "  padding-bottom: 0.4em;\n",
       "  background-color: var(--sklearn-color-background);\n",
       "}\n",
       "\n",
       "#sk-container-id-1 div.sk-container {\n",
       "  /* jupyter's `normalize.less` sets `[hidden] { display: none; }`\n",
       "     but bootstrap.min.css set `[hidden] { display: none !important; }`\n",
       "     so we also need the `!important` here to be able to override the\n",
       "     default hidden behavior on the sphinx rendered scikit-learn.org.\n",
       "     See: https://github.com/scikit-learn/scikit-learn/issues/21755 */\n",
       "  display: inline-block !important;\n",
       "  position: relative;\n",
       "}\n",
       "\n",
       "#sk-container-id-1 div.sk-text-repr-fallback {\n",
       "  display: none;\n",
       "}\n",
       "\n",
       "div.sk-parallel-item,\n",
       "div.sk-serial,\n",
       "div.sk-item {\n",
       "  /* draw centered vertical line to link estimators */\n",
       "  background-image: linear-gradient(var(--sklearn-color-text-on-default-background), var(--sklearn-color-text-on-default-background));\n",
       "  background-size: 2px 100%;\n",
       "  background-repeat: no-repeat;\n",
       "  background-position: center center;\n",
       "}\n",
       "\n",
       "/* Parallel-specific style estimator block */\n",
       "\n",
       "#sk-container-id-1 div.sk-parallel-item::after {\n",
       "  content: \"\";\n",
       "  width: 100%;\n",
       "  border-bottom: 2px solid var(--sklearn-color-text-on-default-background);\n",
       "  flex-grow: 1;\n",
       "}\n",
       "\n",
       "#sk-container-id-1 div.sk-parallel {\n",
       "  display: flex;\n",
       "  align-items: stretch;\n",
       "  justify-content: center;\n",
       "  background-color: var(--sklearn-color-background);\n",
       "  position: relative;\n",
       "}\n",
       "\n",
       "#sk-container-id-1 div.sk-parallel-item {\n",
       "  display: flex;\n",
       "  flex-direction: column;\n",
       "}\n",
       "\n",
       "#sk-container-id-1 div.sk-parallel-item:first-child::after {\n",
       "  align-self: flex-end;\n",
       "  width: 50%;\n",
       "}\n",
       "\n",
       "#sk-container-id-1 div.sk-parallel-item:last-child::after {\n",
       "  align-self: flex-start;\n",
       "  width: 50%;\n",
       "}\n",
       "\n",
       "#sk-container-id-1 div.sk-parallel-item:only-child::after {\n",
       "  width: 0;\n",
       "}\n",
       "\n",
       "/* Serial-specific style estimator block */\n",
       "\n",
       "#sk-container-id-1 div.sk-serial {\n",
       "  display: flex;\n",
       "  flex-direction: column;\n",
       "  align-items: center;\n",
       "  background-color: var(--sklearn-color-background);\n",
       "  padding-right: 1em;\n",
       "  padding-left: 1em;\n",
       "}\n",
       "\n",
       "\n",
       "/* Toggleable style: style used for estimator/Pipeline/ColumnTransformer box that is\n",
       "clickable and can be expanded/collapsed.\n",
       "- Pipeline and ColumnTransformer use this feature and define the default style\n",
       "- Estimators will overwrite some part of the style using the `sk-estimator` class\n",
       "*/\n",
       "\n",
       "/* Pipeline and ColumnTransformer style (default) */\n",
       "\n",
       "#sk-container-id-1 div.sk-toggleable {\n",
       "  /* Default theme specific background. It is overwritten whether we have a\n",
       "  specific estimator or a Pipeline/ColumnTransformer */\n",
       "  background-color: var(--sklearn-color-background);\n",
       "}\n",
       "\n",
       "/* Toggleable label */\n",
       "#sk-container-id-1 label.sk-toggleable__label {\n",
       "  cursor: pointer;\n",
       "  display: flex;\n",
       "  width: 100%;\n",
       "  margin-bottom: 0;\n",
       "  padding: 0.5em;\n",
       "  box-sizing: border-box;\n",
       "  text-align: center;\n",
       "  align-items: start;\n",
       "  justify-content: space-between;\n",
       "  gap: 0.5em;\n",
       "}\n",
       "\n",
       "#sk-container-id-1 label.sk-toggleable__label .caption {\n",
       "  font-size: 0.6rem;\n",
       "  font-weight: lighter;\n",
       "  color: var(--sklearn-color-text-muted);\n",
       "}\n",
       "\n",
       "#sk-container-id-1 label.sk-toggleable__label-arrow:before {\n",
       "  /* Arrow on the left of the label */\n",
       "  content: \"▸\";\n",
       "  float: left;\n",
       "  margin-right: 0.25em;\n",
       "  color: var(--sklearn-color-icon);\n",
       "}\n",
       "\n",
       "#sk-container-id-1 label.sk-toggleable__label-arrow:hover:before {\n",
       "  color: var(--sklearn-color-text);\n",
       "}\n",
       "\n",
       "/* Toggleable content - dropdown */\n",
       "\n",
       "#sk-container-id-1 div.sk-toggleable__content {\n",
       "  max-height: 0;\n",
       "  max-width: 0;\n",
       "  overflow: hidden;\n",
       "  text-align: left;\n",
       "  /* unfitted */\n",
       "  background-color: var(--sklearn-color-unfitted-level-0);\n",
       "}\n",
       "\n",
       "#sk-container-id-1 div.sk-toggleable__content.fitted {\n",
       "  /* fitted */\n",
       "  background-color: var(--sklearn-color-fitted-level-0);\n",
       "}\n",
       "\n",
       "#sk-container-id-1 div.sk-toggleable__content pre {\n",
       "  margin: 0.2em;\n",
       "  border-radius: 0.25em;\n",
       "  color: var(--sklearn-color-text);\n",
       "  /* unfitted */\n",
       "  background-color: var(--sklearn-color-unfitted-level-0);\n",
       "}\n",
       "\n",
       "#sk-container-id-1 div.sk-toggleable__content.fitted pre {\n",
       "  /* unfitted */\n",
       "  background-color: var(--sklearn-color-fitted-level-0);\n",
       "}\n",
       "\n",
       "#sk-container-id-1 input.sk-toggleable__control:checked~div.sk-toggleable__content {\n",
       "  /* Expand drop-down */\n",
       "  max-height: 200px;\n",
       "  max-width: 100%;\n",
       "  overflow: auto;\n",
       "}\n",
       "\n",
       "#sk-container-id-1 input.sk-toggleable__control:checked~label.sk-toggleable__label-arrow:before {\n",
       "  content: \"▾\";\n",
       "}\n",
       "\n",
       "/* Pipeline/ColumnTransformer-specific style */\n",
       "\n",
       "#sk-container-id-1 div.sk-label input.sk-toggleable__control:checked~label.sk-toggleable__label {\n",
       "  color: var(--sklearn-color-text);\n",
       "  background-color: var(--sklearn-color-unfitted-level-2);\n",
       "}\n",
       "\n",
       "#sk-container-id-1 div.sk-label.fitted input.sk-toggleable__control:checked~label.sk-toggleable__label {\n",
       "  background-color: var(--sklearn-color-fitted-level-2);\n",
       "}\n",
       "\n",
       "/* Estimator-specific style */\n",
       "\n",
       "/* Colorize estimator box */\n",
       "#sk-container-id-1 div.sk-estimator input.sk-toggleable__control:checked~label.sk-toggleable__label {\n",
       "  /* unfitted */\n",
       "  background-color: var(--sklearn-color-unfitted-level-2);\n",
       "}\n",
       "\n",
       "#sk-container-id-1 div.sk-estimator.fitted input.sk-toggleable__control:checked~label.sk-toggleable__label {\n",
       "  /* fitted */\n",
       "  background-color: var(--sklearn-color-fitted-level-2);\n",
       "}\n",
       "\n",
       "#sk-container-id-1 div.sk-label label.sk-toggleable__label,\n",
       "#sk-container-id-1 div.sk-label label {\n",
       "  /* The background is the default theme color */\n",
       "  color: var(--sklearn-color-text-on-default-background);\n",
       "}\n",
       "\n",
       "/* On hover, darken the color of the background */\n",
       "#sk-container-id-1 div.sk-label:hover label.sk-toggleable__label {\n",
       "  color: var(--sklearn-color-text);\n",
       "  background-color: var(--sklearn-color-unfitted-level-2);\n",
       "}\n",
       "\n",
       "/* Label box, darken color on hover, fitted */\n",
       "#sk-container-id-1 div.sk-label.fitted:hover label.sk-toggleable__label.fitted {\n",
       "  color: var(--sklearn-color-text);\n",
       "  background-color: var(--sklearn-color-fitted-level-2);\n",
       "}\n",
       "\n",
       "/* Estimator label */\n",
       "\n",
       "#sk-container-id-1 div.sk-label label {\n",
       "  font-family: monospace;\n",
       "  font-weight: bold;\n",
       "  display: inline-block;\n",
       "  line-height: 1.2em;\n",
       "}\n",
       "\n",
       "#sk-container-id-1 div.sk-label-container {\n",
       "  text-align: center;\n",
       "}\n",
       "\n",
       "/* Estimator-specific */\n",
       "#sk-container-id-1 div.sk-estimator {\n",
       "  font-family: monospace;\n",
       "  border: 1px dotted var(--sklearn-color-border-box);\n",
       "  border-radius: 0.25em;\n",
       "  box-sizing: border-box;\n",
       "  margin-bottom: 0.5em;\n",
       "  /* unfitted */\n",
       "  background-color: var(--sklearn-color-unfitted-level-0);\n",
       "}\n",
       "\n",
       "#sk-container-id-1 div.sk-estimator.fitted {\n",
       "  /* fitted */\n",
       "  background-color: var(--sklearn-color-fitted-level-0);\n",
       "}\n",
       "\n",
       "/* on hover */\n",
       "#sk-container-id-1 div.sk-estimator:hover {\n",
       "  /* unfitted */\n",
       "  background-color: var(--sklearn-color-unfitted-level-2);\n",
       "}\n",
       "\n",
       "#sk-container-id-1 div.sk-estimator.fitted:hover {\n",
       "  /* fitted */\n",
       "  background-color: var(--sklearn-color-fitted-level-2);\n",
       "}\n",
       "\n",
       "/* Specification for estimator info (e.g. \"i\" and \"?\") */\n",
       "\n",
       "/* Common style for \"i\" and \"?\" */\n",
       "\n",
       ".sk-estimator-doc-link,\n",
       "a:link.sk-estimator-doc-link,\n",
       "a:visited.sk-estimator-doc-link {\n",
       "  float: right;\n",
       "  font-size: smaller;\n",
       "  line-height: 1em;\n",
       "  font-family: monospace;\n",
       "  background-color: var(--sklearn-color-background);\n",
       "  border-radius: 1em;\n",
       "  height: 1em;\n",
       "  width: 1em;\n",
       "  text-decoration: none !important;\n",
       "  margin-left: 0.5em;\n",
       "  text-align: center;\n",
       "  /* unfitted */\n",
       "  border: var(--sklearn-color-unfitted-level-1) 1pt solid;\n",
       "  color: var(--sklearn-color-unfitted-level-1);\n",
       "}\n",
       "\n",
       ".sk-estimator-doc-link.fitted,\n",
       "a:link.sk-estimator-doc-link.fitted,\n",
       "a:visited.sk-estimator-doc-link.fitted {\n",
       "  /* fitted */\n",
       "  border: var(--sklearn-color-fitted-level-1) 1pt solid;\n",
       "  color: var(--sklearn-color-fitted-level-1);\n",
       "}\n",
       "\n",
       "/* On hover */\n",
       "div.sk-estimator:hover .sk-estimator-doc-link:hover,\n",
       ".sk-estimator-doc-link:hover,\n",
       "div.sk-label-container:hover .sk-estimator-doc-link:hover,\n",
       ".sk-estimator-doc-link:hover {\n",
       "  /* unfitted */\n",
       "  background-color: var(--sklearn-color-unfitted-level-3);\n",
       "  color: var(--sklearn-color-background);\n",
       "  text-decoration: none;\n",
       "}\n",
       "\n",
       "div.sk-estimator.fitted:hover .sk-estimator-doc-link.fitted:hover,\n",
       ".sk-estimator-doc-link.fitted:hover,\n",
       "div.sk-label-container:hover .sk-estimator-doc-link.fitted:hover,\n",
       ".sk-estimator-doc-link.fitted:hover {\n",
       "  /* fitted */\n",
       "  background-color: var(--sklearn-color-fitted-level-3);\n",
       "  color: var(--sklearn-color-background);\n",
       "  text-decoration: none;\n",
       "}\n",
       "\n",
       "/* Span, style for the box shown on hovering the info icon */\n",
       ".sk-estimator-doc-link span {\n",
       "  display: none;\n",
       "  z-index: 9999;\n",
       "  position: relative;\n",
       "  font-weight: normal;\n",
       "  right: .2ex;\n",
       "  padding: .5ex;\n",
       "  margin: .5ex;\n",
       "  width: min-content;\n",
       "  min-width: 20ex;\n",
       "  max-width: 50ex;\n",
       "  color: var(--sklearn-color-text);\n",
       "  box-shadow: 2pt 2pt 4pt #999;\n",
       "  /* unfitted */\n",
       "  background: var(--sklearn-color-unfitted-level-0);\n",
       "  border: .5pt solid var(--sklearn-color-unfitted-level-3);\n",
       "}\n",
       "\n",
       ".sk-estimator-doc-link.fitted span {\n",
       "  /* fitted */\n",
       "  background: var(--sklearn-color-fitted-level-0);\n",
       "  border: var(--sklearn-color-fitted-level-3);\n",
       "}\n",
       "\n",
       ".sk-estimator-doc-link:hover span {\n",
       "  display: block;\n",
       "}\n",
       "\n",
       "/* \"?\"-specific style due to the `<a>` HTML tag */\n",
       "\n",
       "#sk-container-id-1 a.estimator_doc_link {\n",
       "  float: right;\n",
       "  font-size: 1rem;\n",
       "  line-height: 1em;\n",
       "  font-family: monospace;\n",
       "  background-color: var(--sklearn-color-background);\n",
       "  border-radius: 1rem;\n",
       "  height: 1rem;\n",
       "  width: 1rem;\n",
       "  text-decoration: none;\n",
       "  /* unfitted */\n",
       "  color: var(--sklearn-color-unfitted-level-1);\n",
       "  border: var(--sklearn-color-unfitted-level-1) 1pt solid;\n",
       "}\n",
       "\n",
       "#sk-container-id-1 a.estimator_doc_link.fitted {\n",
       "  /* fitted */\n",
       "  border: var(--sklearn-color-fitted-level-1) 1pt solid;\n",
       "  color: var(--sklearn-color-fitted-level-1);\n",
       "}\n",
       "\n",
       "/* On hover */\n",
       "#sk-container-id-1 a.estimator_doc_link:hover {\n",
       "  /* unfitted */\n",
       "  background-color: var(--sklearn-color-unfitted-level-3);\n",
       "  color: var(--sklearn-color-background);\n",
       "  text-decoration: none;\n",
       "}\n",
       "\n",
       "#sk-container-id-1 a.estimator_doc_link.fitted:hover {\n",
       "  /* fitted */\n",
       "  background-color: var(--sklearn-color-fitted-level-3);\n",
       "}\n",
       "</style><div id=\"sk-container-id-1\" class=\"sk-top-container\"><div class=\"sk-text-repr-fallback\"><pre>LinearRegression()</pre><b>In a Jupyter environment, please rerun this cell to show the HTML representation or trust the notebook. <br />On GitHub, the HTML representation is unable to render, please try loading this page with nbviewer.org.</b></div><div class=\"sk-container\" hidden><div class=\"sk-item\"><div class=\"sk-estimator fitted sk-toggleable\"><input class=\"sk-toggleable__control sk-hidden--visually\" id=\"sk-estimator-id-1\" type=\"checkbox\" checked><label for=\"sk-estimator-id-1\" class=\"sk-toggleable__label fitted sk-toggleable__label-arrow\"><div><div>LinearRegression</div></div><div><a class=\"sk-estimator-doc-link fitted\" rel=\"noreferrer\" target=\"_blank\" href=\"https://scikit-learn.org/1.6/modules/generated/sklearn.linear_model.LinearRegression.html\">?<span>Documentation for LinearRegression</span></a><span class=\"sk-estimator-doc-link fitted\">i<span>Fitted</span></span></div></label><div class=\"sk-toggleable__content fitted\"><pre>LinearRegression()</pre></div> </div></div></div></div>"
      ],
      "text/plain": [
       "LinearRegression()"
      ]
     },
     "execution_count": 234,
     "metadata": {},
     "output_type": "execute_result"
    }
   ],
   "source": [
    "model.fit(x_train,y_train)"
   ]
  },
  {
   "cell_type": "code",
   "execution_count": 235,
   "id": "0e7fa4dd",
   "metadata": {},
   "outputs": [
    {
     "data": {
      "text/plain": [
       "0.6999518621959777"
      ]
     },
     "execution_count": 235,
     "metadata": {},
     "output_type": "execute_result"
    }
   ],
   "source": [
    "model.score(x_train,y_train)"
   ]
  },
  {
   "cell_type": "code",
   "execution_count": 236,
   "id": "9cc825c5",
   "metadata": {},
   "outputs": [
    {
     "data": {
      "text/plain": [
       "array([[ 1.03510180e-05, -1.25738185e-01,  5.97506468e-02,\n",
       "        -2.23347200e-03, -2.44876867e-01,  6.79803299e-04,\n",
       "         1.13496527e-01, -1.13496527e-01,  2.46585845e-01,\n",
       "         2.32594825e-01, -1.93625126e-03, -5.86187859e-02,\n",
       "         0.00000000e+00,  0.00000000e+00, -5.25409541e-02]])"
      ]
     },
     "execution_count": 236,
     "metadata": {},
     "output_type": "execute_result"
    }
   ],
   "source": [
    "model.coef_"
   ]
  },
  {
   "cell_type": "code",
   "execution_count": 237,
   "id": "329b0431",
   "metadata": {},
   "outputs": [
    {
     "data": {
      "text/plain": [
       "array([0.28779475])"
      ]
     },
     "execution_count": 237,
     "metadata": {},
     "output_type": "execute_result"
    }
   ],
   "source": [
    "model.intercept_"
   ]
  },
  {
   "cell_type": "code",
   "execution_count": 238,
   "id": "84420302",
   "metadata": {},
   "outputs": [],
   "source": [
    "y_predict=pd.DataFrame(model.predict(x_train),columns=['y_predicted'])"
   ]
  },
  {
   "cell_type": "code",
   "execution_count": 259,
   "id": "958d24df",
   "metadata": {},
   "outputs": [
    {
     "data": {
      "application/vnd.microsoft.datawrangler.viewer.v0+json": {
       "columns": [
        {
         "name": "index",
         "rawType": "int64",
         "type": "integer"
        },
        {
         "name": "y_predicted",
         "rawType": "float64",
         "type": "float"
        }
       ],
       "conversionMethod": "pd.DataFrame",
       "ref": "9be6c4a2-d149-4722-903e-9ea99e378586",
       "rows": [
        [
         "0",
         "0.2899600688634552"
        ],
        [
         "1",
         "0.6020928039710073"
        ],
        [
         "2",
         "0.35157958302988634"
        ],
        [
         "3",
         "0.660636746490541"
        ],
        [
         "4",
         "0.5051227576184012"
        ],
        [
         "5",
         "0.3372323889234158"
        ],
        [
         "6",
         "0.22405013651860173"
        ],
        [
         "7",
         "0.4645205259789002"
        ],
        [
         "8",
         "0.33076507703065267"
        ],
        [
         "9",
         "0.19805990392699768"
        ],
        [
         "10",
         "0.598703964554592"
        ],
        [
         "11",
         "-0.03989537732703374"
        ],
        [
         "12",
         "0.2512875012582739"
        ],
        [
         "13",
         "0.3020053014444738"
        ],
        [
         "14",
         "0.6326082990180373"
        ],
        [
         "15",
         "0.3848266385925758"
        ],
        [
         "16",
         "0.7735298057638078"
        ],
        [
         "17",
         "0.573281598243133"
        ],
        [
         "18",
         "0.23911000238824642"
        ],
        [
         "19",
         "0.21031213553197853"
        ],
        [
         "20",
         "0.4061340432124483"
        ],
        [
         "21",
         "0.41824590431984615"
        ],
        [
         "22",
         "0.36239962851600066"
        ],
        [
         "23",
         "0.287653016777494"
        ],
        [
         "24",
         "0.5007184822366655"
        ],
        [
         "25",
         "0.2217009730643758"
        ],
        [
         "26",
         "-0.005400013296777306"
        ],
        [
         "27",
         "0.2711684526436111"
        ],
        [
         "28",
         "0.2233034134417353"
        ],
        [
         "29",
         "0.7275922299296287"
        ],
        [
         "30",
         "0.600326486113815"
        ],
        [
         "31",
         "0.4361266716030872"
        ],
        [
         "32",
         "0.3243341677290583"
        ],
        [
         "33",
         "0.16867928383090913"
        ],
        [
         "34",
         "0.3505596259406903"
        ],
        [
         "35",
         "0.31144036114313023"
        ],
        [
         "36",
         "0.6161312341499239"
        ],
        [
         "37",
         "0.023291740355935064"
        ],
        [
         "38",
         "0.6089685200491072"
        ],
        [
         "39",
         "0.28116476718648026"
        ],
        [
         "40",
         "0.19848529711909235"
        ],
        [
         "41",
         "0.3909985745273986"
        ],
        [
         "42",
         "0.486993804378809"
        ],
        [
         "43",
         "0.24628101608635058"
        ],
        [
         "44",
         "0.07504735102922006"
        ],
        [
         "45",
         "0.401660475926063"
        ],
        [
         "46",
         "0.2965397305155302"
        ],
        [
         "47",
         "0.28010548006088004"
        ],
        [
         "48",
         "0.15471644625760556"
        ],
        [
         "49",
         "0.24845786835444428"
        ]
       ],
       "shape": {
        "columns": 1,
        "rows": 51330
       }
      },
      "text/html": [
       "<div>\n",
       "<style scoped>\n",
       "    .dataframe tbody tr th:only-of-type {\n",
       "        vertical-align: middle;\n",
       "    }\n",
       "\n",
       "    .dataframe tbody tr th {\n",
       "        vertical-align: top;\n",
       "    }\n",
       "\n",
       "    .dataframe thead th {\n",
       "        text-align: right;\n",
       "    }\n",
       "</style>\n",
       "<table border=\"1\" class=\"dataframe\">\n",
       "  <thead>\n",
       "    <tr style=\"text-align: right;\">\n",
       "      <th></th>\n",
       "      <th>y_predicted</th>\n",
       "    </tr>\n",
       "  </thead>\n",
       "  <tbody>\n",
       "    <tr>\n",
       "      <th>0</th>\n",
       "      <td>0.289960</td>\n",
       "    </tr>\n",
       "    <tr>\n",
       "      <th>1</th>\n",
       "      <td>0.602093</td>\n",
       "    </tr>\n",
       "    <tr>\n",
       "      <th>2</th>\n",
       "      <td>0.351580</td>\n",
       "    </tr>\n",
       "    <tr>\n",
       "      <th>3</th>\n",
       "      <td>0.660637</td>\n",
       "    </tr>\n",
       "    <tr>\n",
       "      <th>4</th>\n",
       "      <td>0.505123</td>\n",
       "    </tr>\n",
       "    <tr>\n",
       "      <th>...</th>\n",
       "      <td>...</td>\n",
       "    </tr>\n",
       "    <tr>\n",
       "      <th>51325</th>\n",
       "      <td>0.367182</td>\n",
       "    </tr>\n",
       "    <tr>\n",
       "      <th>51326</th>\n",
       "      <td>0.166369</td>\n",
       "    </tr>\n",
       "    <tr>\n",
       "      <th>51327</th>\n",
       "      <td>0.646317</td>\n",
       "    </tr>\n",
       "    <tr>\n",
       "      <th>51328</th>\n",
       "      <td>0.169882</td>\n",
       "    </tr>\n",
       "    <tr>\n",
       "      <th>51329</th>\n",
       "      <td>0.516955</td>\n",
       "    </tr>\n",
       "  </tbody>\n",
       "</table>\n",
       "<p>51330 rows × 1 columns</p>\n",
       "</div>"
      ],
      "text/plain": [
       "       y_predicted\n",
       "0         0.289960\n",
       "1         0.602093\n",
       "2         0.351580\n",
       "3         0.660637\n",
       "4         0.505123\n",
       "...            ...\n",
       "51325     0.367182\n",
       "51326     0.166369\n",
       "51327     0.646317\n",
       "51328     0.169882\n",
       "51329     0.516955\n",
       "\n",
       "[51330 rows x 1 columns]"
      ]
     },
     "execution_count": 259,
     "metadata": {},
     "output_type": "execute_result"
    }
   ],
   "source": [
    "y_predict"
   ]
  },
  {
   "cell_type": "code",
   "execution_count": 260,
   "id": "6f9bcd91",
   "metadata": {},
   "outputs": [
    {
     "data": {
      "text/plain": [
       "(51330, 16)"
      ]
     },
     "execution_count": 260,
     "metadata": {},
     "output_type": "execute_result"
    }
   ],
   "source": [
    "df5.shape"
   ]
  },
  {
   "cell_type": "code",
   "execution_count": 267,
   "id": "2513d4ce",
   "metadata": {},
   "outputs": [],
   "source": [
    "df=pd.read_csv('preprocessed_data.csv')"
   ]
  },
  {
   "cell_type": "code",
   "execution_count": 268,
   "id": "e4ec5ca1",
   "metadata": {},
   "outputs": [
    {
     "data": {
      "application/vnd.microsoft.datawrangler.viewer.v0+json": {
       "columns": [
        {
         "name": "index",
         "rawType": "int64",
         "type": "integer"
        },
        {
         "name": "Id",
         "rawType": "int64",
         "type": "integer"
        },
        {
         "name": "Maker",
         "rawType": "int64",
         "type": "integer"
        },
        {
         "name": "model",
         "rawType": "int64",
         "type": "integer"
        },
        {
         "name": "Location",
         "rawType": "int64",
         "type": "integer"
        },
        {
         "name": "Distance ",
         "rawType": "int64",
         "type": "integer"
        },
        {
         "name": "Owner Type",
         "rawType": "int64",
         "type": "integer"
        },
        {
         "name": "manufacture_year",
         "rawType": "float64",
         "type": "float"
        },
        {
         "name": "Age of car",
         "rawType": "float64",
         "type": "float"
        },
        {
         "name": "engine_displacement",
         "rawType": "float64",
         "type": "float"
        },
        {
         "name": "engine_power",
         "rawType": "float64",
         "type": "float"
        },
        {
         "name": "Vroom Audit Rating",
         "rawType": "int64",
         "type": "integer"
        },
        {
         "name": "transmission",
         "rawType": "int64",
         "type": "integer"
        },
        {
         "name": "door_count",
         "rawType": "float64",
         "type": "float"
        },
        {
         "name": "seat_count",
         "rawType": "float64",
         "type": "float"
        },
        {
         "name": "fuel_type",
         "rawType": "int64",
         "type": "integer"
        }
       ],
       "conversionMethod": "pd.DataFrame",
       "ref": "38725c32-22c9-453e-a272-05a897a6dcfc",
       "rows": [
        [
         "0",
         "11001",
         "6",
         "8",
         "9",
         "2259",
         "0",
         "2007.0",
         "12.0",
         "1595.0",
         "75.0",
         "5",
         "1",
         "4.0",
         "5.0",
         "1"
        ],
        [
         "1",
         "11002",
         "6",
         "14",
         "3",
         "760",
         "3",
         "2014.0",
         "5.0",
         "1598.0",
         "77.0",
         "4",
         "1",
         "4.0",
         "5.0",
         "0"
        ],
        [
         "2",
         "11003",
         "6",
         "8",
         "3",
         "793",
         "2",
         "2014.0",
         "5.0",
         "1968.0",
         "110.0",
         "5",
         "1",
         "4.0",
         "5.0",
         "0"
        ],
        [
         "3",
         "11009",
         "6",
         "8",
         "1",
         "45",
         "1",
         "2006.0",
         "13.0",
         "2000.0",
         "103.0",
         "5",
         "1",
         "4.0",
         "5.0",
         "1"
        ],
        [
         "4",
         "11014",
         "6",
         "8",
         "5",
         "35",
         "2",
         "2015.0",
         "4.0",
         "1968.0",
         "135.0",
         "6",
         "1",
         "4.0",
         "5.0",
         "0"
        ]
       ],
       "shape": {
        "columns": 15,
        "rows": 5
       }
      },
      "text/html": [
       "<div>\n",
       "<style scoped>\n",
       "    .dataframe tbody tr th:only-of-type {\n",
       "        vertical-align: middle;\n",
       "    }\n",
       "\n",
       "    .dataframe tbody tr th {\n",
       "        vertical-align: top;\n",
       "    }\n",
       "\n",
       "    .dataframe thead th {\n",
       "        text-align: right;\n",
       "    }\n",
       "</style>\n",
       "<table border=\"1\" class=\"dataframe\">\n",
       "  <thead>\n",
       "    <tr style=\"text-align: right;\">\n",
       "      <th></th>\n",
       "      <th>Id</th>\n",
       "      <th>Maker</th>\n",
       "      <th>model</th>\n",
       "      <th>Location</th>\n",
       "      <th>Distance</th>\n",
       "      <th>Owner Type</th>\n",
       "      <th>manufacture_year</th>\n",
       "      <th>Age of car</th>\n",
       "      <th>engine_displacement</th>\n",
       "      <th>engine_power</th>\n",
       "      <th>Vroom Audit Rating</th>\n",
       "      <th>transmission</th>\n",
       "      <th>door_count</th>\n",
       "      <th>seat_count</th>\n",
       "      <th>fuel_type</th>\n",
       "    </tr>\n",
       "  </thead>\n",
       "  <tbody>\n",
       "    <tr>\n",
       "      <th>0</th>\n",
       "      <td>11001</td>\n",
       "      <td>6</td>\n",
       "      <td>8</td>\n",
       "      <td>9</td>\n",
       "      <td>2259</td>\n",
       "      <td>0</td>\n",
       "      <td>2007.0</td>\n",
       "      <td>12.0</td>\n",
       "      <td>1595.0</td>\n",
       "      <td>75.0</td>\n",
       "      <td>5</td>\n",
       "      <td>1</td>\n",
       "      <td>4.0</td>\n",
       "      <td>5.0</td>\n",
       "      <td>1</td>\n",
       "    </tr>\n",
       "    <tr>\n",
       "      <th>1</th>\n",
       "      <td>11002</td>\n",
       "      <td>6</td>\n",
       "      <td>14</td>\n",
       "      <td>3</td>\n",
       "      <td>760</td>\n",
       "      <td>3</td>\n",
       "      <td>2014.0</td>\n",
       "      <td>5.0</td>\n",
       "      <td>1598.0</td>\n",
       "      <td>77.0</td>\n",
       "      <td>4</td>\n",
       "      <td>1</td>\n",
       "      <td>4.0</td>\n",
       "      <td>5.0</td>\n",
       "      <td>0</td>\n",
       "    </tr>\n",
       "    <tr>\n",
       "      <th>2</th>\n",
       "      <td>11003</td>\n",
       "      <td>6</td>\n",
       "      <td>8</td>\n",
       "      <td>3</td>\n",
       "      <td>793</td>\n",
       "      <td>2</td>\n",
       "      <td>2014.0</td>\n",
       "      <td>5.0</td>\n",
       "      <td>1968.0</td>\n",
       "      <td>110.0</td>\n",
       "      <td>5</td>\n",
       "      <td>1</td>\n",
       "      <td>4.0</td>\n",
       "      <td>5.0</td>\n",
       "      <td>0</td>\n",
       "    </tr>\n",
       "    <tr>\n",
       "      <th>3</th>\n",
       "      <td>11009</td>\n",
       "      <td>6</td>\n",
       "      <td>8</td>\n",
       "      <td>1</td>\n",
       "      <td>45</td>\n",
       "      <td>1</td>\n",
       "      <td>2006.0</td>\n",
       "      <td>13.0</td>\n",
       "      <td>2000.0</td>\n",
       "      <td>103.0</td>\n",
       "      <td>5</td>\n",
       "      <td>1</td>\n",
       "      <td>4.0</td>\n",
       "      <td>5.0</td>\n",
       "      <td>1</td>\n",
       "    </tr>\n",
       "    <tr>\n",
       "      <th>4</th>\n",
       "      <td>11014</td>\n",
       "      <td>6</td>\n",
       "      <td>8</td>\n",
       "      <td>5</td>\n",
       "      <td>35</td>\n",
       "      <td>2</td>\n",
       "      <td>2015.0</td>\n",
       "      <td>4.0</td>\n",
       "      <td>1968.0</td>\n",
       "      <td>135.0</td>\n",
       "      <td>6</td>\n",
       "      <td>1</td>\n",
       "      <td>4.0</td>\n",
       "      <td>5.0</td>\n",
       "      <td>0</td>\n",
       "    </tr>\n",
       "  </tbody>\n",
       "</table>\n",
       "</div>"
      ],
      "text/plain": [
       "      Id  Maker  model  Location  Distance   Owner Type  manufacture_year  \\\n",
       "0  11001      6      8         9       2259           0            2007.0   \n",
       "1  11002      6     14         3        760           3            2014.0   \n",
       "2  11003      6      8         3        793           2            2014.0   \n",
       "3  11009      6      8         1         45           1            2006.0   \n",
       "4  11014      6      8         5         35           2            2015.0   \n",
       "\n",
       "   Age of car  engine_displacement  engine_power  Vroom Audit Rating  \\\n",
       "0        12.0               1595.0          75.0                   5   \n",
       "1         5.0               1598.0          77.0                   4   \n",
       "2         5.0               1968.0         110.0                   5   \n",
       "3        13.0               2000.0         103.0                   5   \n",
       "4         4.0               1968.0         135.0                   6   \n",
       "\n",
       "   transmission  door_count  seat_count  fuel_type  \n",
       "0             1         4.0         5.0          1  \n",
       "1             1         4.0         5.0          0  \n",
       "2             1         4.0         5.0          0  \n",
       "3             1         4.0         5.0          1  \n",
       "4             1         4.0         5.0          0  "
      ]
     },
     "execution_count": 268,
     "metadata": {},
     "output_type": "execute_result"
    }
   ],
   "source": [
    "df.head(5)"
   ]
  },
  {
   "cell_type": "code",
   "execution_count": 269,
   "id": "1e5d11af",
   "metadata": {},
   "outputs": [
    {
     "data": {
      "text/plain": [
       "(1675, 15)"
      ]
     },
     "execution_count": 269,
     "metadata": {},
     "output_type": "execute_result"
    }
   ],
   "source": [
    "df.shape"
   ]
  },
  {
   "cell_type": "code",
   "execution_count": 270,
   "id": "8490faa0",
   "metadata": {},
   "outputs": [],
   "source": [
    "from sklearn.linear_model import LinearRegression"
   ]
  },
  {
   "cell_type": "code",
   "execution_count": 271,
   "id": "f83f78e2",
   "metadata": {},
   "outputs": [
    {
     "data": {
      "text/plain": [
       "Index(['Id', 'Maker', 'model', 'Location', 'Distance ', 'Owner Type',\n",
       "       'manufacture_year', 'Age of car', 'engine_displacement', 'engine_power',\n",
       "       'Vroom Audit Rating', 'transmission', 'door_count', 'seat_count',\n",
       "       'fuel_type'],\n",
       "      dtype='object')"
      ]
     },
     "execution_count": 271,
     "metadata": {},
     "output_type": "execute_result"
    }
   ],
   "source": [
    "df.columns"
   ]
  },
  {
   "cell_type": "code",
   "execution_count": 272,
   "id": "9ac1ad38",
   "metadata": {},
   "outputs": [],
   "source": [
    "x_test=df[['Id', 'Maker', 'model', 'Location', 'Distance ', 'Owner Type',\n",
    "       'manufacture_year', 'Age of car', 'engine_displacement', 'engine_power',\n",
    "       'Vroom Audit Rating', 'transmission', 'door_count', 'seat_count',\n",
    "       'fuel_type']]"
   ]
  },
  {
   "cell_type": "code",
   "execution_count": 273,
   "id": "05703131",
   "metadata": {},
   "outputs": [],
   "source": [
    "from sklearn.linear_model import LinearRegression\n",
    "model1=LinearRegression()"
   ]
  },
  {
   "cell_type": "code",
   "execution_count": 274,
   "id": "ccc41b9d",
   "metadata": {},
   "outputs": [
    {
     "data": {
      "text/html": [
       "<style>#sk-container-id-3 {\n",
       "  /* Definition of color scheme common for light and dark mode */\n",
       "  --sklearn-color-text: #000;\n",
       "  --sklearn-color-text-muted: #666;\n",
       "  --sklearn-color-line: gray;\n",
       "  /* Definition of color scheme for unfitted estimators */\n",
       "  --sklearn-color-unfitted-level-0: #fff5e6;\n",
       "  --sklearn-color-unfitted-level-1: #f6e4d2;\n",
       "  --sklearn-color-unfitted-level-2: #ffe0b3;\n",
       "  --sklearn-color-unfitted-level-3: chocolate;\n",
       "  /* Definition of color scheme for fitted estimators */\n",
       "  --sklearn-color-fitted-level-0: #f0f8ff;\n",
       "  --sklearn-color-fitted-level-1: #d4ebff;\n",
       "  --sklearn-color-fitted-level-2: #b3dbfd;\n",
       "  --sklearn-color-fitted-level-3: cornflowerblue;\n",
       "\n",
       "  /* Specific color for light theme */\n",
       "  --sklearn-color-text-on-default-background: var(--sg-text-color, var(--theme-code-foreground, var(--jp-content-font-color1, black)));\n",
       "  --sklearn-color-background: var(--sg-background-color, var(--theme-background, var(--jp-layout-color0, white)));\n",
       "  --sklearn-color-border-box: var(--sg-text-color, var(--theme-code-foreground, var(--jp-content-font-color1, black)));\n",
       "  --sklearn-color-icon: #696969;\n",
       "\n",
       "  @media (prefers-color-scheme: dark) {\n",
       "    /* Redefinition of color scheme for dark theme */\n",
       "    --sklearn-color-text-on-default-background: var(--sg-text-color, var(--theme-code-foreground, var(--jp-content-font-color1, white)));\n",
       "    --sklearn-color-background: var(--sg-background-color, var(--theme-background, var(--jp-layout-color0, #111)));\n",
       "    --sklearn-color-border-box: var(--sg-text-color, var(--theme-code-foreground, var(--jp-content-font-color1, white)));\n",
       "    --sklearn-color-icon: #878787;\n",
       "  }\n",
       "}\n",
       "\n",
       "#sk-container-id-3 {\n",
       "  color: var(--sklearn-color-text);\n",
       "}\n",
       "\n",
       "#sk-container-id-3 pre {\n",
       "  padding: 0;\n",
       "}\n",
       "\n",
       "#sk-container-id-3 input.sk-hidden--visually {\n",
       "  border: 0;\n",
       "  clip: rect(1px 1px 1px 1px);\n",
       "  clip: rect(1px, 1px, 1px, 1px);\n",
       "  height: 1px;\n",
       "  margin: -1px;\n",
       "  overflow: hidden;\n",
       "  padding: 0;\n",
       "  position: absolute;\n",
       "  width: 1px;\n",
       "}\n",
       "\n",
       "#sk-container-id-3 div.sk-dashed-wrapped {\n",
       "  border: 1px dashed var(--sklearn-color-line);\n",
       "  margin: 0 0.4em 0.5em 0.4em;\n",
       "  box-sizing: border-box;\n",
       "  padding-bottom: 0.4em;\n",
       "  background-color: var(--sklearn-color-background);\n",
       "}\n",
       "\n",
       "#sk-container-id-3 div.sk-container {\n",
       "  /* jupyter's `normalize.less` sets `[hidden] { display: none; }`\n",
       "     but bootstrap.min.css set `[hidden] { display: none !important; }`\n",
       "     so we also need the `!important` here to be able to override the\n",
       "     default hidden behavior on the sphinx rendered scikit-learn.org.\n",
       "     See: https://github.com/scikit-learn/scikit-learn/issues/21755 */\n",
       "  display: inline-block !important;\n",
       "  position: relative;\n",
       "}\n",
       "\n",
       "#sk-container-id-3 div.sk-text-repr-fallback {\n",
       "  display: none;\n",
       "}\n",
       "\n",
       "div.sk-parallel-item,\n",
       "div.sk-serial,\n",
       "div.sk-item {\n",
       "  /* draw centered vertical line to link estimators */\n",
       "  background-image: linear-gradient(var(--sklearn-color-text-on-default-background), var(--sklearn-color-text-on-default-background));\n",
       "  background-size: 2px 100%;\n",
       "  background-repeat: no-repeat;\n",
       "  background-position: center center;\n",
       "}\n",
       "\n",
       "/* Parallel-specific style estimator block */\n",
       "\n",
       "#sk-container-id-3 div.sk-parallel-item::after {\n",
       "  content: \"\";\n",
       "  width: 100%;\n",
       "  border-bottom: 2px solid var(--sklearn-color-text-on-default-background);\n",
       "  flex-grow: 1;\n",
       "}\n",
       "\n",
       "#sk-container-id-3 div.sk-parallel {\n",
       "  display: flex;\n",
       "  align-items: stretch;\n",
       "  justify-content: center;\n",
       "  background-color: var(--sklearn-color-background);\n",
       "  position: relative;\n",
       "}\n",
       "\n",
       "#sk-container-id-3 div.sk-parallel-item {\n",
       "  display: flex;\n",
       "  flex-direction: column;\n",
       "}\n",
       "\n",
       "#sk-container-id-3 div.sk-parallel-item:first-child::after {\n",
       "  align-self: flex-end;\n",
       "  width: 50%;\n",
       "}\n",
       "\n",
       "#sk-container-id-3 div.sk-parallel-item:last-child::after {\n",
       "  align-self: flex-start;\n",
       "  width: 50%;\n",
       "}\n",
       "\n",
       "#sk-container-id-3 div.sk-parallel-item:only-child::after {\n",
       "  width: 0;\n",
       "}\n",
       "\n",
       "/* Serial-specific style estimator block */\n",
       "\n",
       "#sk-container-id-3 div.sk-serial {\n",
       "  display: flex;\n",
       "  flex-direction: column;\n",
       "  align-items: center;\n",
       "  background-color: var(--sklearn-color-background);\n",
       "  padding-right: 1em;\n",
       "  padding-left: 1em;\n",
       "}\n",
       "\n",
       "\n",
       "/* Toggleable style: style used for estimator/Pipeline/ColumnTransformer box that is\n",
       "clickable and can be expanded/collapsed.\n",
       "- Pipeline and ColumnTransformer use this feature and define the default style\n",
       "- Estimators will overwrite some part of the style using the `sk-estimator` class\n",
       "*/\n",
       "\n",
       "/* Pipeline and ColumnTransformer style (default) */\n",
       "\n",
       "#sk-container-id-3 div.sk-toggleable {\n",
       "  /* Default theme specific background. It is overwritten whether we have a\n",
       "  specific estimator or a Pipeline/ColumnTransformer */\n",
       "  background-color: var(--sklearn-color-background);\n",
       "}\n",
       "\n",
       "/* Toggleable label */\n",
       "#sk-container-id-3 label.sk-toggleable__label {\n",
       "  cursor: pointer;\n",
       "  display: flex;\n",
       "  width: 100%;\n",
       "  margin-bottom: 0;\n",
       "  padding: 0.5em;\n",
       "  box-sizing: border-box;\n",
       "  text-align: center;\n",
       "  align-items: start;\n",
       "  justify-content: space-between;\n",
       "  gap: 0.5em;\n",
       "}\n",
       "\n",
       "#sk-container-id-3 label.sk-toggleable__label .caption {\n",
       "  font-size: 0.6rem;\n",
       "  font-weight: lighter;\n",
       "  color: var(--sklearn-color-text-muted);\n",
       "}\n",
       "\n",
       "#sk-container-id-3 label.sk-toggleable__label-arrow:before {\n",
       "  /* Arrow on the left of the label */\n",
       "  content: \"▸\";\n",
       "  float: left;\n",
       "  margin-right: 0.25em;\n",
       "  color: var(--sklearn-color-icon);\n",
       "}\n",
       "\n",
       "#sk-container-id-3 label.sk-toggleable__label-arrow:hover:before {\n",
       "  color: var(--sklearn-color-text);\n",
       "}\n",
       "\n",
       "/* Toggleable content - dropdown */\n",
       "\n",
       "#sk-container-id-3 div.sk-toggleable__content {\n",
       "  max-height: 0;\n",
       "  max-width: 0;\n",
       "  overflow: hidden;\n",
       "  text-align: left;\n",
       "  /* unfitted */\n",
       "  background-color: var(--sklearn-color-unfitted-level-0);\n",
       "}\n",
       "\n",
       "#sk-container-id-3 div.sk-toggleable__content.fitted {\n",
       "  /* fitted */\n",
       "  background-color: var(--sklearn-color-fitted-level-0);\n",
       "}\n",
       "\n",
       "#sk-container-id-3 div.sk-toggleable__content pre {\n",
       "  margin: 0.2em;\n",
       "  border-radius: 0.25em;\n",
       "  color: var(--sklearn-color-text);\n",
       "  /* unfitted */\n",
       "  background-color: var(--sklearn-color-unfitted-level-0);\n",
       "}\n",
       "\n",
       "#sk-container-id-3 div.sk-toggleable__content.fitted pre {\n",
       "  /* unfitted */\n",
       "  background-color: var(--sklearn-color-fitted-level-0);\n",
       "}\n",
       "\n",
       "#sk-container-id-3 input.sk-toggleable__control:checked~div.sk-toggleable__content {\n",
       "  /* Expand drop-down */\n",
       "  max-height: 200px;\n",
       "  max-width: 100%;\n",
       "  overflow: auto;\n",
       "}\n",
       "\n",
       "#sk-container-id-3 input.sk-toggleable__control:checked~label.sk-toggleable__label-arrow:before {\n",
       "  content: \"▾\";\n",
       "}\n",
       "\n",
       "/* Pipeline/ColumnTransformer-specific style */\n",
       "\n",
       "#sk-container-id-3 div.sk-label input.sk-toggleable__control:checked~label.sk-toggleable__label {\n",
       "  color: var(--sklearn-color-text);\n",
       "  background-color: var(--sklearn-color-unfitted-level-2);\n",
       "}\n",
       "\n",
       "#sk-container-id-3 div.sk-label.fitted input.sk-toggleable__control:checked~label.sk-toggleable__label {\n",
       "  background-color: var(--sklearn-color-fitted-level-2);\n",
       "}\n",
       "\n",
       "/* Estimator-specific style */\n",
       "\n",
       "/* Colorize estimator box */\n",
       "#sk-container-id-3 div.sk-estimator input.sk-toggleable__control:checked~label.sk-toggleable__label {\n",
       "  /* unfitted */\n",
       "  background-color: var(--sklearn-color-unfitted-level-2);\n",
       "}\n",
       "\n",
       "#sk-container-id-3 div.sk-estimator.fitted input.sk-toggleable__control:checked~label.sk-toggleable__label {\n",
       "  /* fitted */\n",
       "  background-color: var(--sklearn-color-fitted-level-2);\n",
       "}\n",
       "\n",
       "#sk-container-id-3 div.sk-label label.sk-toggleable__label,\n",
       "#sk-container-id-3 div.sk-label label {\n",
       "  /* The background is the default theme color */\n",
       "  color: var(--sklearn-color-text-on-default-background);\n",
       "}\n",
       "\n",
       "/* On hover, darken the color of the background */\n",
       "#sk-container-id-3 div.sk-label:hover label.sk-toggleable__label {\n",
       "  color: var(--sklearn-color-text);\n",
       "  background-color: var(--sklearn-color-unfitted-level-2);\n",
       "}\n",
       "\n",
       "/* Label box, darken color on hover, fitted */\n",
       "#sk-container-id-3 div.sk-label.fitted:hover label.sk-toggleable__label.fitted {\n",
       "  color: var(--sklearn-color-text);\n",
       "  background-color: var(--sklearn-color-fitted-level-2);\n",
       "}\n",
       "\n",
       "/* Estimator label */\n",
       "\n",
       "#sk-container-id-3 div.sk-label label {\n",
       "  font-family: monospace;\n",
       "  font-weight: bold;\n",
       "  display: inline-block;\n",
       "  line-height: 1.2em;\n",
       "}\n",
       "\n",
       "#sk-container-id-3 div.sk-label-container {\n",
       "  text-align: center;\n",
       "}\n",
       "\n",
       "/* Estimator-specific */\n",
       "#sk-container-id-3 div.sk-estimator {\n",
       "  font-family: monospace;\n",
       "  border: 1px dotted var(--sklearn-color-border-box);\n",
       "  border-radius: 0.25em;\n",
       "  box-sizing: border-box;\n",
       "  margin-bottom: 0.5em;\n",
       "  /* unfitted */\n",
       "  background-color: var(--sklearn-color-unfitted-level-0);\n",
       "}\n",
       "\n",
       "#sk-container-id-3 div.sk-estimator.fitted {\n",
       "  /* fitted */\n",
       "  background-color: var(--sklearn-color-fitted-level-0);\n",
       "}\n",
       "\n",
       "/* on hover */\n",
       "#sk-container-id-3 div.sk-estimator:hover {\n",
       "  /* unfitted */\n",
       "  background-color: var(--sklearn-color-unfitted-level-2);\n",
       "}\n",
       "\n",
       "#sk-container-id-3 div.sk-estimator.fitted:hover {\n",
       "  /* fitted */\n",
       "  background-color: var(--sklearn-color-fitted-level-2);\n",
       "}\n",
       "\n",
       "/* Specification for estimator info (e.g. \"i\" and \"?\") */\n",
       "\n",
       "/* Common style for \"i\" and \"?\" */\n",
       "\n",
       ".sk-estimator-doc-link,\n",
       "a:link.sk-estimator-doc-link,\n",
       "a:visited.sk-estimator-doc-link {\n",
       "  float: right;\n",
       "  font-size: smaller;\n",
       "  line-height: 1em;\n",
       "  font-family: monospace;\n",
       "  background-color: var(--sklearn-color-background);\n",
       "  border-radius: 1em;\n",
       "  height: 1em;\n",
       "  width: 1em;\n",
       "  text-decoration: none !important;\n",
       "  margin-left: 0.5em;\n",
       "  text-align: center;\n",
       "  /* unfitted */\n",
       "  border: var(--sklearn-color-unfitted-level-1) 1pt solid;\n",
       "  color: var(--sklearn-color-unfitted-level-1);\n",
       "}\n",
       "\n",
       ".sk-estimator-doc-link.fitted,\n",
       "a:link.sk-estimator-doc-link.fitted,\n",
       "a:visited.sk-estimator-doc-link.fitted {\n",
       "  /* fitted */\n",
       "  border: var(--sklearn-color-fitted-level-1) 1pt solid;\n",
       "  color: var(--sklearn-color-fitted-level-1);\n",
       "}\n",
       "\n",
       "/* On hover */\n",
       "div.sk-estimator:hover .sk-estimator-doc-link:hover,\n",
       ".sk-estimator-doc-link:hover,\n",
       "div.sk-label-container:hover .sk-estimator-doc-link:hover,\n",
       ".sk-estimator-doc-link:hover {\n",
       "  /* unfitted */\n",
       "  background-color: var(--sklearn-color-unfitted-level-3);\n",
       "  color: var(--sklearn-color-background);\n",
       "  text-decoration: none;\n",
       "}\n",
       "\n",
       "div.sk-estimator.fitted:hover .sk-estimator-doc-link.fitted:hover,\n",
       ".sk-estimator-doc-link.fitted:hover,\n",
       "div.sk-label-container:hover .sk-estimator-doc-link.fitted:hover,\n",
       ".sk-estimator-doc-link.fitted:hover {\n",
       "  /* fitted */\n",
       "  background-color: var(--sklearn-color-fitted-level-3);\n",
       "  color: var(--sklearn-color-background);\n",
       "  text-decoration: none;\n",
       "}\n",
       "\n",
       "/* Span, style for the box shown on hovering the info icon */\n",
       ".sk-estimator-doc-link span {\n",
       "  display: none;\n",
       "  z-index: 9999;\n",
       "  position: relative;\n",
       "  font-weight: normal;\n",
       "  right: .2ex;\n",
       "  padding: .5ex;\n",
       "  margin: .5ex;\n",
       "  width: min-content;\n",
       "  min-width: 20ex;\n",
       "  max-width: 50ex;\n",
       "  color: var(--sklearn-color-text);\n",
       "  box-shadow: 2pt 2pt 4pt #999;\n",
       "  /* unfitted */\n",
       "  background: var(--sklearn-color-unfitted-level-0);\n",
       "  border: .5pt solid var(--sklearn-color-unfitted-level-3);\n",
       "}\n",
       "\n",
       ".sk-estimator-doc-link.fitted span {\n",
       "  /* fitted */\n",
       "  background: var(--sklearn-color-fitted-level-0);\n",
       "  border: var(--sklearn-color-fitted-level-3);\n",
       "}\n",
       "\n",
       ".sk-estimator-doc-link:hover span {\n",
       "  display: block;\n",
       "}\n",
       "\n",
       "/* \"?\"-specific style due to the `<a>` HTML tag */\n",
       "\n",
       "#sk-container-id-3 a.estimator_doc_link {\n",
       "  float: right;\n",
       "  font-size: 1rem;\n",
       "  line-height: 1em;\n",
       "  font-family: monospace;\n",
       "  background-color: var(--sklearn-color-background);\n",
       "  border-radius: 1rem;\n",
       "  height: 1rem;\n",
       "  width: 1rem;\n",
       "  text-decoration: none;\n",
       "  /* unfitted */\n",
       "  color: var(--sklearn-color-unfitted-level-1);\n",
       "  border: var(--sklearn-color-unfitted-level-1) 1pt solid;\n",
       "}\n",
       "\n",
       "#sk-container-id-3 a.estimator_doc_link.fitted {\n",
       "  /* fitted */\n",
       "  border: var(--sklearn-color-fitted-level-1) 1pt solid;\n",
       "  color: var(--sklearn-color-fitted-level-1);\n",
       "}\n",
       "\n",
       "/* On hover */\n",
       "#sk-container-id-3 a.estimator_doc_link:hover {\n",
       "  /* unfitted */\n",
       "  background-color: var(--sklearn-color-unfitted-level-3);\n",
       "  color: var(--sklearn-color-background);\n",
       "  text-decoration: none;\n",
       "}\n",
       "\n",
       "#sk-container-id-3 a.estimator_doc_link.fitted:hover {\n",
       "  /* fitted */\n",
       "  background-color: var(--sklearn-color-fitted-level-3);\n",
       "}\n",
       "</style><div id=\"sk-container-id-3\" class=\"sk-top-container\"><div class=\"sk-text-repr-fallback\"><pre>LinearRegression()</pre><b>In a Jupyter environment, please rerun this cell to show the HTML representation or trust the notebook. <br />On GitHub, the HTML representation is unable to render, please try loading this page with nbviewer.org.</b></div><div class=\"sk-container\" hidden><div class=\"sk-item\"><div class=\"sk-estimator fitted sk-toggleable\"><input class=\"sk-toggleable__control sk-hidden--visually\" id=\"sk-estimator-id-3\" type=\"checkbox\" checked><label for=\"sk-estimator-id-3\" class=\"sk-toggleable__label fitted sk-toggleable__label-arrow\"><div><div>LinearRegression</div></div><div><a class=\"sk-estimator-doc-link fitted\" rel=\"noreferrer\" target=\"_blank\" href=\"https://scikit-learn.org/1.6/modules/generated/sklearn.linear_model.LinearRegression.html\">?<span>Documentation for LinearRegression</span></a><span class=\"sk-estimator-doc-link fitted\">i<span>Fitted</span></span></div></label><div class=\"sk-toggleable__content fitted\"><pre>LinearRegression()</pre></div> </div></div></div></div>"
      ],
      "text/plain": [
       "LinearRegression()"
      ]
     },
     "execution_count": 274,
     "metadata": {},
     "output_type": "execute_result"
    }
   ],
   "source": [
    "model.fit(x_train,y_train)"
   ]
  },
  {
   "cell_type": "code",
   "execution_count": 275,
   "id": "322971bb",
   "metadata": {},
   "outputs": [
    {
     "data": {
      "text/plain": [
       "0.6999518621959777"
      ]
     },
     "execution_count": 275,
     "metadata": {},
     "output_type": "execute_result"
    }
   ],
   "source": [
    "model.score(x_train,y_train)"
   ]
  },
  {
   "cell_type": "code",
   "execution_count": 276,
   "id": "8c4ddb7c",
   "metadata": {},
   "outputs": [],
   "source": [
    "y_pred=pd.DataFrame(model.predict(x_test),columns=['y_predicted'])"
   ]
  },
  {
   "cell_type": "code",
   "execution_count": 277,
   "id": "8787c04b",
   "metadata": {},
   "outputs": [
    {
     "data": {
      "application/vnd.microsoft.datawrangler.viewer.v0+json": {
       "columns": [
        {
         "name": "index",
         "rawType": "int64",
         "type": "integer"
        },
        {
         "name": "y_predicted",
         "rawType": "float64",
         "type": "float"
        }
       ],
       "conversionMethod": "pd.DataFrame",
       "ref": "5d6f034e-d720-44aa-9c3b-5ea1c8409144",
       "rows": [
        [
         "0",
         "83.98206275216756"
        ],
        [
         "1",
         "454.2748173157198"
        ],
        [
         "2",
         "544.7451630484703"
        ],
        [
         "3",
         "732.3110070437838"
        ],
        [
         "4",
         "736.3974029207396"
        ],
        [
         "5",
         "639.5996419344692"
        ],
        [
         "6",
         "345.5311634511602"
        ],
        [
         "7",
         "64.00567633983805"
        ],
        [
         "8",
         "94.17161782666699"
        ],
        [
         "9",
         "83.43906023082027"
        ],
        [
         "10",
         "437.0896024153506"
        ],
        [
         "11",
         "471.6216596209701"
        ],
        [
         "12",
         "44.79771569070039"
        ],
        [
         "13",
         "186.35377916271375"
        ],
        [
         "14",
         "260.6730035334031"
        ],
        [
         "15",
         "529.5626063199919"
        ],
        [
         "16",
         "233.27900180511918"
        ],
        [
         "17",
         "126.69976891606593"
        ],
        [
         "18",
         "267.62618656876447"
        ],
        [
         "19",
         "39.55031857467732"
        ],
        [
         "20",
         "132.38857080904327"
        ],
        [
         "21",
         "45.1359154316677"
        ],
        [
         "22",
         "285.95009177345867"
        ],
        [
         "23",
         "385.57148633244725"
        ],
        [
         "24",
         "339.5558526893575"
        ],
        [
         "25",
         "-174.08165174316102"
        ],
        [
         "26",
         "320.5518158922513"
        ],
        [
         "27",
         "317.0098575087601"
        ],
        [
         "28",
         "182.7309155032286"
        ],
        [
         "29",
         "6.51590861853982"
        ],
        [
         "30",
         "198.04806872773545"
        ],
        [
         "31",
         "-49.48829351025777"
        ],
        [
         "32",
         "487.0638359377359"
        ],
        [
         "33",
         "142.34150714811867"
        ],
        [
         "34",
         "133.935914858303"
        ],
        [
         "35",
         "736.700926434388"
        ],
        [
         "36",
         "-53.63762055254295"
        ],
        [
         "37",
         "12.550902653416822"
        ],
        [
         "38",
         "144.01526863954206"
        ],
        [
         "39",
         "15.981129274576146"
        ],
        [
         "40",
         "207.1036503157712"
        ],
        [
         "41",
         "29.978440907560934"
        ],
        [
         "42",
         "262.15680836907694"
        ],
        [
         "43",
         "417.0269614070108"
        ],
        [
         "44",
         "586.513931705178"
        ],
        [
         "45",
         "406.9650473049465"
        ],
        [
         "46",
         "736.715413664617"
        ],
        [
         "47",
         "536.6520709526545"
        ],
        [
         "48",
         "340.62101531120385"
        ],
        [
         "49",
         "531.3782291242961"
        ]
       ],
       "shape": {
        "columns": 1,
        "rows": 1675
       }
      },
      "text/html": [
       "<div>\n",
       "<style scoped>\n",
       "    .dataframe tbody tr th:only-of-type {\n",
       "        vertical-align: middle;\n",
       "    }\n",
       "\n",
       "    .dataframe tbody tr th {\n",
       "        vertical-align: top;\n",
       "    }\n",
       "\n",
       "    .dataframe thead th {\n",
       "        text-align: right;\n",
       "    }\n",
       "</style>\n",
       "<table border=\"1\" class=\"dataframe\">\n",
       "  <thead>\n",
       "    <tr style=\"text-align: right;\">\n",
       "      <th></th>\n",
       "      <th>y_predicted</th>\n",
       "    </tr>\n",
       "  </thead>\n",
       "  <tbody>\n",
       "    <tr>\n",
       "      <th>0</th>\n",
       "      <td>83.982063</td>\n",
       "    </tr>\n",
       "    <tr>\n",
       "      <th>1</th>\n",
       "      <td>454.274817</td>\n",
       "    </tr>\n",
       "    <tr>\n",
       "      <th>2</th>\n",
       "      <td>544.745163</td>\n",
       "    </tr>\n",
       "    <tr>\n",
       "      <th>3</th>\n",
       "      <td>732.311007</td>\n",
       "    </tr>\n",
       "    <tr>\n",
       "      <th>4</th>\n",
       "      <td>736.397403</td>\n",
       "    </tr>\n",
       "    <tr>\n",
       "      <th>...</th>\n",
       "      <td>...</td>\n",
       "    </tr>\n",
       "    <tr>\n",
       "      <th>1670</th>\n",
       "      <td>166.190994</td>\n",
       "    </tr>\n",
       "    <tr>\n",
       "      <th>1671</th>\n",
       "      <td>71.133935</td>\n",
       "    </tr>\n",
       "    <tr>\n",
       "      <th>1672</th>\n",
       "      <td>183.973765</td>\n",
       "    </tr>\n",
       "    <tr>\n",
       "      <th>1673</th>\n",
       "      <td>12.397548</td>\n",
       "    </tr>\n",
       "    <tr>\n",
       "      <th>1674</th>\n",
       "      <td>43.494341</td>\n",
       "    </tr>\n",
       "  </tbody>\n",
       "</table>\n",
       "<p>1675 rows × 1 columns</p>\n",
       "</div>"
      ],
      "text/plain": [
       "      y_predicted\n",
       "0       83.982063\n",
       "1      454.274817\n",
       "2      544.745163\n",
       "3      732.311007\n",
       "4      736.397403\n",
       "...           ...\n",
       "1670   166.190994\n",
       "1671    71.133935\n",
       "1672   183.973765\n",
       "1673    12.397548\n",
       "1674    43.494341\n",
       "\n",
       "[1675 rows x 1 columns]"
      ]
     },
     "execution_count": 277,
     "metadata": {},
     "output_type": "execute_result"
    }
   ],
   "source": [
    "y_pred"
   ]
  },
  {
   "cell_type": "code",
   "execution_count": 282,
   "id": "1da36f84",
   "metadata": {},
   "outputs": [],
   "source": [
    "y_pred.to_csv('predicted_prices_of_testdata.csv',index=False)"
   ]
  }
 ],
 "metadata": {
  "kernelspec": {
   "display_name": "Python 3",
   "language": "python",
   "name": "python3"
  },
  "language_info": {
   "codemirror_mode": {
    "name": "ipython",
    "version": 3
   },
   "file_extension": ".py",
   "mimetype": "text/x-python",
   "name": "python",
   "nbconvert_exporter": "python",
   "pygments_lexer": "ipython3",
   "version": "3.13.1"
  }
 },
 "nbformat": 4,
 "nbformat_minor": 5
}
